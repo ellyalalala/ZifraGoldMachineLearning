{
 "cells": [
  {
   "cell_type": "markdown",
   "metadata": {
    "toc": true
   },
   "source": [
    "<h1>Содержание<span class=\"tocSkip\"></span></h1>\n",
    "<div class=\"toc\"><ul class=\"toc-item\"><li><span><a href=\"#Подготовка-данных\" data-toc-modified-id=\"Подготовка-данных-1\"><span class=\"toc-item-num\">1&nbsp;&nbsp;</span>Подготовка данных</a></span></li><li><span><a href=\"#Анализ-данных\" data-toc-modified-id=\"Анализ-данных-2\"><span class=\"toc-item-num\">2&nbsp;&nbsp;</span>Анализ данных</a></span><ul class=\"toc-item\"><li><span><a href=\"#Проверьте,-что-эффективность-обогащения-рассчитана-правильно.-Вычислите-её-на-обучающей-выборке\" data-toc-modified-id=\"Проверьте,-что-эффективность-обогащения-рассчитана-правильно.-Вычислите-её-на-обучающей-выборке-2.1\"><span class=\"toc-item-num\">2.1&nbsp;&nbsp;</span>Проверьте, что эффективность обогащения рассчитана правильно. Вычислите её на обучающей выборке</a></span></li><li><span><a href=\"#Проанализируйте-признаки,-недоступные-в-тестовой-выборке.\" data-toc-modified-id=\"Проанализируйте-признаки,-недоступные-в-тестовой-выборке.-2.2\"><span class=\"toc-item-num\">2.2&nbsp;&nbsp;</span>Проанализируйте признаки, недоступные в тестовой выборке.</a></span></li><li><span><a href=\"#Посмотрите,-как-меняется-концентрация-металлов-(Au,-Ag,-Pb)-на-различных-этапах-очистки.\" data-toc-modified-id=\"Посмотрите,-как-меняется-концентрация-металлов-(Au,-Ag,-Pb)-на-различных-этапах-очистки.-2.3\"><span class=\"toc-item-num\">2.3&nbsp;&nbsp;</span>Посмотрите, как меняется концентрация металлов (Au, Ag, Pb) на различных этапах очистки.</a></span></li><li><span><a href=\"#Сравните-распределения-размеров-гранул-сырья-на-обучающей-и-тестовой-выборках.-Если-распределения-сильно-отличаются-друг-от-друга,-оценка-модели-будет-неправильной.\" data-toc-modified-id=\"Сравните-распределения-размеров-гранул-сырья-на-обучающей-и-тестовой-выборках.-Если-распределения-сильно-отличаются-друг-от-друга,-оценка-модели-будет-неправильной.-2.4\"><span class=\"toc-item-num\">2.4&nbsp;&nbsp;</span>Сравните распределения размеров гранул сырья на обучающей и тестовой выборках. Если распределения сильно отличаются друг от друга, оценка модели будет неправильной.</a></span></li><li><span><a href=\"#Исследуйте-суммарную-концентрацию-всех-веществ-на-разных-стадиях:-в-сырье,-в-черновом-и-финальном-концентратах.\" data-toc-modified-id=\"Исследуйте-суммарную-концентрацию-всех-веществ-на-разных-стадиях:-в-сырье,-в-черновом-и-финальном-концентратах.-2.5\"><span class=\"toc-item-num\">2.5&nbsp;&nbsp;</span>Исследуйте суммарную концентрацию всех веществ на разных стадиях: в сырье, в черновом и финальном концентратах.</a></span></li></ul></li><li><span><a href=\"#Модель\" data-toc-modified-id=\"Модель-3\"><span class=\"toc-item-num\">3&nbsp;&nbsp;</span>Модель</a></span><ul class=\"toc-item\"><li><span><a href=\"#Обучите-разные-модели-и-оцените-их-качество-кросс-валидацией.-Выберите-лучшую-модель-и-проверьте-её-на-тестовой-выборке.\" data-toc-modified-id=\"Обучите-разные-модели-и-оцените-их-качество-кросс-валидацией.-Выберите-лучшую-модель-и-проверьте-её-на-тестовой-выборке.-3.1\"><span class=\"toc-item-num\">3.1&nbsp;&nbsp;</span>Обучите разные модели и оцените их качество кросс-валидацией. Выберите лучшую модель и проверьте её на тестовой выборке.</a></span></li><li><span><a href=\"#Напишите-функцию-для-вычисления-итоговой-sMAPE.\" data-toc-modified-id=\"Напишите-функцию-для-вычисления-итоговой-sMAPE.-3.2\"><span class=\"toc-item-num\">3.2&nbsp;&nbsp;</span>Напишите функцию для вычисления итоговой sMAPE.</a></span><ul class=\"toc-item\"><li><span><a href=\"#Линейная\" data-toc-modified-id=\"Линейная-3.2.1\"><span class=\"toc-item-num\">3.2.1&nbsp;&nbsp;</span>Линейная</a></span></li><li><span><a href=\"#Дерево\" data-toc-modified-id=\"Дерево-3.2.2\"><span class=\"toc-item-num\">3.2.2&nbsp;&nbsp;</span>Дерево</a></span></li><li><span><a href=\"#Лес\" data-toc-modified-id=\"Лес-3.2.3\"><span class=\"toc-item-num\">3.2.3&nbsp;&nbsp;</span>Лес</a></span></li><li><span><a href=\"#Итоговые-smape\" data-toc-modified-id=\"Итоговые-smape-3.2.4\"><span class=\"toc-item-num\">3.2.4&nbsp;&nbsp;</span>Итоговые smape</a></span></li></ul></li><li><span><a href=\"#Тестовая-выборка\" data-toc-modified-id=\"Тестовая-выборка-3.3\"><span class=\"toc-item-num\">3.3&nbsp;&nbsp;</span>Тестовая выборка</a></span></li></ul></li><li><span><a href=\"#Вывод\" data-toc-modified-id=\"Вывод-4\"><span class=\"toc-item-num\">4&nbsp;&nbsp;</span>Вывод</a></span></li><li><span><a href=\"#Чек-лист-готовности-проекта\" data-toc-modified-id=\"Чек-лист-готовности-проекта-5\"><span class=\"toc-item-num\">5&nbsp;&nbsp;</span>Чек-лист готовности проекта</a></span></li></ul></div>"
   ]
  },
  {
   "cell_type": "markdown",
   "metadata": {},
   "source": [
    "# Восстановление золота из руды"
   ]
  },
  {
   "cell_type": "markdown",
   "metadata": {},
   "source": [
    "Подготовьте прототип модели машинного обучения для «Цифры». Компания разрабатывает решения для эффективной работы промышленных предприятий.\n",
    "\n",
    "Модель должна предсказать коэффициент восстановления золота из золотосодержащей руды. Используйте данные с параметрами добычи и очистки. \n",
    "\n",
    "Модель поможет оптимизировать производство, чтобы не запускать предприятие с убыточными характеристиками.\n",
    "\n",
    "Вам нужно:\n",
    "\n",
    "1. Подготовить данные;\n",
    "2. Провести исследовательский анализ данных;\n",
    "3. Построить и обучить модель.\n",
    "\n",
    "Чтобы выполнить проект, обращайтесь к библиотекам *pandas*, *matplotlib* и *sklearn.* Вам поможет их документация."
   ]
  },
  {
   "cell_type": "markdown",
   "metadata": {},
   "source": [
    "## Подготовка данных"
   ]
  },
  {
   "cell_type": "code",
   "execution_count": 1,
   "metadata": {},
   "outputs": [],
   "source": [
    "import pandas as pd\n",
    "import seaborn as sns\n",
    "import numpy as np\n",
    "\n",
    "from sklearn.model_selection import train_test_split, cross_val_score\n",
    "from sklearn.linear_model import LinearRegression\n",
    "from sklearn.model_selection import cross_val_score\n",
    "from sklearn.tree import DecisionTreeRegressor\n",
    "from sklearn.ensemble import RandomForestRegressor\n",
    "from sklearn.model_selection import GridSearchCV\n",
    "from sklearn.metrics import make_scorer, mean_absolute_error\n",
    "from sklearn.dummy import DummyRegressor\n",
    "\n",
    "from numpy.random import RandomState\n",
    "from matplotlib import pyplot as plt\n",
    "# вроде так"
   ]
  },
  {
   "cell_type": "markdown",
   "metadata": {},
   "source": [
    "<font color='blue'><b>Комментарий ревьюера: </b></font> ✔️ <br>\n",
    "<font color='green'>Здорово, что все импорты находятся в одной ячейке.<br>\n",
    "Если хочешь сделать ещё лучше, соблюдай стандарт PEP-8, разбей импорты на функциональные группы, раздели группы пустой строкой. Можно в каждой группе отсортировать импорты в алфавитном порядке.<br>\n",
    "Ссылка для ознакомления: https://pythonworld.ru/osnovy/pep-8-rukovodstvo-po-napisaniyu-koda-na-python.html\n",
    "</font>"
   ]
  },
  {
   "cell_type": "markdown",
   "metadata": {},
   "source": [
    "<font color='blue'><b>Комментарий ревьюера 2: </b></font> ✔️\\\n",
    "<font color='green'>👍</font>"
   ]
  },
  {
   "cell_type": "code",
   "execution_count": 2,
   "metadata": {},
   "outputs": [],
   "source": [
    "data_train = pd.read_csv('/datasets/gold_recovery_train_new.csv')\n",
    "data_test = pd.read_csv('/datasets/gold_recovery_test_new.csv')\n",
    "data_full = pd.read_csv('/datasets/gold_recovery_full_new.csv')"
   ]
  },
  {
   "cell_type": "code",
   "execution_count": 3,
   "metadata": {},
   "outputs": [
    {
     "data": {
      "text/html": [
       "<div>\n",
       "<style scoped>\n",
       "    .dataframe tbody tr th:only-of-type {\n",
       "        vertical-align: middle;\n",
       "    }\n",
       "\n",
       "    .dataframe tbody tr th {\n",
       "        vertical-align: top;\n",
       "    }\n",
       "\n",
       "    .dataframe thead th {\n",
       "        text-align: right;\n",
       "    }\n",
       "</style>\n",
       "<table border=\"1\" class=\"dataframe\">\n",
       "  <thead>\n",
       "    <tr style=\"text-align: right;\">\n",
       "      <th></th>\n",
       "      <th>date</th>\n",
       "      <th>final.output.concentrate_ag</th>\n",
       "      <th>final.output.concentrate_pb</th>\n",
       "      <th>final.output.concentrate_sol</th>\n",
       "      <th>final.output.concentrate_au</th>\n",
       "      <th>final.output.recovery</th>\n",
       "      <th>final.output.tail_ag</th>\n",
       "      <th>final.output.tail_pb</th>\n",
       "      <th>final.output.tail_sol</th>\n",
       "      <th>final.output.tail_au</th>\n",
       "      <th>...</th>\n",
       "      <th>secondary_cleaner.state.floatbank4_a_air</th>\n",
       "      <th>secondary_cleaner.state.floatbank4_a_level</th>\n",
       "      <th>secondary_cleaner.state.floatbank4_b_air</th>\n",
       "      <th>secondary_cleaner.state.floatbank4_b_level</th>\n",
       "      <th>secondary_cleaner.state.floatbank5_a_air</th>\n",
       "      <th>secondary_cleaner.state.floatbank5_a_level</th>\n",
       "      <th>secondary_cleaner.state.floatbank5_b_air</th>\n",
       "      <th>secondary_cleaner.state.floatbank5_b_level</th>\n",
       "      <th>secondary_cleaner.state.floatbank6_a_air</th>\n",
       "      <th>secondary_cleaner.state.floatbank6_a_level</th>\n",
       "    </tr>\n",
       "  </thead>\n",
       "  <tbody>\n",
       "    <tr>\n",
       "      <th>0</th>\n",
       "      <td>2016-01-15 00:00:00</td>\n",
       "      <td>6.055403</td>\n",
       "      <td>9.889648</td>\n",
       "      <td>5.507324</td>\n",
       "      <td>42.192020</td>\n",
       "      <td>70.541216</td>\n",
       "      <td>10.411962</td>\n",
       "      <td>0.895447</td>\n",
       "      <td>16.904297</td>\n",
       "      <td>2.143149</td>\n",
       "      <td>...</td>\n",
       "      <td>14.016835</td>\n",
       "      <td>-502.488007</td>\n",
       "      <td>12.099931</td>\n",
       "      <td>-504.715942</td>\n",
       "      <td>9.925633</td>\n",
       "      <td>-498.310211</td>\n",
       "      <td>8.079666</td>\n",
       "      <td>-500.470978</td>\n",
       "      <td>14.151341</td>\n",
       "      <td>-605.841980</td>\n",
       "    </tr>\n",
       "    <tr>\n",
       "      <th>1</th>\n",
       "      <td>2016-01-15 01:00:00</td>\n",
       "      <td>6.029369</td>\n",
       "      <td>9.968944</td>\n",
       "      <td>5.257781</td>\n",
       "      <td>42.701629</td>\n",
       "      <td>69.266198</td>\n",
       "      <td>10.462676</td>\n",
       "      <td>0.927452</td>\n",
       "      <td>16.634514</td>\n",
       "      <td>2.224930</td>\n",
       "      <td>...</td>\n",
       "      <td>13.992281</td>\n",
       "      <td>-505.503262</td>\n",
       "      <td>11.950531</td>\n",
       "      <td>-501.331529</td>\n",
       "      <td>10.039245</td>\n",
       "      <td>-500.169983</td>\n",
       "      <td>7.984757</td>\n",
       "      <td>-500.582168</td>\n",
       "      <td>13.998353</td>\n",
       "      <td>-599.787184</td>\n",
       "    </tr>\n",
       "  </tbody>\n",
       "</table>\n",
       "<p>2 rows × 87 columns</p>\n",
       "</div>"
      ],
      "text/plain": [
       "                  date  final.output.concentrate_ag  \\\n",
       "0  2016-01-15 00:00:00                     6.055403   \n",
       "1  2016-01-15 01:00:00                     6.029369   \n",
       "\n",
       "   final.output.concentrate_pb  final.output.concentrate_sol  \\\n",
       "0                     9.889648                      5.507324   \n",
       "1                     9.968944                      5.257781   \n",
       "\n",
       "   final.output.concentrate_au  final.output.recovery  final.output.tail_ag  \\\n",
       "0                    42.192020              70.541216             10.411962   \n",
       "1                    42.701629              69.266198             10.462676   \n",
       "\n",
       "   final.output.tail_pb  final.output.tail_sol  final.output.tail_au  ...  \\\n",
       "0              0.895447              16.904297              2.143149  ...   \n",
       "1              0.927452              16.634514              2.224930  ...   \n",
       "\n",
       "   secondary_cleaner.state.floatbank4_a_air  \\\n",
       "0                                 14.016835   \n",
       "1                                 13.992281   \n",
       "\n",
       "   secondary_cleaner.state.floatbank4_a_level  \\\n",
       "0                                 -502.488007   \n",
       "1                                 -505.503262   \n",
       "\n",
       "   secondary_cleaner.state.floatbank4_b_air  \\\n",
       "0                                 12.099931   \n",
       "1                                 11.950531   \n",
       "\n",
       "   secondary_cleaner.state.floatbank4_b_level  \\\n",
       "0                                 -504.715942   \n",
       "1                                 -501.331529   \n",
       "\n",
       "   secondary_cleaner.state.floatbank5_a_air  \\\n",
       "0                                  9.925633   \n",
       "1                                 10.039245   \n",
       "\n",
       "   secondary_cleaner.state.floatbank5_a_level  \\\n",
       "0                                 -498.310211   \n",
       "1                                 -500.169983   \n",
       "\n",
       "   secondary_cleaner.state.floatbank5_b_air  \\\n",
       "0                                  8.079666   \n",
       "1                                  7.984757   \n",
       "\n",
       "   secondary_cleaner.state.floatbank5_b_level  \\\n",
       "0                                 -500.470978   \n",
       "1                                 -500.582168   \n",
       "\n",
       "   secondary_cleaner.state.floatbank6_a_air  \\\n",
       "0                                 14.151341   \n",
       "1                                 13.998353   \n",
       "\n",
       "   secondary_cleaner.state.floatbank6_a_level  \n",
       "0                                 -605.841980  \n",
       "1                                 -599.787184  \n",
       "\n",
       "[2 rows x 87 columns]"
      ]
     },
     "execution_count": 3,
     "metadata": {},
     "output_type": "execute_result"
    }
   ],
   "source": [
    "data_train.head(2)\n"
   ]
  },
  {
   "cell_type": "code",
   "execution_count": 4,
   "metadata": {},
   "outputs": [
    {
     "data": {
      "text/html": [
       "<div>\n",
       "<style scoped>\n",
       "    .dataframe tbody tr th:only-of-type {\n",
       "        vertical-align: middle;\n",
       "    }\n",
       "\n",
       "    .dataframe tbody tr th {\n",
       "        vertical-align: top;\n",
       "    }\n",
       "\n",
       "    .dataframe thead th {\n",
       "        text-align: right;\n",
       "    }\n",
       "</style>\n",
       "<table border=\"1\" class=\"dataframe\">\n",
       "  <thead>\n",
       "    <tr style=\"text-align: right;\">\n",
       "      <th></th>\n",
       "      <th>date</th>\n",
       "      <th>primary_cleaner.input.sulfate</th>\n",
       "      <th>primary_cleaner.input.depressant</th>\n",
       "      <th>primary_cleaner.input.feed_size</th>\n",
       "      <th>primary_cleaner.input.xanthate</th>\n",
       "      <th>primary_cleaner.state.floatbank8_a_air</th>\n",
       "      <th>primary_cleaner.state.floatbank8_a_level</th>\n",
       "      <th>primary_cleaner.state.floatbank8_b_air</th>\n",
       "      <th>primary_cleaner.state.floatbank8_b_level</th>\n",
       "      <th>primary_cleaner.state.floatbank8_c_air</th>\n",
       "      <th>...</th>\n",
       "      <th>secondary_cleaner.state.floatbank4_a_air</th>\n",
       "      <th>secondary_cleaner.state.floatbank4_a_level</th>\n",
       "      <th>secondary_cleaner.state.floatbank4_b_air</th>\n",
       "      <th>secondary_cleaner.state.floatbank4_b_level</th>\n",
       "      <th>secondary_cleaner.state.floatbank5_a_air</th>\n",
       "      <th>secondary_cleaner.state.floatbank5_a_level</th>\n",
       "      <th>secondary_cleaner.state.floatbank5_b_air</th>\n",
       "      <th>secondary_cleaner.state.floatbank5_b_level</th>\n",
       "      <th>secondary_cleaner.state.floatbank6_a_air</th>\n",
       "      <th>secondary_cleaner.state.floatbank6_a_level</th>\n",
       "    </tr>\n",
       "  </thead>\n",
       "  <tbody>\n",
       "    <tr>\n",
       "      <th>0</th>\n",
       "      <td>2016-09-01 00:59:59</td>\n",
       "      <td>210.800909</td>\n",
       "      <td>14.993118</td>\n",
       "      <td>8.08</td>\n",
       "      <td>1.005021</td>\n",
       "      <td>1398.981301</td>\n",
       "      <td>-500.225577</td>\n",
       "      <td>1399.144926</td>\n",
       "      <td>-499.919735</td>\n",
       "      <td>1400.102998</td>\n",
       "      <td>...</td>\n",
       "      <td>12.023554</td>\n",
       "      <td>-497.795834</td>\n",
       "      <td>8.016656</td>\n",
       "      <td>-501.289139</td>\n",
       "      <td>7.946562</td>\n",
       "      <td>-432.317850</td>\n",
       "      <td>4.872511</td>\n",
       "      <td>-500.037437</td>\n",
       "      <td>26.705889</td>\n",
       "      <td>-499.709414</td>\n",
       "    </tr>\n",
       "    <tr>\n",
       "      <th>1</th>\n",
       "      <td>2016-09-01 01:59:59</td>\n",
       "      <td>215.392455</td>\n",
       "      <td>14.987471</td>\n",
       "      <td>8.08</td>\n",
       "      <td>0.990469</td>\n",
       "      <td>1398.777912</td>\n",
       "      <td>-500.057435</td>\n",
       "      <td>1398.055362</td>\n",
       "      <td>-499.778182</td>\n",
       "      <td>1396.151033</td>\n",
       "      <td>...</td>\n",
       "      <td>12.058140</td>\n",
       "      <td>-498.695773</td>\n",
       "      <td>8.130979</td>\n",
       "      <td>-499.634209</td>\n",
       "      <td>7.958270</td>\n",
       "      <td>-525.839648</td>\n",
       "      <td>4.878850</td>\n",
       "      <td>-500.162375</td>\n",
       "      <td>25.019940</td>\n",
       "      <td>-499.819438</td>\n",
       "    </tr>\n",
       "  </tbody>\n",
       "</table>\n",
       "<p>2 rows × 53 columns</p>\n",
       "</div>"
      ],
      "text/plain": [
       "                  date  primary_cleaner.input.sulfate  \\\n",
       "0  2016-09-01 00:59:59                     210.800909   \n",
       "1  2016-09-01 01:59:59                     215.392455   \n",
       "\n",
       "   primary_cleaner.input.depressant  primary_cleaner.input.feed_size  \\\n",
       "0                         14.993118                             8.08   \n",
       "1                         14.987471                             8.08   \n",
       "\n",
       "   primary_cleaner.input.xanthate  primary_cleaner.state.floatbank8_a_air  \\\n",
       "0                        1.005021                             1398.981301   \n",
       "1                        0.990469                             1398.777912   \n",
       "\n",
       "   primary_cleaner.state.floatbank8_a_level  \\\n",
       "0                               -500.225577   \n",
       "1                               -500.057435   \n",
       "\n",
       "   primary_cleaner.state.floatbank8_b_air  \\\n",
       "0                             1399.144926   \n",
       "1                             1398.055362   \n",
       "\n",
       "   primary_cleaner.state.floatbank8_b_level  \\\n",
       "0                               -499.919735   \n",
       "1                               -499.778182   \n",
       "\n",
       "   primary_cleaner.state.floatbank8_c_air  ...  \\\n",
       "0                             1400.102998  ...   \n",
       "1                             1396.151033  ...   \n",
       "\n",
       "   secondary_cleaner.state.floatbank4_a_air  \\\n",
       "0                                 12.023554   \n",
       "1                                 12.058140   \n",
       "\n",
       "   secondary_cleaner.state.floatbank4_a_level  \\\n",
       "0                                 -497.795834   \n",
       "1                                 -498.695773   \n",
       "\n",
       "   secondary_cleaner.state.floatbank4_b_air  \\\n",
       "0                                  8.016656   \n",
       "1                                  8.130979   \n",
       "\n",
       "   secondary_cleaner.state.floatbank4_b_level  \\\n",
       "0                                 -501.289139   \n",
       "1                                 -499.634209   \n",
       "\n",
       "   secondary_cleaner.state.floatbank5_a_air  \\\n",
       "0                                  7.946562   \n",
       "1                                  7.958270   \n",
       "\n",
       "   secondary_cleaner.state.floatbank5_a_level  \\\n",
       "0                                 -432.317850   \n",
       "1                                 -525.839648   \n",
       "\n",
       "   secondary_cleaner.state.floatbank5_b_air  \\\n",
       "0                                  4.872511   \n",
       "1                                  4.878850   \n",
       "\n",
       "   secondary_cleaner.state.floatbank5_b_level  \\\n",
       "0                                 -500.037437   \n",
       "1                                 -500.162375   \n",
       "\n",
       "   secondary_cleaner.state.floatbank6_a_air  \\\n",
       "0                                 26.705889   \n",
       "1                                 25.019940   \n",
       "\n",
       "   secondary_cleaner.state.floatbank6_a_level  \n",
       "0                                 -499.709414  \n",
       "1                                 -499.819438  \n",
       "\n",
       "[2 rows x 53 columns]"
      ]
     },
     "execution_count": 4,
     "metadata": {},
     "output_type": "execute_result"
    }
   ],
   "source": [
    "data_test.head(2)\n"
   ]
  },
  {
   "cell_type": "code",
   "execution_count": 5,
   "metadata": {},
   "outputs": [
    {
     "data": {
      "text/html": [
       "<div>\n",
       "<style scoped>\n",
       "    .dataframe tbody tr th:only-of-type {\n",
       "        vertical-align: middle;\n",
       "    }\n",
       "\n",
       "    .dataframe tbody tr th {\n",
       "        vertical-align: top;\n",
       "    }\n",
       "\n",
       "    .dataframe thead th {\n",
       "        text-align: right;\n",
       "    }\n",
       "</style>\n",
       "<table border=\"1\" class=\"dataframe\">\n",
       "  <thead>\n",
       "    <tr style=\"text-align: right;\">\n",
       "      <th></th>\n",
       "      <th>date</th>\n",
       "      <th>final.output.concentrate_ag</th>\n",
       "      <th>final.output.concentrate_pb</th>\n",
       "      <th>final.output.concentrate_sol</th>\n",
       "      <th>final.output.concentrate_au</th>\n",
       "      <th>final.output.recovery</th>\n",
       "      <th>final.output.tail_ag</th>\n",
       "      <th>final.output.tail_pb</th>\n",
       "      <th>final.output.tail_sol</th>\n",
       "      <th>final.output.tail_au</th>\n",
       "      <th>...</th>\n",
       "      <th>secondary_cleaner.state.floatbank4_a_air</th>\n",
       "      <th>secondary_cleaner.state.floatbank4_a_level</th>\n",
       "      <th>secondary_cleaner.state.floatbank4_b_air</th>\n",
       "      <th>secondary_cleaner.state.floatbank4_b_level</th>\n",
       "      <th>secondary_cleaner.state.floatbank5_a_air</th>\n",
       "      <th>secondary_cleaner.state.floatbank5_a_level</th>\n",
       "      <th>secondary_cleaner.state.floatbank5_b_air</th>\n",
       "      <th>secondary_cleaner.state.floatbank5_b_level</th>\n",
       "      <th>secondary_cleaner.state.floatbank6_a_air</th>\n",
       "      <th>secondary_cleaner.state.floatbank6_a_level</th>\n",
       "    </tr>\n",
       "  </thead>\n",
       "  <tbody>\n",
       "    <tr>\n",
       "      <th>0</th>\n",
       "      <td>2016-01-15 00:00:00</td>\n",
       "      <td>6.055403</td>\n",
       "      <td>9.889648</td>\n",
       "      <td>5.507324</td>\n",
       "      <td>42.192020</td>\n",
       "      <td>70.541216</td>\n",
       "      <td>10.411962</td>\n",
       "      <td>0.895447</td>\n",
       "      <td>16.904297</td>\n",
       "      <td>2.143149</td>\n",
       "      <td>...</td>\n",
       "      <td>14.016835</td>\n",
       "      <td>-502.488007</td>\n",
       "      <td>12.099931</td>\n",
       "      <td>-504.715942</td>\n",
       "      <td>9.925633</td>\n",
       "      <td>-498.310211</td>\n",
       "      <td>8.079666</td>\n",
       "      <td>-500.470978</td>\n",
       "      <td>14.151341</td>\n",
       "      <td>-605.841980</td>\n",
       "    </tr>\n",
       "    <tr>\n",
       "      <th>1</th>\n",
       "      <td>2016-01-15 01:00:00</td>\n",
       "      <td>6.029369</td>\n",
       "      <td>9.968944</td>\n",
       "      <td>5.257781</td>\n",
       "      <td>42.701629</td>\n",
       "      <td>69.266198</td>\n",
       "      <td>10.462676</td>\n",
       "      <td>0.927452</td>\n",
       "      <td>16.634514</td>\n",
       "      <td>2.224930</td>\n",
       "      <td>...</td>\n",
       "      <td>13.992281</td>\n",
       "      <td>-505.503262</td>\n",
       "      <td>11.950531</td>\n",
       "      <td>-501.331529</td>\n",
       "      <td>10.039245</td>\n",
       "      <td>-500.169983</td>\n",
       "      <td>7.984757</td>\n",
       "      <td>-500.582168</td>\n",
       "      <td>13.998353</td>\n",
       "      <td>-599.787184</td>\n",
       "    </tr>\n",
       "  </tbody>\n",
       "</table>\n",
       "<p>2 rows × 87 columns</p>\n",
       "</div>"
      ],
      "text/plain": [
       "                  date  final.output.concentrate_ag  \\\n",
       "0  2016-01-15 00:00:00                     6.055403   \n",
       "1  2016-01-15 01:00:00                     6.029369   \n",
       "\n",
       "   final.output.concentrate_pb  final.output.concentrate_sol  \\\n",
       "0                     9.889648                      5.507324   \n",
       "1                     9.968944                      5.257781   \n",
       "\n",
       "   final.output.concentrate_au  final.output.recovery  final.output.tail_ag  \\\n",
       "0                    42.192020              70.541216             10.411962   \n",
       "1                    42.701629              69.266198             10.462676   \n",
       "\n",
       "   final.output.tail_pb  final.output.tail_sol  final.output.tail_au  ...  \\\n",
       "0              0.895447              16.904297              2.143149  ...   \n",
       "1              0.927452              16.634514              2.224930  ...   \n",
       "\n",
       "   secondary_cleaner.state.floatbank4_a_air  \\\n",
       "0                                 14.016835   \n",
       "1                                 13.992281   \n",
       "\n",
       "   secondary_cleaner.state.floatbank4_a_level  \\\n",
       "0                                 -502.488007   \n",
       "1                                 -505.503262   \n",
       "\n",
       "   secondary_cleaner.state.floatbank4_b_air  \\\n",
       "0                                 12.099931   \n",
       "1                                 11.950531   \n",
       "\n",
       "   secondary_cleaner.state.floatbank4_b_level  \\\n",
       "0                                 -504.715942   \n",
       "1                                 -501.331529   \n",
       "\n",
       "   secondary_cleaner.state.floatbank5_a_air  \\\n",
       "0                                  9.925633   \n",
       "1                                 10.039245   \n",
       "\n",
       "   secondary_cleaner.state.floatbank5_a_level  \\\n",
       "0                                 -498.310211   \n",
       "1                                 -500.169983   \n",
       "\n",
       "   secondary_cleaner.state.floatbank5_b_air  \\\n",
       "0                                  8.079666   \n",
       "1                                  7.984757   \n",
       "\n",
       "   secondary_cleaner.state.floatbank5_b_level  \\\n",
       "0                                 -500.470978   \n",
       "1                                 -500.582168   \n",
       "\n",
       "   secondary_cleaner.state.floatbank6_a_air  \\\n",
       "0                                 14.151341   \n",
       "1                                 13.998353   \n",
       "\n",
       "   secondary_cleaner.state.floatbank6_a_level  \n",
       "0                                 -605.841980  \n",
       "1                                 -599.787184  \n",
       "\n",
       "[2 rows x 87 columns]"
      ]
     },
     "execution_count": 5,
     "metadata": {},
     "output_type": "execute_result"
    }
   ],
   "source": [
    "data_full.head(2)"
   ]
  },
  {
   "cell_type": "code",
   "execution_count": 6,
   "metadata": {},
   "outputs": [
    {
     "name": "stdout",
     "output_type": "stream",
     "text": [
      "<class 'pandas.core.frame.DataFrame'>\n",
      "RangeIndex: 14149 entries, 0 to 14148\n",
      "Data columns (total 87 columns):\n",
      " #   Column                                              Non-Null Count  Dtype  \n",
      "---  ------                                              --------------  -----  \n",
      " 0   date                                                14149 non-null  object \n",
      " 1   final.output.concentrate_ag                         14148 non-null  float64\n",
      " 2   final.output.concentrate_pb                         14148 non-null  float64\n",
      " 3   final.output.concentrate_sol                        13938 non-null  float64\n",
      " 4   final.output.concentrate_au                         14149 non-null  float64\n",
      " 5   final.output.recovery                               14149 non-null  float64\n",
      " 6   final.output.tail_ag                                14149 non-null  float64\n",
      " 7   final.output.tail_pb                                14049 non-null  float64\n",
      " 8   final.output.tail_sol                               14144 non-null  float64\n",
      " 9   final.output.tail_au                                14149 non-null  float64\n",
      " 10  primary_cleaner.input.sulfate                       14129 non-null  float64\n",
      " 11  primary_cleaner.input.depressant                    14117 non-null  float64\n",
      " 12  primary_cleaner.input.feed_size                     14149 non-null  float64\n",
      " 13  primary_cleaner.input.xanthate                      14049 non-null  float64\n",
      " 14  primary_cleaner.output.concentrate_ag               14149 non-null  float64\n",
      " 15  primary_cleaner.output.concentrate_pb               14063 non-null  float64\n",
      " 16  primary_cleaner.output.concentrate_sol              13863 non-null  float64\n",
      " 17  primary_cleaner.output.concentrate_au               14149 non-null  float64\n",
      " 18  primary_cleaner.output.tail_ag                      14148 non-null  float64\n",
      " 19  primary_cleaner.output.tail_pb                      14134 non-null  float64\n",
      " 20  primary_cleaner.output.tail_sol                     14103 non-null  float64\n",
      " 21  primary_cleaner.output.tail_au                      14149 non-null  float64\n",
      " 22  primary_cleaner.state.floatbank8_a_air              14145 non-null  float64\n",
      " 23  primary_cleaner.state.floatbank8_a_level            14148 non-null  float64\n",
      " 24  primary_cleaner.state.floatbank8_b_air              14145 non-null  float64\n",
      " 25  primary_cleaner.state.floatbank8_b_level            14148 non-null  float64\n",
      " 26  primary_cleaner.state.floatbank8_c_air              14147 non-null  float64\n",
      " 27  primary_cleaner.state.floatbank8_c_level            14148 non-null  float64\n",
      " 28  primary_cleaner.state.floatbank8_d_air              14146 non-null  float64\n",
      " 29  primary_cleaner.state.floatbank8_d_level            14148 non-null  float64\n",
      " 30  rougher.calculation.sulfate_to_au_concentrate       14148 non-null  float64\n",
      " 31  rougher.calculation.floatbank10_sulfate_to_au_feed  14148 non-null  float64\n",
      " 32  rougher.calculation.floatbank11_sulfate_to_au_feed  14148 non-null  float64\n",
      " 33  rougher.calculation.au_pb_ratio                     14149 non-null  float64\n",
      " 34  rougher.input.feed_ag                               14149 non-null  float64\n",
      " 35  rougher.input.feed_pb                               14049 non-null  float64\n",
      " 36  rougher.input.feed_rate                             14141 non-null  float64\n",
      " 37  rougher.input.feed_size                             14005 non-null  float64\n",
      " 38  rougher.input.feed_sol                              14071 non-null  float64\n",
      " 39  rougher.input.feed_au                               14149 non-null  float64\n",
      " 40  rougher.input.floatbank10_sulfate                   14120 non-null  float64\n",
      " 41  rougher.input.floatbank10_xanthate                  14141 non-null  float64\n",
      " 42  rougher.input.floatbank11_sulfate                   14113 non-null  float64\n",
      " 43  rougher.input.floatbank11_xanthate                  13721 non-null  float64\n",
      " 44  rougher.output.concentrate_ag                       14149 non-null  float64\n",
      " 45  rougher.output.concentrate_pb                       14149 non-null  float64\n",
      " 46  rougher.output.concentrate_sol                      14127 non-null  float64\n",
      " 47  rougher.output.concentrate_au                       14149 non-null  float64\n",
      " 48  rougher.output.recovery                             14149 non-null  float64\n",
      " 49  rougher.output.tail_ag                              14148 non-null  float64\n",
      " 50  rougher.output.tail_pb                              14149 non-null  float64\n",
      " 51  rougher.output.tail_sol                             14149 non-null  float64\n",
      " 52  rougher.output.tail_au                              14149 non-null  float64\n",
      " 53  rougher.state.floatbank10_a_air                     14148 non-null  float64\n",
      " 54  rougher.state.floatbank10_a_level                   14148 non-null  float64\n",
      " 55  rougher.state.floatbank10_b_air                     14148 non-null  float64\n",
      " 56  rougher.state.floatbank10_b_level                   14148 non-null  float64\n",
      " 57  rougher.state.floatbank10_c_air                     14148 non-null  float64\n",
      " 58  rougher.state.floatbank10_c_level                   14148 non-null  float64\n",
      " 59  rougher.state.floatbank10_d_air                     14149 non-null  float64\n",
      " 60  rougher.state.floatbank10_d_level                   14149 non-null  float64\n",
      " 61  rougher.state.floatbank10_e_air                     13713 non-null  float64\n",
      " 62  rougher.state.floatbank10_e_level                   14149 non-null  float64\n",
      " 63  rougher.state.floatbank10_f_air                     14149 non-null  float64\n",
      " 64  rougher.state.floatbank10_f_level                   14149 non-null  float64\n",
      " 65  secondary_cleaner.output.tail_ag                    14147 non-null  float64\n",
      " 66  secondary_cleaner.output.tail_pb                    14139 non-null  float64\n",
      " 67  secondary_cleaner.output.tail_sol                   12544 non-null  float64\n",
      " 68  secondary_cleaner.output.tail_au                    14149 non-null  float64\n",
      " 69  secondary_cleaner.state.floatbank2_a_air            13932 non-null  float64\n",
      " 70  secondary_cleaner.state.floatbank2_a_level          14148 non-null  float64\n",
      " 71  secondary_cleaner.state.floatbank2_b_air            14128 non-null  float64\n",
      " 72  secondary_cleaner.state.floatbank2_b_level          14148 non-null  float64\n",
      " 73  secondary_cleaner.state.floatbank3_a_air            14145 non-null  float64\n",
      " 74  secondary_cleaner.state.floatbank3_a_level          14148 non-null  float64\n",
      " 75  secondary_cleaner.state.floatbank3_b_air            14148 non-null  float64\n",
      " 76  secondary_cleaner.state.floatbank3_b_level          14148 non-null  float64\n",
      " 77  secondary_cleaner.state.floatbank4_a_air            14143 non-null  float64\n",
      " 78  secondary_cleaner.state.floatbank4_a_level          14148 non-null  float64\n",
      " 79  secondary_cleaner.state.floatbank4_b_air            14148 non-null  float64\n",
      " 80  secondary_cleaner.state.floatbank4_b_level          14148 non-null  float64\n",
      " 81  secondary_cleaner.state.floatbank5_a_air            14148 non-null  float64\n",
      " 82  secondary_cleaner.state.floatbank5_a_level          14148 non-null  float64\n",
      " 83  secondary_cleaner.state.floatbank5_b_air            14148 non-null  float64\n",
      " 84  secondary_cleaner.state.floatbank5_b_level          14148 non-null  float64\n",
      " 85  secondary_cleaner.state.floatbank6_a_air            14147 non-null  float64\n",
      " 86  secondary_cleaner.state.floatbank6_a_level          14148 non-null  float64\n",
      "dtypes: float64(86), object(1)\n",
      "memory usage: 9.4+ MB\n"
     ]
    }
   ],
   "source": [
    "data_train.info()"
   ]
  },
  {
   "cell_type": "code",
   "execution_count": 7,
   "metadata": {},
   "outputs": [
    {
     "name": "stdout",
     "output_type": "stream",
     "text": [
      "<class 'pandas.core.frame.DataFrame'>\n",
      "RangeIndex: 5290 entries, 0 to 5289\n",
      "Data columns (total 53 columns):\n",
      " #   Column                                      Non-Null Count  Dtype  \n",
      "---  ------                                      --------------  -----  \n",
      " 0   date                                        5290 non-null   object \n",
      " 1   primary_cleaner.input.sulfate               5286 non-null   float64\n",
      " 2   primary_cleaner.input.depressant            5285 non-null   float64\n",
      " 3   primary_cleaner.input.feed_size             5290 non-null   float64\n",
      " 4   primary_cleaner.input.xanthate              5286 non-null   float64\n",
      " 5   primary_cleaner.state.floatbank8_a_air      5290 non-null   float64\n",
      " 6   primary_cleaner.state.floatbank8_a_level    5290 non-null   float64\n",
      " 7   primary_cleaner.state.floatbank8_b_air      5290 non-null   float64\n",
      " 8   primary_cleaner.state.floatbank8_b_level    5290 non-null   float64\n",
      " 9   primary_cleaner.state.floatbank8_c_air      5290 non-null   float64\n",
      " 10  primary_cleaner.state.floatbank8_c_level    5290 non-null   float64\n",
      " 11  primary_cleaner.state.floatbank8_d_air      5290 non-null   float64\n",
      " 12  primary_cleaner.state.floatbank8_d_level    5290 non-null   float64\n",
      " 13  rougher.input.feed_ag                       5290 non-null   float64\n",
      " 14  rougher.input.feed_pb                       5290 non-null   float64\n",
      " 15  rougher.input.feed_rate                     5287 non-null   float64\n",
      " 16  rougher.input.feed_size                     5289 non-null   float64\n",
      " 17  rougher.input.feed_sol                      5269 non-null   float64\n",
      " 18  rougher.input.feed_au                       5290 non-null   float64\n",
      " 19  rougher.input.floatbank10_sulfate           5285 non-null   float64\n",
      " 20  rougher.input.floatbank10_xanthate          5290 non-null   float64\n",
      " 21  rougher.input.floatbank11_sulfate           5282 non-null   float64\n",
      " 22  rougher.input.floatbank11_xanthate          5265 non-null   float64\n",
      " 23  rougher.state.floatbank10_a_air             5290 non-null   float64\n",
      " 24  rougher.state.floatbank10_a_level           5290 non-null   float64\n",
      " 25  rougher.state.floatbank10_b_air             5290 non-null   float64\n",
      " 26  rougher.state.floatbank10_b_level           5290 non-null   float64\n",
      " 27  rougher.state.floatbank10_c_air             5290 non-null   float64\n",
      " 28  rougher.state.floatbank10_c_level           5290 non-null   float64\n",
      " 29  rougher.state.floatbank10_d_air             5290 non-null   float64\n",
      " 30  rougher.state.floatbank10_d_level           5290 non-null   float64\n",
      " 31  rougher.state.floatbank10_e_air             5290 non-null   float64\n",
      " 32  rougher.state.floatbank10_e_level           5290 non-null   float64\n",
      " 33  rougher.state.floatbank10_f_air             5290 non-null   float64\n",
      " 34  rougher.state.floatbank10_f_level           5290 non-null   float64\n",
      " 35  secondary_cleaner.state.floatbank2_a_air    5287 non-null   float64\n",
      " 36  secondary_cleaner.state.floatbank2_a_level  5290 non-null   float64\n",
      " 37  secondary_cleaner.state.floatbank2_b_air    5288 non-null   float64\n",
      " 38  secondary_cleaner.state.floatbank2_b_level  5290 non-null   float64\n",
      " 39  secondary_cleaner.state.floatbank3_a_air    5281 non-null   float64\n",
      " 40  secondary_cleaner.state.floatbank3_a_level  5290 non-null   float64\n",
      " 41  secondary_cleaner.state.floatbank3_b_air    5290 non-null   float64\n",
      " 42  secondary_cleaner.state.floatbank3_b_level  5290 non-null   float64\n",
      " 43  secondary_cleaner.state.floatbank4_a_air    5290 non-null   float64\n",
      " 44  secondary_cleaner.state.floatbank4_a_level  5290 non-null   float64\n",
      " 45  secondary_cleaner.state.floatbank4_b_air    5290 non-null   float64\n",
      " 46  secondary_cleaner.state.floatbank4_b_level  5290 non-null   float64\n",
      " 47  secondary_cleaner.state.floatbank5_a_air    5290 non-null   float64\n",
      " 48  secondary_cleaner.state.floatbank5_a_level  5290 non-null   float64\n",
      " 49  secondary_cleaner.state.floatbank5_b_air    5290 non-null   float64\n",
      " 50  secondary_cleaner.state.floatbank5_b_level  5290 non-null   float64\n",
      " 51  secondary_cleaner.state.floatbank6_a_air    5290 non-null   float64\n",
      " 52  secondary_cleaner.state.floatbank6_a_level  5290 non-null   float64\n",
      "dtypes: float64(52), object(1)\n",
      "memory usage: 2.1+ MB\n"
     ]
    }
   ],
   "source": [
    "data_test.info()"
   ]
  },
  {
   "cell_type": "code",
   "execution_count": 8,
   "metadata": {},
   "outputs": [
    {
     "name": "stdout",
     "output_type": "stream",
     "text": [
      "<class 'pandas.core.frame.DataFrame'>\n",
      "RangeIndex: 19439 entries, 0 to 19438\n",
      "Data columns (total 87 columns):\n",
      " #   Column                                              Non-Null Count  Dtype  \n",
      "---  ------                                              --------------  -----  \n",
      " 0   date                                                19439 non-null  object \n",
      " 1   final.output.concentrate_ag                         19438 non-null  float64\n",
      " 2   final.output.concentrate_pb                         19438 non-null  float64\n",
      " 3   final.output.concentrate_sol                        19228 non-null  float64\n",
      " 4   final.output.concentrate_au                         19439 non-null  float64\n",
      " 5   final.output.recovery                               19439 non-null  float64\n",
      " 6   final.output.tail_ag                                19438 non-null  float64\n",
      " 7   final.output.tail_pb                                19338 non-null  float64\n",
      " 8   final.output.tail_sol                               19433 non-null  float64\n",
      " 9   final.output.tail_au                                19439 non-null  float64\n",
      " 10  primary_cleaner.input.sulfate                       19415 non-null  float64\n",
      " 11  primary_cleaner.input.depressant                    19402 non-null  float64\n",
      " 12  primary_cleaner.input.feed_size                     19439 non-null  float64\n",
      " 13  primary_cleaner.input.xanthate                      19335 non-null  float64\n",
      " 14  primary_cleaner.output.concentrate_ag               19439 non-null  float64\n",
      " 15  primary_cleaner.output.concentrate_pb               19323 non-null  float64\n",
      " 16  primary_cleaner.output.concentrate_sol              19069 non-null  float64\n",
      " 17  primary_cleaner.output.concentrate_au               19439 non-null  float64\n",
      " 18  primary_cleaner.output.tail_ag                      19435 non-null  float64\n",
      " 19  primary_cleaner.output.tail_pb                      19418 non-null  float64\n",
      " 20  primary_cleaner.output.tail_sol                     19377 non-null  float64\n",
      " 21  primary_cleaner.output.tail_au                      19439 non-null  float64\n",
      " 22  primary_cleaner.state.floatbank8_a_air              19435 non-null  float64\n",
      " 23  primary_cleaner.state.floatbank8_a_level            19438 non-null  float64\n",
      " 24  primary_cleaner.state.floatbank8_b_air              19435 non-null  float64\n",
      " 25  primary_cleaner.state.floatbank8_b_level            19438 non-null  float64\n",
      " 26  primary_cleaner.state.floatbank8_c_air              19437 non-null  float64\n",
      " 27  primary_cleaner.state.floatbank8_c_level            19438 non-null  float64\n",
      " 28  primary_cleaner.state.floatbank8_d_air              19436 non-null  float64\n",
      " 29  primary_cleaner.state.floatbank8_d_level            19438 non-null  float64\n",
      " 30  rougher.calculation.sulfate_to_au_concentrate       19437 non-null  float64\n",
      " 31  rougher.calculation.floatbank10_sulfate_to_au_feed  19437 non-null  float64\n",
      " 32  rougher.calculation.floatbank11_sulfate_to_au_feed  19437 non-null  float64\n",
      " 33  rougher.calculation.au_pb_ratio                     19439 non-null  float64\n",
      " 34  rougher.input.feed_ag                               19439 non-null  float64\n",
      " 35  rougher.input.feed_pb                               19339 non-null  float64\n",
      " 36  rougher.input.feed_rate                             19428 non-null  float64\n",
      " 37  rougher.input.feed_size                             19294 non-null  float64\n",
      " 38  rougher.input.feed_sol                              19340 non-null  float64\n",
      " 39  rougher.input.feed_au                               19439 non-null  float64\n",
      " 40  rougher.input.floatbank10_sulfate                   19405 non-null  float64\n",
      " 41  rougher.input.floatbank10_xanthate                  19431 non-null  float64\n",
      " 42  rougher.input.floatbank11_sulfate                   19395 non-null  float64\n",
      " 43  rougher.input.floatbank11_xanthate                  18986 non-null  float64\n",
      " 44  rougher.output.concentrate_ag                       19439 non-null  float64\n",
      " 45  rougher.output.concentrate_pb                       19439 non-null  float64\n",
      " 46  rougher.output.concentrate_sol                      19416 non-null  float64\n",
      " 47  rougher.output.concentrate_au                       19439 non-null  float64\n",
      " 48  rougher.output.recovery                             19439 non-null  float64\n",
      " 49  rougher.output.tail_ag                              19438 non-null  float64\n",
      " 50  rougher.output.tail_pb                              19439 non-null  float64\n",
      " 51  rougher.output.tail_sol                             19439 non-null  float64\n",
      " 52  rougher.output.tail_au                              19439 non-null  float64\n",
      " 53  rougher.state.floatbank10_a_air                     19438 non-null  float64\n",
      " 54  rougher.state.floatbank10_a_level                   19438 non-null  float64\n",
      " 55  rougher.state.floatbank10_b_air                     19438 non-null  float64\n",
      " 56  rougher.state.floatbank10_b_level                   19438 non-null  float64\n",
      " 57  rougher.state.floatbank10_c_air                     19438 non-null  float64\n",
      " 58  rougher.state.floatbank10_c_level                   19438 non-null  float64\n",
      " 59  rougher.state.floatbank10_d_air                     19439 non-null  float64\n",
      " 60  rougher.state.floatbank10_d_level                   19439 non-null  float64\n",
      " 61  rougher.state.floatbank10_e_air                     19003 non-null  float64\n",
      " 62  rougher.state.floatbank10_e_level                   19439 non-null  float64\n",
      " 63  rougher.state.floatbank10_f_air                     19439 non-null  float64\n",
      " 64  rougher.state.floatbank10_f_level                   19439 non-null  float64\n",
      " 65  secondary_cleaner.output.tail_ag                    19437 non-null  float64\n",
      " 66  secondary_cleaner.output.tail_pb                    19427 non-null  float64\n",
      " 67  secondary_cleaner.output.tail_sol                   17691 non-null  float64\n",
      " 68  secondary_cleaner.output.tail_au                    19439 non-null  float64\n",
      " 69  secondary_cleaner.state.floatbank2_a_air            19219 non-null  float64\n",
      " 70  secondary_cleaner.state.floatbank2_a_level          19438 non-null  float64\n",
      " 71  secondary_cleaner.state.floatbank2_b_air            19416 non-null  float64\n",
      " 72  secondary_cleaner.state.floatbank2_b_level          19438 non-null  float64\n",
      " 73  secondary_cleaner.state.floatbank3_a_air            19426 non-null  float64\n",
      " 74  secondary_cleaner.state.floatbank3_a_level          19438 non-null  float64\n",
      " 75  secondary_cleaner.state.floatbank3_b_air            19438 non-null  float64\n",
      " 76  secondary_cleaner.state.floatbank3_b_level          19438 non-null  float64\n",
      " 77  secondary_cleaner.state.floatbank4_a_air            19433 non-null  float64\n",
      " 78  secondary_cleaner.state.floatbank4_a_level          19438 non-null  float64\n",
      " 79  secondary_cleaner.state.floatbank4_b_air            19438 non-null  float64\n",
      " 80  secondary_cleaner.state.floatbank4_b_level          19438 non-null  float64\n",
      " 81  secondary_cleaner.state.floatbank5_a_air            19438 non-null  float64\n",
      " 82  secondary_cleaner.state.floatbank5_a_level          19438 non-null  float64\n",
      " 83  secondary_cleaner.state.floatbank5_b_air            19438 non-null  float64\n",
      " 84  secondary_cleaner.state.floatbank5_b_level          19438 non-null  float64\n",
      " 85  secondary_cleaner.state.floatbank6_a_air            19437 non-null  float64\n",
      " 86  secondary_cleaner.state.floatbank6_a_level          19438 non-null  float64\n",
      "dtypes: float64(86), object(1)\n",
      "memory usage: 12.9+ MB\n"
     ]
    }
   ],
   "source": [
    "data_full.info()"
   ]
  },
  {
   "cell_type": "code",
   "execution_count": 9,
   "metadata": {},
   "outputs": [],
   "source": [
    "# изменим тип столбца с датой\n",
    "data_train['date'] = pd.to_datetime(data_train['date'], format='%Y-%m-%d %H:%M:%S')\n",
    "#data_train.dtypes\n",
    "data_test['date'] = pd.to_datetime(data_test['date'], format='%Y-%m-%d %H:%M:%S')\n",
    "#data_test.dtypes\n",
    "data_full['date'] = pd.to_datetime(data_full['date'], format='%Y-%m-%d %H:%M:%S')\n",
    "#data_full.dtypes"
   ]
  },
  {
   "cell_type": "code",
   "execution_count": 10,
   "metadata": {},
   "outputs": [
    {
     "name": "stdout",
     "output_type": "stream",
     "text": [
      "Дубликаты в 1 датасете -  0\n",
      "Дубликаты в 2 датасете -  0\n",
      "Дубликаты в 3 датасете -  0\n"
     ]
    }
   ],
   "source": [
    "#  количесвто дубликатов\n",
    "i = 0\n",
    "for data in [data_train, data_test, data_full]:\n",
    "    i += 1\n",
    "    print(f'Дубликаты в {i} датасете - ',data.duplicated().sum())"
   ]
  },
  {
   "cell_type": "code",
   "execution_count": 11,
   "metadata": {},
   "outputs": [
    {
     "data": {
      "text/html": [
       "<style  type=\"text/css\" >\n",
       "#T_f495f_row0_col0,#T_f495f_row1_col0,#T_f495f_row2_col0,#T_f495f_row4_col0,#T_f495f_row5_col0,#T_f495f_row6_col0,#T_f495f_row8_col0,#T_f495f_row9_col0,#T_f495f_row12_col0,#T_f495f_row14_col0,#T_f495f_row17_col0,#T_f495f_row18_col0,#T_f495f_row21_col0,#T_f495f_row22_col0,#T_f495f_row23_col0,#T_f495f_row24_col0,#T_f495f_row25_col0,#T_f495f_row26_col0,#T_f495f_row27_col0,#T_f495f_row28_col0,#T_f495f_row29_col0,#T_f495f_row30_col0,#T_f495f_row31_col0,#T_f495f_row32_col0,#T_f495f_row33_col0,#T_f495f_row34_col0,#T_f495f_row39_col0,#T_f495f_row44_col0,#T_f495f_row45_col0,#T_f495f_row47_col0,#T_f495f_row48_col0,#T_f495f_row49_col0,#T_f495f_row50_col0,#T_f495f_row51_col0,#T_f495f_row52_col0,#T_f495f_row53_col0,#T_f495f_row54_col0,#T_f495f_row55_col0,#T_f495f_row56_col0,#T_f495f_row57_col0,#T_f495f_row58_col0,#T_f495f_row59_col0,#T_f495f_row60_col0,#T_f495f_row62_col0,#T_f495f_row63_col0,#T_f495f_row64_col0,#T_f495f_row65_col0,#T_f495f_row68_col0,#T_f495f_row70_col0,#T_f495f_row72_col0,#T_f495f_row73_col0,#T_f495f_row74_col0,#T_f495f_row75_col0,#T_f495f_row76_col0,#T_f495f_row77_col0,#T_f495f_row78_col0,#T_f495f_row79_col0,#T_f495f_row80_col0,#T_f495f_row81_col0,#T_f495f_row82_col0,#T_f495f_row83_col0,#T_f495f_row84_col0,#T_f495f_row85_col0,#T_f495f_row86_col0{\n",
       "            background-color:  #fff7fb;\n",
       "            color:  #000000;\n",
       "        }#T_f495f_row3_col0{\n",
       "            background-color:  #ebe6f2;\n",
       "            color:  #000000;\n",
       "        }#T_f495f_row7_col0,#T_f495f_row13_col0,#T_f495f_row35_col0{\n",
       "            background-color:  #f6eff7;\n",
       "            color:  #000000;\n",
       "        }#T_f495f_row10_col0,#T_f495f_row40_col0,#T_f495f_row46_col0,#T_f495f_row71_col0{\n",
       "            background-color:  #fdf5fa;\n",
       "            color:  #000000;\n",
       "        }#T_f495f_row11_col0,#T_f495f_row42_col0{\n",
       "            background-color:  #fcf4fa;\n",
       "            color:  #000000;\n",
       "        }#T_f495f_row15_col0{\n",
       "            background-color:  #f7f0f7;\n",
       "            color:  #000000;\n",
       "        }#T_f495f_row16_col0{\n",
       "            background-color:  #e0deed;\n",
       "            color:  #000000;\n",
       "        }#T_f495f_row19_col0{\n",
       "            background-color:  #fef6fa;\n",
       "            color:  #000000;\n",
       "        }#T_f495f_row20_col0{\n",
       "            background-color:  #fbf3f9;\n",
       "            color:  #000000;\n",
       "        }#T_f495f_row36_col0,#T_f495f_row41_col0,#T_f495f_row66_col0{\n",
       "            background-color:  #fef6fb;\n",
       "            color:  #000000;\n",
       "        }#T_f495f_row37_col0{\n",
       "            background-color:  #f2ecf5;\n",
       "            color:  #000000;\n",
       "        }#T_f495f_row38_col0{\n",
       "            background-color:  #f8f1f8;\n",
       "            color:  #000000;\n",
       "        }#T_f495f_row43_col0{\n",
       "            background-color:  #cacee5;\n",
       "            color:  #000000;\n",
       "        }#T_f495f_row61_col0{\n",
       "            background-color:  #c9cee4;\n",
       "            color:  #000000;\n",
       "        }#T_f495f_row67_col0{\n",
       "            background-color:  #023858;\n",
       "            color:  #f1f1f1;\n",
       "        }#T_f495f_row69_col0{\n",
       "            background-color:  #eae6f1;\n",
       "            color:  #000000;\n",
       "        }</style><table id=\"T_f495f_\" ><thead>    <tr>        <th class=\"blank level0\" ></th>        <th class=\"col_heading level0 col0\" >пропусков</th>    </tr></thead><tbody>\n",
       "                <tr>\n",
       "                        <th id=\"T_f495f_level0_row0\" class=\"row_heading level0 row0\" >date</th>\n",
       "                        <td id=\"T_f495f_row0_col0\" class=\"data row0 col0\" >0</td>\n",
       "            </tr>\n",
       "            <tr>\n",
       "                        <th id=\"T_f495f_level0_row1\" class=\"row_heading level0 row1\" >final.output.concentrate_ag</th>\n",
       "                        <td id=\"T_f495f_row1_col0\" class=\"data row1 col0\" >1</td>\n",
       "            </tr>\n",
       "            <tr>\n",
       "                        <th id=\"T_f495f_level0_row2\" class=\"row_heading level0 row2\" >final.output.concentrate_pb</th>\n",
       "                        <td id=\"T_f495f_row2_col0\" class=\"data row2 col0\" >1</td>\n",
       "            </tr>\n",
       "            <tr>\n",
       "                        <th id=\"T_f495f_level0_row3\" class=\"row_heading level0 row3\" >final.output.concentrate_sol</th>\n",
       "                        <td id=\"T_f495f_row3_col0\" class=\"data row3 col0\" >211</td>\n",
       "            </tr>\n",
       "            <tr>\n",
       "                        <th id=\"T_f495f_level0_row4\" class=\"row_heading level0 row4\" >final.output.concentrate_au</th>\n",
       "                        <td id=\"T_f495f_row4_col0\" class=\"data row4 col0\" >0</td>\n",
       "            </tr>\n",
       "            <tr>\n",
       "                        <th id=\"T_f495f_level0_row5\" class=\"row_heading level0 row5\" >final.output.recovery</th>\n",
       "                        <td id=\"T_f495f_row5_col0\" class=\"data row5 col0\" >0</td>\n",
       "            </tr>\n",
       "            <tr>\n",
       "                        <th id=\"T_f495f_level0_row6\" class=\"row_heading level0 row6\" >final.output.tail_ag</th>\n",
       "                        <td id=\"T_f495f_row6_col0\" class=\"data row6 col0\" >0</td>\n",
       "            </tr>\n",
       "            <tr>\n",
       "                        <th id=\"T_f495f_level0_row7\" class=\"row_heading level0 row7\" >final.output.tail_pb</th>\n",
       "                        <td id=\"T_f495f_row7_col0\" class=\"data row7 col0\" >100</td>\n",
       "            </tr>\n",
       "            <tr>\n",
       "                        <th id=\"T_f495f_level0_row8\" class=\"row_heading level0 row8\" >final.output.tail_sol</th>\n",
       "                        <td id=\"T_f495f_row8_col0\" class=\"data row8 col0\" >5</td>\n",
       "            </tr>\n",
       "            <tr>\n",
       "                        <th id=\"T_f495f_level0_row9\" class=\"row_heading level0 row9\" >final.output.tail_au</th>\n",
       "                        <td id=\"T_f495f_row9_col0\" class=\"data row9 col0\" >0</td>\n",
       "            </tr>\n",
       "            <tr>\n",
       "                        <th id=\"T_f495f_level0_row10\" class=\"row_heading level0 row10\" >primary_cleaner.input.sulfate</th>\n",
       "                        <td id=\"T_f495f_row10_col0\" class=\"data row10 col0\" >20</td>\n",
       "            </tr>\n",
       "            <tr>\n",
       "                        <th id=\"T_f495f_level0_row11\" class=\"row_heading level0 row11\" >primary_cleaner.input.depressant</th>\n",
       "                        <td id=\"T_f495f_row11_col0\" class=\"data row11 col0\" >32</td>\n",
       "            </tr>\n",
       "            <tr>\n",
       "                        <th id=\"T_f495f_level0_row12\" class=\"row_heading level0 row12\" >primary_cleaner.input.feed_size</th>\n",
       "                        <td id=\"T_f495f_row12_col0\" class=\"data row12 col0\" >0</td>\n",
       "            </tr>\n",
       "            <tr>\n",
       "                        <th id=\"T_f495f_level0_row13\" class=\"row_heading level0 row13\" >primary_cleaner.input.xanthate</th>\n",
       "                        <td id=\"T_f495f_row13_col0\" class=\"data row13 col0\" >100</td>\n",
       "            </tr>\n",
       "            <tr>\n",
       "                        <th id=\"T_f495f_level0_row14\" class=\"row_heading level0 row14\" >primary_cleaner.output.concentrate_ag</th>\n",
       "                        <td id=\"T_f495f_row14_col0\" class=\"data row14 col0\" >0</td>\n",
       "            </tr>\n",
       "            <tr>\n",
       "                        <th id=\"T_f495f_level0_row15\" class=\"row_heading level0 row15\" >primary_cleaner.output.concentrate_pb</th>\n",
       "                        <td id=\"T_f495f_row15_col0\" class=\"data row15 col0\" >86</td>\n",
       "            </tr>\n",
       "            <tr>\n",
       "                        <th id=\"T_f495f_level0_row16\" class=\"row_heading level0 row16\" >primary_cleaner.output.concentrate_sol</th>\n",
       "                        <td id=\"T_f495f_row16_col0\" class=\"data row16 col0\" >286</td>\n",
       "            </tr>\n",
       "            <tr>\n",
       "                        <th id=\"T_f495f_level0_row17\" class=\"row_heading level0 row17\" >primary_cleaner.output.concentrate_au</th>\n",
       "                        <td id=\"T_f495f_row17_col0\" class=\"data row17 col0\" >0</td>\n",
       "            </tr>\n",
       "            <tr>\n",
       "                        <th id=\"T_f495f_level0_row18\" class=\"row_heading level0 row18\" >primary_cleaner.output.tail_ag</th>\n",
       "                        <td id=\"T_f495f_row18_col0\" class=\"data row18 col0\" >1</td>\n",
       "            </tr>\n",
       "            <tr>\n",
       "                        <th id=\"T_f495f_level0_row19\" class=\"row_heading level0 row19\" >primary_cleaner.output.tail_pb</th>\n",
       "                        <td id=\"T_f495f_row19_col0\" class=\"data row19 col0\" >15</td>\n",
       "            </tr>\n",
       "            <tr>\n",
       "                        <th id=\"T_f495f_level0_row20\" class=\"row_heading level0 row20\" >primary_cleaner.output.tail_sol</th>\n",
       "                        <td id=\"T_f495f_row20_col0\" class=\"data row20 col0\" >46</td>\n",
       "            </tr>\n",
       "            <tr>\n",
       "                        <th id=\"T_f495f_level0_row21\" class=\"row_heading level0 row21\" >primary_cleaner.output.tail_au</th>\n",
       "                        <td id=\"T_f495f_row21_col0\" class=\"data row21 col0\" >0</td>\n",
       "            </tr>\n",
       "            <tr>\n",
       "                        <th id=\"T_f495f_level0_row22\" class=\"row_heading level0 row22\" >primary_cleaner.state.floatbank8_a_air</th>\n",
       "                        <td id=\"T_f495f_row22_col0\" class=\"data row22 col0\" >4</td>\n",
       "            </tr>\n",
       "            <tr>\n",
       "                        <th id=\"T_f495f_level0_row23\" class=\"row_heading level0 row23\" >primary_cleaner.state.floatbank8_a_level</th>\n",
       "                        <td id=\"T_f495f_row23_col0\" class=\"data row23 col0\" >1</td>\n",
       "            </tr>\n",
       "            <tr>\n",
       "                        <th id=\"T_f495f_level0_row24\" class=\"row_heading level0 row24\" >primary_cleaner.state.floatbank8_b_air</th>\n",
       "                        <td id=\"T_f495f_row24_col0\" class=\"data row24 col0\" >4</td>\n",
       "            </tr>\n",
       "            <tr>\n",
       "                        <th id=\"T_f495f_level0_row25\" class=\"row_heading level0 row25\" >primary_cleaner.state.floatbank8_b_level</th>\n",
       "                        <td id=\"T_f495f_row25_col0\" class=\"data row25 col0\" >1</td>\n",
       "            </tr>\n",
       "            <tr>\n",
       "                        <th id=\"T_f495f_level0_row26\" class=\"row_heading level0 row26\" >primary_cleaner.state.floatbank8_c_air</th>\n",
       "                        <td id=\"T_f495f_row26_col0\" class=\"data row26 col0\" >2</td>\n",
       "            </tr>\n",
       "            <tr>\n",
       "                        <th id=\"T_f495f_level0_row27\" class=\"row_heading level0 row27\" >primary_cleaner.state.floatbank8_c_level</th>\n",
       "                        <td id=\"T_f495f_row27_col0\" class=\"data row27 col0\" >1</td>\n",
       "            </tr>\n",
       "            <tr>\n",
       "                        <th id=\"T_f495f_level0_row28\" class=\"row_heading level0 row28\" >primary_cleaner.state.floatbank8_d_air</th>\n",
       "                        <td id=\"T_f495f_row28_col0\" class=\"data row28 col0\" >3</td>\n",
       "            </tr>\n",
       "            <tr>\n",
       "                        <th id=\"T_f495f_level0_row29\" class=\"row_heading level0 row29\" >primary_cleaner.state.floatbank8_d_level</th>\n",
       "                        <td id=\"T_f495f_row29_col0\" class=\"data row29 col0\" >1</td>\n",
       "            </tr>\n",
       "            <tr>\n",
       "                        <th id=\"T_f495f_level0_row30\" class=\"row_heading level0 row30\" >rougher.calculation.sulfate_to_au_concentrate</th>\n",
       "                        <td id=\"T_f495f_row30_col0\" class=\"data row30 col0\" >1</td>\n",
       "            </tr>\n",
       "            <tr>\n",
       "                        <th id=\"T_f495f_level0_row31\" class=\"row_heading level0 row31\" >rougher.calculation.floatbank10_sulfate_to_au_feed</th>\n",
       "                        <td id=\"T_f495f_row31_col0\" class=\"data row31 col0\" >1</td>\n",
       "            </tr>\n",
       "            <tr>\n",
       "                        <th id=\"T_f495f_level0_row32\" class=\"row_heading level0 row32\" >rougher.calculation.floatbank11_sulfate_to_au_feed</th>\n",
       "                        <td id=\"T_f495f_row32_col0\" class=\"data row32 col0\" >1</td>\n",
       "            </tr>\n",
       "            <tr>\n",
       "                        <th id=\"T_f495f_level0_row33\" class=\"row_heading level0 row33\" >rougher.calculation.au_pb_ratio</th>\n",
       "                        <td id=\"T_f495f_row33_col0\" class=\"data row33 col0\" >0</td>\n",
       "            </tr>\n",
       "            <tr>\n",
       "                        <th id=\"T_f495f_level0_row34\" class=\"row_heading level0 row34\" >rougher.input.feed_ag</th>\n",
       "                        <td id=\"T_f495f_row34_col0\" class=\"data row34 col0\" >0</td>\n",
       "            </tr>\n",
       "            <tr>\n",
       "                        <th id=\"T_f495f_level0_row35\" class=\"row_heading level0 row35\" >rougher.input.feed_pb</th>\n",
       "                        <td id=\"T_f495f_row35_col0\" class=\"data row35 col0\" >100</td>\n",
       "            </tr>\n",
       "            <tr>\n",
       "                        <th id=\"T_f495f_level0_row36\" class=\"row_heading level0 row36\" >rougher.input.feed_rate</th>\n",
       "                        <td id=\"T_f495f_row36_col0\" class=\"data row36 col0\" >8</td>\n",
       "            </tr>\n",
       "            <tr>\n",
       "                        <th id=\"T_f495f_level0_row37\" class=\"row_heading level0 row37\" >rougher.input.feed_size</th>\n",
       "                        <td id=\"T_f495f_row37_col0\" class=\"data row37 col0\" >144</td>\n",
       "            </tr>\n",
       "            <tr>\n",
       "                        <th id=\"T_f495f_level0_row38\" class=\"row_heading level0 row38\" >rougher.input.feed_sol</th>\n",
       "                        <td id=\"T_f495f_row38_col0\" class=\"data row38 col0\" >78</td>\n",
       "            </tr>\n",
       "            <tr>\n",
       "                        <th id=\"T_f495f_level0_row39\" class=\"row_heading level0 row39\" >rougher.input.feed_au</th>\n",
       "                        <td id=\"T_f495f_row39_col0\" class=\"data row39 col0\" >0</td>\n",
       "            </tr>\n",
       "            <tr>\n",
       "                        <th id=\"T_f495f_level0_row40\" class=\"row_heading level0 row40\" >rougher.input.floatbank10_sulfate</th>\n",
       "                        <td id=\"T_f495f_row40_col0\" class=\"data row40 col0\" >29</td>\n",
       "            </tr>\n",
       "            <tr>\n",
       "                        <th id=\"T_f495f_level0_row41\" class=\"row_heading level0 row41\" >rougher.input.floatbank10_xanthate</th>\n",
       "                        <td id=\"T_f495f_row41_col0\" class=\"data row41 col0\" >8</td>\n",
       "            </tr>\n",
       "            <tr>\n",
       "                        <th id=\"T_f495f_level0_row42\" class=\"row_heading level0 row42\" >rougher.input.floatbank11_sulfate</th>\n",
       "                        <td id=\"T_f495f_row42_col0\" class=\"data row42 col0\" >36</td>\n",
       "            </tr>\n",
       "            <tr>\n",
       "                        <th id=\"T_f495f_level0_row43\" class=\"row_heading level0 row43\" >rougher.input.floatbank11_xanthate</th>\n",
       "                        <td id=\"T_f495f_row43_col0\" class=\"data row43 col0\" >428</td>\n",
       "            </tr>\n",
       "            <tr>\n",
       "                        <th id=\"T_f495f_level0_row44\" class=\"row_heading level0 row44\" >rougher.output.concentrate_ag</th>\n",
       "                        <td id=\"T_f495f_row44_col0\" class=\"data row44 col0\" >0</td>\n",
       "            </tr>\n",
       "            <tr>\n",
       "                        <th id=\"T_f495f_level0_row45\" class=\"row_heading level0 row45\" >rougher.output.concentrate_pb</th>\n",
       "                        <td id=\"T_f495f_row45_col0\" class=\"data row45 col0\" >0</td>\n",
       "            </tr>\n",
       "            <tr>\n",
       "                        <th id=\"T_f495f_level0_row46\" class=\"row_heading level0 row46\" >rougher.output.concentrate_sol</th>\n",
       "                        <td id=\"T_f495f_row46_col0\" class=\"data row46 col0\" >22</td>\n",
       "            </tr>\n",
       "            <tr>\n",
       "                        <th id=\"T_f495f_level0_row47\" class=\"row_heading level0 row47\" >rougher.output.concentrate_au</th>\n",
       "                        <td id=\"T_f495f_row47_col0\" class=\"data row47 col0\" >0</td>\n",
       "            </tr>\n",
       "            <tr>\n",
       "                        <th id=\"T_f495f_level0_row48\" class=\"row_heading level0 row48\" >rougher.output.recovery</th>\n",
       "                        <td id=\"T_f495f_row48_col0\" class=\"data row48 col0\" >0</td>\n",
       "            </tr>\n",
       "            <tr>\n",
       "                        <th id=\"T_f495f_level0_row49\" class=\"row_heading level0 row49\" >rougher.output.tail_ag</th>\n",
       "                        <td id=\"T_f495f_row49_col0\" class=\"data row49 col0\" >1</td>\n",
       "            </tr>\n",
       "            <tr>\n",
       "                        <th id=\"T_f495f_level0_row50\" class=\"row_heading level0 row50\" >rougher.output.tail_pb</th>\n",
       "                        <td id=\"T_f495f_row50_col0\" class=\"data row50 col0\" >0</td>\n",
       "            </tr>\n",
       "            <tr>\n",
       "                        <th id=\"T_f495f_level0_row51\" class=\"row_heading level0 row51\" >rougher.output.tail_sol</th>\n",
       "                        <td id=\"T_f495f_row51_col0\" class=\"data row51 col0\" >0</td>\n",
       "            </tr>\n",
       "            <tr>\n",
       "                        <th id=\"T_f495f_level0_row52\" class=\"row_heading level0 row52\" >rougher.output.tail_au</th>\n",
       "                        <td id=\"T_f495f_row52_col0\" class=\"data row52 col0\" >0</td>\n",
       "            </tr>\n",
       "            <tr>\n",
       "                        <th id=\"T_f495f_level0_row53\" class=\"row_heading level0 row53\" >rougher.state.floatbank10_a_air</th>\n",
       "                        <td id=\"T_f495f_row53_col0\" class=\"data row53 col0\" >1</td>\n",
       "            </tr>\n",
       "            <tr>\n",
       "                        <th id=\"T_f495f_level0_row54\" class=\"row_heading level0 row54\" >rougher.state.floatbank10_a_level</th>\n",
       "                        <td id=\"T_f495f_row54_col0\" class=\"data row54 col0\" >1</td>\n",
       "            </tr>\n",
       "            <tr>\n",
       "                        <th id=\"T_f495f_level0_row55\" class=\"row_heading level0 row55\" >rougher.state.floatbank10_b_air</th>\n",
       "                        <td id=\"T_f495f_row55_col0\" class=\"data row55 col0\" >1</td>\n",
       "            </tr>\n",
       "            <tr>\n",
       "                        <th id=\"T_f495f_level0_row56\" class=\"row_heading level0 row56\" >rougher.state.floatbank10_b_level</th>\n",
       "                        <td id=\"T_f495f_row56_col0\" class=\"data row56 col0\" >1</td>\n",
       "            </tr>\n",
       "            <tr>\n",
       "                        <th id=\"T_f495f_level0_row57\" class=\"row_heading level0 row57\" >rougher.state.floatbank10_c_air</th>\n",
       "                        <td id=\"T_f495f_row57_col0\" class=\"data row57 col0\" >1</td>\n",
       "            </tr>\n",
       "            <tr>\n",
       "                        <th id=\"T_f495f_level0_row58\" class=\"row_heading level0 row58\" >rougher.state.floatbank10_c_level</th>\n",
       "                        <td id=\"T_f495f_row58_col0\" class=\"data row58 col0\" >1</td>\n",
       "            </tr>\n",
       "            <tr>\n",
       "                        <th id=\"T_f495f_level0_row59\" class=\"row_heading level0 row59\" >rougher.state.floatbank10_d_air</th>\n",
       "                        <td id=\"T_f495f_row59_col0\" class=\"data row59 col0\" >0</td>\n",
       "            </tr>\n",
       "            <tr>\n",
       "                        <th id=\"T_f495f_level0_row60\" class=\"row_heading level0 row60\" >rougher.state.floatbank10_d_level</th>\n",
       "                        <td id=\"T_f495f_row60_col0\" class=\"data row60 col0\" >0</td>\n",
       "            </tr>\n",
       "            <tr>\n",
       "                        <th id=\"T_f495f_level0_row61\" class=\"row_heading level0 row61\" >rougher.state.floatbank10_e_air</th>\n",
       "                        <td id=\"T_f495f_row61_col0\" class=\"data row61 col0\" >436</td>\n",
       "            </tr>\n",
       "            <tr>\n",
       "                        <th id=\"T_f495f_level0_row62\" class=\"row_heading level0 row62\" >rougher.state.floatbank10_e_level</th>\n",
       "                        <td id=\"T_f495f_row62_col0\" class=\"data row62 col0\" >0</td>\n",
       "            </tr>\n",
       "            <tr>\n",
       "                        <th id=\"T_f495f_level0_row63\" class=\"row_heading level0 row63\" >rougher.state.floatbank10_f_air</th>\n",
       "                        <td id=\"T_f495f_row63_col0\" class=\"data row63 col0\" >0</td>\n",
       "            </tr>\n",
       "            <tr>\n",
       "                        <th id=\"T_f495f_level0_row64\" class=\"row_heading level0 row64\" >rougher.state.floatbank10_f_level</th>\n",
       "                        <td id=\"T_f495f_row64_col0\" class=\"data row64 col0\" >0</td>\n",
       "            </tr>\n",
       "            <tr>\n",
       "                        <th id=\"T_f495f_level0_row65\" class=\"row_heading level0 row65\" >secondary_cleaner.output.tail_ag</th>\n",
       "                        <td id=\"T_f495f_row65_col0\" class=\"data row65 col0\" >2</td>\n",
       "            </tr>\n",
       "            <tr>\n",
       "                        <th id=\"T_f495f_level0_row66\" class=\"row_heading level0 row66\" >secondary_cleaner.output.tail_pb</th>\n",
       "                        <td id=\"T_f495f_row66_col0\" class=\"data row66 col0\" >10</td>\n",
       "            </tr>\n",
       "            <tr>\n",
       "                        <th id=\"T_f495f_level0_row67\" class=\"row_heading level0 row67\" >secondary_cleaner.output.tail_sol</th>\n",
       "                        <td id=\"T_f495f_row67_col0\" class=\"data row67 col0\" >1605</td>\n",
       "            </tr>\n",
       "            <tr>\n",
       "                        <th id=\"T_f495f_level0_row68\" class=\"row_heading level0 row68\" >secondary_cleaner.output.tail_au</th>\n",
       "                        <td id=\"T_f495f_row68_col0\" class=\"data row68 col0\" >0</td>\n",
       "            </tr>\n",
       "            <tr>\n",
       "                        <th id=\"T_f495f_level0_row69\" class=\"row_heading level0 row69\" >secondary_cleaner.state.floatbank2_a_air</th>\n",
       "                        <td id=\"T_f495f_row69_col0\" class=\"data row69 col0\" >217</td>\n",
       "            </tr>\n",
       "            <tr>\n",
       "                        <th id=\"T_f495f_level0_row70\" class=\"row_heading level0 row70\" >secondary_cleaner.state.floatbank2_a_level</th>\n",
       "                        <td id=\"T_f495f_row70_col0\" class=\"data row70 col0\" >1</td>\n",
       "            </tr>\n",
       "            <tr>\n",
       "                        <th id=\"T_f495f_level0_row71\" class=\"row_heading level0 row71\" >secondary_cleaner.state.floatbank2_b_air</th>\n",
       "                        <td id=\"T_f495f_row71_col0\" class=\"data row71 col0\" >21</td>\n",
       "            </tr>\n",
       "            <tr>\n",
       "                        <th id=\"T_f495f_level0_row72\" class=\"row_heading level0 row72\" >secondary_cleaner.state.floatbank2_b_level</th>\n",
       "                        <td id=\"T_f495f_row72_col0\" class=\"data row72 col0\" >1</td>\n",
       "            </tr>\n",
       "            <tr>\n",
       "                        <th id=\"T_f495f_level0_row73\" class=\"row_heading level0 row73\" >secondary_cleaner.state.floatbank3_a_air</th>\n",
       "                        <td id=\"T_f495f_row73_col0\" class=\"data row73 col0\" >4</td>\n",
       "            </tr>\n",
       "            <tr>\n",
       "                        <th id=\"T_f495f_level0_row74\" class=\"row_heading level0 row74\" >secondary_cleaner.state.floatbank3_a_level</th>\n",
       "                        <td id=\"T_f495f_row74_col0\" class=\"data row74 col0\" >1</td>\n",
       "            </tr>\n",
       "            <tr>\n",
       "                        <th id=\"T_f495f_level0_row75\" class=\"row_heading level0 row75\" >secondary_cleaner.state.floatbank3_b_air</th>\n",
       "                        <td id=\"T_f495f_row75_col0\" class=\"data row75 col0\" >1</td>\n",
       "            </tr>\n",
       "            <tr>\n",
       "                        <th id=\"T_f495f_level0_row76\" class=\"row_heading level0 row76\" >secondary_cleaner.state.floatbank3_b_level</th>\n",
       "                        <td id=\"T_f495f_row76_col0\" class=\"data row76 col0\" >1</td>\n",
       "            </tr>\n",
       "            <tr>\n",
       "                        <th id=\"T_f495f_level0_row77\" class=\"row_heading level0 row77\" >secondary_cleaner.state.floatbank4_a_air</th>\n",
       "                        <td id=\"T_f495f_row77_col0\" class=\"data row77 col0\" >6</td>\n",
       "            </tr>\n",
       "            <tr>\n",
       "                        <th id=\"T_f495f_level0_row78\" class=\"row_heading level0 row78\" >secondary_cleaner.state.floatbank4_a_level</th>\n",
       "                        <td id=\"T_f495f_row78_col0\" class=\"data row78 col0\" >1</td>\n",
       "            </tr>\n",
       "            <tr>\n",
       "                        <th id=\"T_f495f_level0_row79\" class=\"row_heading level0 row79\" >secondary_cleaner.state.floatbank4_b_air</th>\n",
       "                        <td id=\"T_f495f_row79_col0\" class=\"data row79 col0\" >1</td>\n",
       "            </tr>\n",
       "            <tr>\n",
       "                        <th id=\"T_f495f_level0_row80\" class=\"row_heading level0 row80\" >secondary_cleaner.state.floatbank4_b_level</th>\n",
       "                        <td id=\"T_f495f_row80_col0\" class=\"data row80 col0\" >1</td>\n",
       "            </tr>\n",
       "            <tr>\n",
       "                        <th id=\"T_f495f_level0_row81\" class=\"row_heading level0 row81\" >secondary_cleaner.state.floatbank5_a_air</th>\n",
       "                        <td id=\"T_f495f_row81_col0\" class=\"data row81 col0\" >1</td>\n",
       "            </tr>\n",
       "            <tr>\n",
       "                        <th id=\"T_f495f_level0_row82\" class=\"row_heading level0 row82\" >secondary_cleaner.state.floatbank5_a_level</th>\n",
       "                        <td id=\"T_f495f_row82_col0\" class=\"data row82 col0\" >1</td>\n",
       "            </tr>\n",
       "            <tr>\n",
       "                        <th id=\"T_f495f_level0_row83\" class=\"row_heading level0 row83\" >secondary_cleaner.state.floatbank5_b_air</th>\n",
       "                        <td id=\"T_f495f_row83_col0\" class=\"data row83 col0\" >1</td>\n",
       "            </tr>\n",
       "            <tr>\n",
       "                        <th id=\"T_f495f_level0_row84\" class=\"row_heading level0 row84\" >secondary_cleaner.state.floatbank5_b_level</th>\n",
       "                        <td id=\"T_f495f_row84_col0\" class=\"data row84 col0\" >1</td>\n",
       "            </tr>\n",
       "            <tr>\n",
       "                        <th id=\"T_f495f_level0_row85\" class=\"row_heading level0 row85\" >secondary_cleaner.state.floatbank6_a_air</th>\n",
       "                        <td id=\"T_f495f_row85_col0\" class=\"data row85 col0\" >2</td>\n",
       "            </tr>\n",
       "            <tr>\n",
       "                        <th id=\"T_f495f_level0_row86\" class=\"row_heading level0 row86\" >secondary_cleaner.state.floatbank6_a_level</th>\n",
       "                        <td id=\"T_f495f_row86_col0\" class=\"data row86 col0\" >1</td>\n",
       "            </tr>\n",
       "    </tbody></table>"
      ],
      "text/plain": [
       "<pandas.io.formats.style.Styler at 0x7f732a214e20>"
      ]
     },
     "execution_count": 11,
     "metadata": {},
     "output_type": "execute_result"
    }
   ],
   "source": [
    "#  количество пропусков\n",
    "\n",
    "pd.DataFrame(data_train.isna().sum(), columns = ['пропусков']).style.background_gradient()\n",
    "\n"
   ]
  },
  {
   "cell_type": "code",
   "execution_count": 12,
   "metadata": {},
   "outputs": [
    {
     "data": {
      "text/html": [
       "<style  type=\"text/css\" >\n",
       "#T_ecf5a_row0_col0,#T_ecf5a_row3_col0,#T_ecf5a_row5_col0,#T_ecf5a_row6_col0,#T_ecf5a_row7_col0,#T_ecf5a_row8_col0,#T_ecf5a_row9_col0,#T_ecf5a_row10_col0,#T_ecf5a_row11_col0,#T_ecf5a_row12_col0,#T_ecf5a_row13_col0,#T_ecf5a_row14_col0,#T_ecf5a_row18_col0,#T_ecf5a_row20_col0,#T_ecf5a_row23_col0,#T_ecf5a_row24_col0,#T_ecf5a_row25_col0,#T_ecf5a_row26_col0,#T_ecf5a_row27_col0,#T_ecf5a_row28_col0,#T_ecf5a_row29_col0,#T_ecf5a_row30_col0,#T_ecf5a_row31_col0,#T_ecf5a_row32_col0,#T_ecf5a_row33_col0,#T_ecf5a_row34_col0,#T_ecf5a_row36_col0,#T_ecf5a_row38_col0,#T_ecf5a_row40_col0,#T_ecf5a_row41_col0,#T_ecf5a_row42_col0,#T_ecf5a_row43_col0,#T_ecf5a_row44_col0,#T_ecf5a_row45_col0,#T_ecf5a_row46_col0,#T_ecf5a_row47_col0,#T_ecf5a_row48_col0,#T_ecf5a_row49_col0,#T_ecf5a_row50_col0,#T_ecf5a_row51_col0,#T_ecf5a_row52_col0{\n",
       "            background-color:  #fff7fb;\n",
       "            color:  #000000;\n",
       "        }#T_ecf5a_row1_col0,#T_ecf5a_row4_col0{\n",
       "            background-color:  #e5e1ef;\n",
       "            color:  #000000;\n",
       "        }#T_ecf5a_row2_col0,#T_ecf5a_row19_col0{\n",
       "            background-color:  #dbdaeb;\n",
       "            color:  #000000;\n",
       "        }#T_ecf5a_row15_col0,#T_ecf5a_row35_col0{\n",
       "            background-color:  #ede8f3;\n",
       "            color:  #000000;\n",
       "        }#T_ecf5a_row16_col0{\n",
       "            background-color:  #f9f2f8;\n",
       "            color:  #000000;\n",
       "        }#T_ecf5a_row17_col0{\n",
       "            background-color:  #046096;\n",
       "            color:  #f1f1f1;\n",
       "        }#T_ecf5a_row21_col0{\n",
       "            background-color:  #b9c6e0;\n",
       "            color:  #000000;\n",
       "        }#T_ecf5a_row22_col0{\n",
       "            background-color:  #023858;\n",
       "            color:  #f1f1f1;\n",
       "        }#T_ecf5a_row37_col0{\n",
       "            background-color:  #f3edf5;\n",
       "            color:  #000000;\n",
       "        }#T_ecf5a_row39_col0{\n",
       "            background-color:  #abbfdc;\n",
       "            color:  #000000;\n",
       "        }</style><table id=\"T_ecf5a_\" ><thead>    <tr>        <th class=\"blank level0\" ></th>        <th class=\"col_heading level0 col0\" >пропусков</th>    </tr></thead><tbody>\n",
       "                <tr>\n",
       "                        <th id=\"T_ecf5a_level0_row0\" class=\"row_heading level0 row0\" >date</th>\n",
       "                        <td id=\"T_ecf5a_row0_col0\" class=\"data row0 col0\" >0</td>\n",
       "            </tr>\n",
       "            <tr>\n",
       "                        <th id=\"T_ecf5a_level0_row1\" class=\"row_heading level0 row1\" >primary_cleaner.input.sulfate</th>\n",
       "                        <td id=\"T_ecf5a_row1_col0\" class=\"data row1 col0\" >4</td>\n",
       "            </tr>\n",
       "            <tr>\n",
       "                        <th id=\"T_ecf5a_level0_row2\" class=\"row_heading level0 row2\" >primary_cleaner.input.depressant</th>\n",
       "                        <td id=\"T_ecf5a_row2_col0\" class=\"data row2 col0\" >5</td>\n",
       "            </tr>\n",
       "            <tr>\n",
       "                        <th id=\"T_ecf5a_level0_row3\" class=\"row_heading level0 row3\" >primary_cleaner.input.feed_size</th>\n",
       "                        <td id=\"T_ecf5a_row3_col0\" class=\"data row3 col0\" >0</td>\n",
       "            </tr>\n",
       "            <tr>\n",
       "                        <th id=\"T_ecf5a_level0_row4\" class=\"row_heading level0 row4\" >primary_cleaner.input.xanthate</th>\n",
       "                        <td id=\"T_ecf5a_row4_col0\" class=\"data row4 col0\" >4</td>\n",
       "            </tr>\n",
       "            <tr>\n",
       "                        <th id=\"T_ecf5a_level0_row5\" class=\"row_heading level0 row5\" >primary_cleaner.state.floatbank8_a_air</th>\n",
       "                        <td id=\"T_ecf5a_row5_col0\" class=\"data row5 col0\" >0</td>\n",
       "            </tr>\n",
       "            <tr>\n",
       "                        <th id=\"T_ecf5a_level0_row6\" class=\"row_heading level0 row6\" >primary_cleaner.state.floatbank8_a_level</th>\n",
       "                        <td id=\"T_ecf5a_row6_col0\" class=\"data row6 col0\" >0</td>\n",
       "            </tr>\n",
       "            <tr>\n",
       "                        <th id=\"T_ecf5a_level0_row7\" class=\"row_heading level0 row7\" >primary_cleaner.state.floatbank8_b_air</th>\n",
       "                        <td id=\"T_ecf5a_row7_col0\" class=\"data row7 col0\" >0</td>\n",
       "            </tr>\n",
       "            <tr>\n",
       "                        <th id=\"T_ecf5a_level0_row8\" class=\"row_heading level0 row8\" >primary_cleaner.state.floatbank8_b_level</th>\n",
       "                        <td id=\"T_ecf5a_row8_col0\" class=\"data row8 col0\" >0</td>\n",
       "            </tr>\n",
       "            <tr>\n",
       "                        <th id=\"T_ecf5a_level0_row9\" class=\"row_heading level0 row9\" >primary_cleaner.state.floatbank8_c_air</th>\n",
       "                        <td id=\"T_ecf5a_row9_col0\" class=\"data row9 col0\" >0</td>\n",
       "            </tr>\n",
       "            <tr>\n",
       "                        <th id=\"T_ecf5a_level0_row10\" class=\"row_heading level0 row10\" >primary_cleaner.state.floatbank8_c_level</th>\n",
       "                        <td id=\"T_ecf5a_row10_col0\" class=\"data row10 col0\" >0</td>\n",
       "            </tr>\n",
       "            <tr>\n",
       "                        <th id=\"T_ecf5a_level0_row11\" class=\"row_heading level0 row11\" >primary_cleaner.state.floatbank8_d_air</th>\n",
       "                        <td id=\"T_ecf5a_row11_col0\" class=\"data row11 col0\" >0</td>\n",
       "            </tr>\n",
       "            <tr>\n",
       "                        <th id=\"T_ecf5a_level0_row12\" class=\"row_heading level0 row12\" >primary_cleaner.state.floatbank8_d_level</th>\n",
       "                        <td id=\"T_ecf5a_row12_col0\" class=\"data row12 col0\" >0</td>\n",
       "            </tr>\n",
       "            <tr>\n",
       "                        <th id=\"T_ecf5a_level0_row13\" class=\"row_heading level0 row13\" >rougher.input.feed_ag</th>\n",
       "                        <td id=\"T_ecf5a_row13_col0\" class=\"data row13 col0\" >0</td>\n",
       "            </tr>\n",
       "            <tr>\n",
       "                        <th id=\"T_ecf5a_level0_row14\" class=\"row_heading level0 row14\" >rougher.input.feed_pb</th>\n",
       "                        <td id=\"T_ecf5a_row14_col0\" class=\"data row14 col0\" >0</td>\n",
       "            </tr>\n",
       "            <tr>\n",
       "                        <th id=\"T_ecf5a_level0_row15\" class=\"row_heading level0 row15\" >rougher.input.feed_rate</th>\n",
       "                        <td id=\"T_ecf5a_row15_col0\" class=\"data row15 col0\" >3</td>\n",
       "            </tr>\n",
       "            <tr>\n",
       "                        <th id=\"T_ecf5a_level0_row16\" class=\"row_heading level0 row16\" >rougher.input.feed_size</th>\n",
       "                        <td id=\"T_ecf5a_row16_col0\" class=\"data row16 col0\" >1</td>\n",
       "            </tr>\n",
       "            <tr>\n",
       "                        <th id=\"T_ecf5a_level0_row17\" class=\"row_heading level0 row17\" >rougher.input.feed_sol</th>\n",
       "                        <td id=\"T_ecf5a_row17_col0\" class=\"data row17 col0\" >21</td>\n",
       "            </tr>\n",
       "            <tr>\n",
       "                        <th id=\"T_ecf5a_level0_row18\" class=\"row_heading level0 row18\" >rougher.input.feed_au</th>\n",
       "                        <td id=\"T_ecf5a_row18_col0\" class=\"data row18 col0\" >0</td>\n",
       "            </tr>\n",
       "            <tr>\n",
       "                        <th id=\"T_ecf5a_level0_row19\" class=\"row_heading level0 row19\" >rougher.input.floatbank10_sulfate</th>\n",
       "                        <td id=\"T_ecf5a_row19_col0\" class=\"data row19 col0\" >5</td>\n",
       "            </tr>\n",
       "            <tr>\n",
       "                        <th id=\"T_ecf5a_level0_row20\" class=\"row_heading level0 row20\" >rougher.input.floatbank10_xanthate</th>\n",
       "                        <td id=\"T_ecf5a_row20_col0\" class=\"data row20 col0\" >0</td>\n",
       "            </tr>\n",
       "            <tr>\n",
       "                        <th id=\"T_ecf5a_level0_row21\" class=\"row_heading level0 row21\" >rougher.input.floatbank11_sulfate</th>\n",
       "                        <td id=\"T_ecf5a_row21_col0\" class=\"data row21 col0\" >8</td>\n",
       "            </tr>\n",
       "            <tr>\n",
       "                        <th id=\"T_ecf5a_level0_row22\" class=\"row_heading level0 row22\" >rougher.input.floatbank11_xanthate</th>\n",
       "                        <td id=\"T_ecf5a_row22_col0\" class=\"data row22 col0\" >25</td>\n",
       "            </tr>\n",
       "            <tr>\n",
       "                        <th id=\"T_ecf5a_level0_row23\" class=\"row_heading level0 row23\" >rougher.state.floatbank10_a_air</th>\n",
       "                        <td id=\"T_ecf5a_row23_col0\" class=\"data row23 col0\" >0</td>\n",
       "            </tr>\n",
       "            <tr>\n",
       "                        <th id=\"T_ecf5a_level0_row24\" class=\"row_heading level0 row24\" >rougher.state.floatbank10_a_level</th>\n",
       "                        <td id=\"T_ecf5a_row24_col0\" class=\"data row24 col0\" >0</td>\n",
       "            </tr>\n",
       "            <tr>\n",
       "                        <th id=\"T_ecf5a_level0_row25\" class=\"row_heading level0 row25\" >rougher.state.floatbank10_b_air</th>\n",
       "                        <td id=\"T_ecf5a_row25_col0\" class=\"data row25 col0\" >0</td>\n",
       "            </tr>\n",
       "            <tr>\n",
       "                        <th id=\"T_ecf5a_level0_row26\" class=\"row_heading level0 row26\" >rougher.state.floatbank10_b_level</th>\n",
       "                        <td id=\"T_ecf5a_row26_col0\" class=\"data row26 col0\" >0</td>\n",
       "            </tr>\n",
       "            <tr>\n",
       "                        <th id=\"T_ecf5a_level0_row27\" class=\"row_heading level0 row27\" >rougher.state.floatbank10_c_air</th>\n",
       "                        <td id=\"T_ecf5a_row27_col0\" class=\"data row27 col0\" >0</td>\n",
       "            </tr>\n",
       "            <tr>\n",
       "                        <th id=\"T_ecf5a_level0_row28\" class=\"row_heading level0 row28\" >rougher.state.floatbank10_c_level</th>\n",
       "                        <td id=\"T_ecf5a_row28_col0\" class=\"data row28 col0\" >0</td>\n",
       "            </tr>\n",
       "            <tr>\n",
       "                        <th id=\"T_ecf5a_level0_row29\" class=\"row_heading level0 row29\" >rougher.state.floatbank10_d_air</th>\n",
       "                        <td id=\"T_ecf5a_row29_col0\" class=\"data row29 col0\" >0</td>\n",
       "            </tr>\n",
       "            <tr>\n",
       "                        <th id=\"T_ecf5a_level0_row30\" class=\"row_heading level0 row30\" >rougher.state.floatbank10_d_level</th>\n",
       "                        <td id=\"T_ecf5a_row30_col0\" class=\"data row30 col0\" >0</td>\n",
       "            </tr>\n",
       "            <tr>\n",
       "                        <th id=\"T_ecf5a_level0_row31\" class=\"row_heading level0 row31\" >rougher.state.floatbank10_e_air</th>\n",
       "                        <td id=\"T_ecf5a_row31_col0\" class=\"data row31 col0\" >0</td>\n",
       "            </tr>\n",
       "            <tr>\n",
       "                        <th id=\"T_ecf5a_level0_row32\" class=\"row_heading level0 row32\" >rougher.state.floatbank10_e_level</th>\n",
       "                        <td id=\"T_ecf5a_row32_col0\" class=\"data row32 col0\" >0</td>\n",
       "            </tr>\n",
       "            <tr>\n",
       "                        <th id=\"T_ecf5a_level0_row33\" class=\"row_heading level0 row33\" >rougher.state.floatbank10_f_air</th>\n",
       "                        <td id=\"T_ecf5a_row33_col0\" class=\"data row33 col0\" >0</td>\n",
       "            </tr>\n",
       "            <tr>\n",
       "                        <th id=\"T_ecf5a_level0_row34\" class=\"row_heading level0 row34\" >rougher.state.floatbank10_f_level</th>\n",
       "                        <td id=\"T_ecf5a_row34_col0\" class=\"data row34 col0\" >0</td>\n",
       "            </tr>\n",
       "            <tr>\n",
       "                        <th id=\"T_ecf5a_level0_row35\" class=\"row_heading level0 row35\" >secondary_cleaner.state.floatbank2_a_air</th>\n",
       "                        <td id=\"T_ecf5a_row35_col0\" class=\"data row35 col0\" >3</td>\n",
       "            </tr>\n",
       "            <tr>\n",
       "                        <th id=\"T_ecf5a_level0_row36\" class=\"row_heading level0 row36\" >secondary_cleaner.state.floatbank2_a_level</th>\n",
       "                        <td id=\"T_ecf5a_row36_col0\" class=\"data row36 col0\" >0</td>\n",
       "            </tr>\n",
       "            <tr>\n",
       "                        <th id=\"T_ecf5a_level0_row37\" class=\"row_heading level0 row37\" >secondary_cleaner.state.floatbank2_b_air</th>\n",
       "                        <td id=\"T_ecf5a_row37_col0\" class=\"data row37 col0\" >2</td>\n",
       "            </tr>\n",
       "            <tr>\n",
       "                        <th id=\"T_ecf5a_level0_row38\" class=\"row_heading level0 row38\" >secondary_cleaner.state.floatbank2_b_level</th>\n",
       "                        <td id=\"T_ecf5a_row38_col0\" class=\"data row38 col0\" >0</td>\n",
       "            </tr>\n",
       "            <tr>\n",
       "                        <th id=\"T_ecf5a_level0_row39\" class=\"row_heading level0 row39\" >secondary_cleaner.state.floatbank3_a_air</th>\n",
       "                        <td id=\"T_ecf5a_row39_col0\" class=\"data row39 col0\" >9</td>\n",
       "            </tr>\n",
       "            <tr>\n",
       "                        <th id=\"T_ecf5a_level0_row40\" class=\"row_heading level0 row40\" >secondary_cleaner.state.floatbank3_a_level</th>\n",
       "                        <td id=\"T_ecf5a_row40_col0\" class=\"data row40 col0\" >0</td>\n",
       "            </tr>\n",
       "            <tr>\n",
       "                        <th id=\"T_ecf5a_level0_row41\" class=\"row_heading level0 row41\" >secondary_cleaner.state.floatbank3_b_air</th>\n",
       "                        <td id=\"T_ecf5a_row41_col0\" class=\"data row41 col0\" >0</td>\n",
       "            </tr>\n",
       "            <tr>\n",
       "                        <th id=\"T_ecf5a_level0_row42\" class=\"row_heading level0 row42\" >secondary_cleaner.state.floatbank3_b_level</th>\n",
       "                        <td id=\"T_ecf5a_row42_col0\" class=\"data row42 col0\" >0</td>\n",
       "            </tr>\n",
       "            <tr>\n",
       "                        <th id=\"T_ecf5a_level0_row43\" class=\"row_heading level0 row43\" >secondary_cleaner.state.floatbank4_a_air</th>\n",
       "                        <td id=\"T_ecf5a_row43_col0\" class=\"data row43 col0\" >0</td>\n",
       "            </tr>\n",
       "            <tr>\n",
       "                        <th id=\"T_ecf5a_level0_row44\" class=\"row_heading level0 row44\" >secondary_cleaner.state.floatbank4_a_level</th>\n",
       "                        <td id=\"T_ecf5a_row44_col0\" class=\"data row44 col0\" >0</td>\n",
       "            </tr>\n",
       "            <tr>\n",
       "                        <th id=\"T_ecf5a_level0_row45\" class=\"row_heading level0 row45\" >secondary_cleaner.state.floatbank4_b_air</th>\n",
       "                        <td id=\"T_ecf5a_row45_col0\" class=\"data row45 col0\" >0</td>\n",
       "            </tr>\n",
       "            <tr>\n",
       "                        <th id=\"T_ecf5a_level0_row46\" class=\"row_heading level0 row46\" >secondary_cleaner.state.floatbank4_b_level</th>\n",
       "                        <td id=\"T_ecf5a_row46_col0\" class=\"data row46 col0\" >0</td>\n",
       "            </tr>\n",
       "            <tr>\n",
       "                        <th id=\"T_ecf5a_level0_row47\" class=\"row_heading level0 row47\" >secondary_cleaner.state.floatbank5_a_air</th>\n",
       "                        <td id=\"T_ecf5a_row47_col0\" class=\"data row47 col0\" >0</td>\n",
       "            </tr>\n",
       "            <tr>\n",
       "                        <th id=\"T_ecf5a_level0_row48\" class=\"row_heading level0 row48\" >secondary_cleaner.state.floatbank5_a_level</th>\n",
       "                        <td id=\"T_ecf5a_row48_col0\" class=\"data row48 col0\" >0</td>\n",
       "            </tr>\n",
       "            <tr>\n",
       "                        <th id=\"T_ecf5a_level0_row49\" class=\"row_heading level0 row49\" >secondary_cleaner.state.floatbank5_b_air</th>\n",
       "                        <td id=\"T_ecf5a_row49_col0\" class=\"data row49 col0\" >0</td>\n",
       "            </tr>\n",
       "            <tr>\n",
       "                        <th id=\"T_ecf5a_level0_row50\" class=\"row_heading level0 row50\" >secondary_cleaner.state.floatbank5_b_level</th>\n",
       "                        <td id=\"T_ecf5a_row50_col0\" class=\"data row50 col0\" >0</td>\n",
       "            </tr>\n",
       "            <tr>\n",
       "                        <th id=\"T_ecf5a_level0_row51\" class=\"row_heading level0 row51\" >secondary_cleaner.state.floatbank6_a_air</th>\n",
       "                        <td id=\"T_ecf5a_row51_col0\" class=\"data row51 col0\" >0</td>\n",
       "            </tr>\n",
       "            <tr>\n",
       "                        <th id=\"T_ecf5a_level0_row52\" class=\"row_heading level0 row52\" >secondary_cleaner.state.floatbank6_a_level</th>\n",
       "                        <td id=\"T_ecf5a_row52_col0\" class=\"data row52 col0\" >0</td>\n",
       "            </tr>\n",
       "    </tbody></table>"
      ],
      "text/plain": [
       "<pandas.io.formats.style.Styler at 0x7f732a20d850>"
      ]
     },
     "execution_count": 12,
     "metadata": {},
     "output_type": "execute_result"
    }
   ],
   "source": [
    "pd.DataFrame(data_test.isna().sum(), columns = ['пропусков']).style.background_gradient()"
   ]
  },
  {
   "cell_type": "code",
   "execution_count": 13,
   "metadata": {},
   "outputs": [
    {
     "data": {
      "text/html": [
       "<style  type=\"text/css\" >\n",
       "#T_27ea0_row0_col0,#T_27ea0_row1_col0,#T_27ea0_row2_col0,#T_27ea0_row4_col0,#T_27ea0_row5_col0,#T_27ea0_row6_col0,#T_27ea0_row8_col0,#T_27ea0_row9_col0,#T_27ea0_row12_col0,#T_27ea0_row14_col0,#T_27ea0_row17_col0,#T_27ea0_row18_col0,#T_27ea0_row21_col0,#T_27ea0_row22_col0,#T_27ea0_row23_col0,#T_27ea0_row24_col0,#T_27ea0_row25_col0,#T_27ea0_row26_col0,#T_27ea0_row27_col0,#T_27ea0_row28_col0,#T_27ea0_row29_col0,#T_27ea0_row30_col0,#T_27ea0_row31_col0,#T_27ea0_row32_col0,#T_27ea0_row33_col0,#T_27ea0_row34_col0,#T_27ea0_row39_col0,#T_27ea0_row44_col0,#T_27ea0_row45_col0,#T_27ea0_row47_col0,#T_27ea0_row48_col0,#T_27ea0_row49_col0,#T_27ea0_row50_col0,#T_27ea0_row51_col0,#T_27ea0_row52_col0,#T_27ea0_row53_col0,#T_27ea0_row54_col0,#T_27ea0_row55_col0,#T_27ea0_row56_col0,#T_27ea0_row57_col0,#T_27ea0_row58_col0,#T_27ea0_row59_col0,#T_27ea0_row60_col0,#T_27ea0_row62_col0,#T_27ea0_row63_col0,#T_27ea0_row64_col0,#T_27ea0_row65_col0,#T_27ea0_row68_col0,#T_27ea0_row70_col0,#T_27ea0_row72_col0,#T_27ea0_row74_col0,#T_27ea0_row75_col0,#T_27ea0_row76_col0,#T_27ea0_row77_col0,#T_27ea0_row78_col0,#T_27ea0_row79_col0,#T_27ea0_row80_col0,#T_27ea0_row81_col0,#T_27ea0_row82_col0,#T_27ea0_row83_col0,#T_27ea0_row84_col0,#T_27ea0_row85_col0,#T_27ea0_row86_col0{\n",
       "            background-color:  #fff7fb;\n",
       "            color:  #000000;\n",
       "        }#T_27ea0_row3_col0{\n",
       "            background-color:  #ede8f3;\n",
       "            color:  #000000;\n",
       "        }#T_27ea0_row7_col0,#T_27ea0_row35_col0,#T_27ea0_row38_col0{\n",
       "            background-color:  #f7f0f7;\n",
       "            color:  #000000;\n",
       "        }#T_27ea0_row10_col0,#T_27ea0_row19_col0,#T_27ea0_row40_col0,#T_27ea0_row46_col0,#T_27ea0_row71_col0{\n",
       "            background-color:  #fdf5fa;\n",
       "            color:  #000000;\n",
       "        }#T_27ea0_row11_col0{\n",
       "            background-color:  #fcf4fa;\n",
       "            color:  #000000;\n",
       "        }#T_27ea0_row13_col0{\n",
       "            background-color:  #f6eff7;\n",
       "            color:  #000000;\n",
       "        }#T_27ea0_row15_col0{\n",
       "            background-color:  #f5eff6;\n",
       "            color:  #000000;\n",
       "        }#T_27ea0_row16_col0{\n",
       "            background-color:  #d9d8ea;\n",
       "            color:  #000000;\n",
       "        }#T_27ea0_row20_col0{\n",
       "            background-color:  #faf2f8;\n",
       "            color:  #000000;\n",
       "        }#T_27ea0_row36_col0,#T_27ea0_row41_col0,#T_27ea0_row66_col0,#T_27ea0_row73_col0{\n",
       "            background-color:  #fef6fb;\n",
       "            color:  #000000;\n",
       "        }#T_27ea0_row37_col0{\n",
       "            background-color:  #f2ecf5;\n",
       "            color:  #000000;\n",
       "        }#T_27ea0_row42_col0{\n",
       "            background-color:  #fbf4f9;\n",
       "            color:  #000000;\n",
       "        }#T_27ea0_row43_col0{\n",
       "            background-color:  #cdd0e5;\n",
       "            color:  #000000;\n",
       "        }#T_27ea0_row61_col0{\n",
       "            background-color:  #d1d2e6;\n",
       "            color:  #000000;\n",
       "        }#T_27ea0_row67_col0{\n",
       "            background-color:  #023858;\n",
       "            color:  #f1f1f1;\n",
       "        }#T_27ea0_row69_col0{\n",
       "            background-color:  #ece7f2;\n",
       "            color:  #000000;\n",
       "        }</style><table id=\"T_27ea0_\" ><thead>    <tr>        <th class=\"blank level0\" ></th>        <th class=\"col_heading level0 col0\" >пропусков</th>    </tr></thead><tbody>\n",
       "                <tr>\n",
       "                        <th id=\"T_27ea0_level0_row0\" class=\"row_heading level0 row0\" >date</th>\n",
       "                        <td id=\"T_27ea0_row0_col0\" class=\"data row0 col0\" >0</td>\n",
       "            </tr>\n",
       "            <tr>\n",
       "                        <th id=\"T_27ea0_level0_row1\" class=\"row_heading level0 row1\" >final.output.concentrate_ag</th>\n",
       "                        <td id=\"T_27ea0_row1_col0\" class=\"data row1 col0\" >1</td>\n",
       "            </tr>\n",
       "            <tr>\n",
       "                        <th id=\"T_27ea0_level0_row2\" class=\"row_heading level0 row2\" >final.output.concentrate_pb</th>\n",
       "                        <td id=\"T_27ea0_row2_col0\" class=\"data row2 col0\" >1</td>\n",
       "            </tr>\n",
       "            <tr>\n",
       "                        <th id=\"T_27ea0_level0_row3\" class=\"row_heading level0 row3\" >final.output.concentrate_sol</th>\n",
       "                        <td id=\"T_27ea0_row3_col0\" class=\"data row3 col0\" >211</td>\n",
       "            </tr>\n",
       "            <tr>\n",
       "                        <th id=\"T_27ea0_level0_row4\" class=\"row_heading level0 row4\" >final.output.concentrate_au</th>\n",
       "                        <td id=\"T_27ea0_row4_col0\" class=\"data row4 col0\" >0</td>\n",
       "            </tr>\n",
       "            <tr>\n",
       "                        <th id=\"T_27ea0_level0_row5\" class=\"row_heading level0 row5\" >final.output.recovery</th>\n",
       "                        <td id=\"T_27ea0_row5_col0\" class=\"data row5 col0\" >0</td>\n",
       "            </tr>\n",
       "            <tr>\n",
       "                        <th id=\"T_27ea0_level0_row6\" class=\"row_heading level0 row6\" >final.output.tail_ag</th>\n",
       "                        <td id=\"T_27ea0_row6_col0\" class=\"data row6 col0\" >1</td>\n",
       "            </tr>\n",
       "            <tr>\n",
       "                        <th id=\"T_27ea0_level0_row7\" class=\"row_heading level0 row7\" >final.output.tail_pb</th>\n",
       "                        <td id=\"T_27ea0_row7_col0\" class=\"data row7 col0\" >101</td>\n",
       "            </tr>\n",
       "            <tr>\n",
       "                        <th id=\"T_27ea0_level0_row8\" class=\"row_heading level0 row8\" >final.output.tail_sol</th>\n",
       "                        <td id=\"T_27ea0_row8_col0\" class=\"data row8 col0\" >6</td>\n",
       "            </tr>\n",
       "            <tr>\n",
       "                        <th id=\"T_27ea0_level0_row9\" class=\"row_heading level0 row9\" >final.output.tail_au</th>\n",
       "                        <td id=\"T_27ea0_row9_col0\" class=\"data row9 col0\" >0</td>\n",
       "            </tr>\n",
       "            <tr>\n",
       "                        <th id=\"T_27ea0_level0_row10\" class=\"row_heading level0 row10\" >primary_cleaner.input.sulfate</th>\n",
       "                        <td id=\"T_27ea0_row10_col0\" class=\"data row10 col0\" >24</td>\n",
       "            </tr>\n",
       "            <tr>\n",
       "                        <th id=\"T_27ea0_level0_row11\" class=\"row_heading level0 row11\" >primary_cleaner.input.depressant</th>\n",
       "                        <td id=\"T_27ea0_row11_col0\" class=\"data row11 col0\" >37</td>\n",
       "            </tr>\n",
       "            <tr>\n",
       "                        <th id=\"T_27ea0_level0_row12\" class=\"row_heading level0 row12\" >primary_cleaner.input.feed_size</th>\n",
       "                        <td id=\"T_27ea0_row12_col0\" class=\"data row12 col0\" >0</td>\n",
       "            </tr>\n",
       "            <tr>\n",
       "                        <th id=\"T_27ea0_level0_row13\" class=\"row_heading level0 row13\" >primary_cleaner.input.xanthate</th>\n",
       "                        <td id=\"T_27ea0_row13_col0\" class=\"data row13 col0\" >104</td>\n",
       "            </tr>\n",
       "            <tr>\n",
       "                        <th id=\"T_27ea0_level0_row14\" class=\"row_heading level0 row14\" >primary_cleaner.output.concentrate_ag</th>\n",
       "                        <td id=\"T_27ea0_row14_col0\" class=\"data row14 col0\" >0</td>\n",
       "            </tr>\n",
       "            <tr>\n",
       "                        <th id=\"T_27ea0_level0_row15\" class=\"row_heading level0 row15\" >primary_cleaner.output.concentrate_pb</th>\n",
       "                        <td id=\"T_27ea0_row15_col0\" class=\"data row15 col0\" >116</td>\n",
       "            </tr>\n",
       "            <tr>\n",
       "                        <th id=\"T_27ea0_level0_row16\" class=\"row_heading level0 row16\" >primary_cleaner.output.concentrate_sol</th>\n",
       "                        <td id=\"T_27ea0_row16_col0\" class=\"data row16 col0\" >370</td>\n",
       "            </tr>\n",
       "            <tr>\n",
       "                        <th id=\"T_27ea0_level0_row17\" class=\"row_heading level0 row17\" >primary_cleaner.output.concentrate_au</th>\n",
       "                        <td id=\"T_27ea0_row17_col0\" class=\"data row17 col0\" >0</td>\n",
       "            </tr>\n",
       "            <tr>\n",
       "                        <th id=\"T_27ea0_level0_row18\" class=\"row_heading level0 row18\" >primary_cleaner.output.tail_ag</th>\n",
       "                        <td id=\"T_27ea0_row18_col0\" class=\"data row18 col0\" >4</td>\n",
       "            </tr>\n",
       "            <tr>\n",
       "                        <th id=\"T_27ea0_level0_row19\" class=\"row_heading level0 row19\" >primary_cleaner.output.tail_pb</th>\n",
       "                        <td id=\"T_27ea0_row19_col0\" class=\"data row19 col0\" >21</td>\n",
       "            </tr>\n",
       "            <tr>\n",
       "                        <th id=\"T_27ea0_level0_row20\" class=\"row_heading level0 row20\" >primary_cleaner.output.tail_sol</th>\n",
       "                        <td id=\"T_27ea0_row20_col0\" class=\"data row20 col0\" >62</td>\n",
       "            </tr>\n",
       "            <tr>\n",
       "                        <th id=\"T_27ea0_level0_row21\" class=\"row_heading level0 row21\" >primary_cleaner.output.tail_au</th>\n",
       "                        <td id=\"T_27ea0_row21_col0\" class=\"data row21 col0\" >0</td>\n",
       "            </tr>\n",
       "            <tr>\n",
       "                        <th id=\"T_27ea0_level0_row22\" class=\"row_heading level0 row22\" >primary_cleaner.state.floatbank8_a_air</th>\n",
       "                        <td id=\"T_27ea0_row22_col0\" class=\"data row22 col0\" >4</td>\n",
       "            </tr>\n",
       "            <tr>\n",
       "                        <th id=\"T_27ea0_level0_row23\" class=\"row_heading level0 row23\" >primary_cleaner.state.floatbank8_a_level</th>\n",
       "                        <td id=\"T_27ea0_row23_col0\" class=\"data row23 col0\" >1</td>\n",
       "            </tr>\n",
       "            <tr>\n",
       "                        <th id=\"T_27ea0_level0_row24\" class=\"row_heading level0 row24\" >primary_cleaner.state.floatbank8_b_air</th>\n",
       "                        <td id=\"T_27ea0_row24_col0\" class=\"data row24 col0\" >4</td>\n",
       "            </tr>\n",
       "            <tr>\n",
       "                        <th id=\"T_27ea0_level0_row25\" class=\"row_heading level0 row25\" >primary_cleaner.state.floatbank8_b_level</th>\n",
       "                        <td id=\"T_27ea0_row25_col0\" class=\"data row25 col0\" >1</td>\n",
       "            </tr>\n",
       "            <tr>\n",
       "                        <th id=\"T_27ea0_level0_row26\" class=\"row_heading level0 row26\" >primary_cleaner.state.floatbank8_c_air</th>\n",
       "                        <td id=\"T_27ea0_row26_col0\" class=\"data row26 col0\" >2</td>\n",
       "            </tr>\n",
       "            <tr>\n",
       "                        <th id=\"T_27ea0_level0_row27\" class=\"row_heading level0 row27\" >primary_cleaner.state.floatbank8_c_level</th>\n",
       "                        <td id=\"T_27ea0_row27_col0\" class=\"data row27 col0\" >1</td>\n",
       "            </tr>\n",
       "            <tr>\n",
       "                        <th id=\"T_27ea0_level0_row28\" class=\"row_heading level0 row28\" >primary_cleaner.state.floatbank8_d_air</th>\n",
       "                        <td id=\"T_27ea0_row28_col0\" class=\"data row28 col0\" >3</td>\n",
       "            </tr>\n",
       "            <tr>\n",
       "                        <th id=\"T_27ea0_level0_row29\" class=\"row_heading level0 row29\" >primary_cleaner.state.floatbank8_d_level</th>\n",
       "                        <td id=\"T_27ea0_row29_col0\" class=\"data row29 col0\" >1</td>\n",
       "            </tr>\n",
       "            <tr>\n",
       "                        <th id=\"T_27ea0_level0_row30\" class=\"row_heading level0 row30\" >rougher.calculation.sulfate_to_au_concentrate</th>\n",
       "                        <td id=\"T_27ea0_row30_col0\" class=\"data row30 col0\" >2</td>\n",
       "            </tr>\n",
       "            <tr>\n",
       "                        <th id=\"T_27ea0_level0_row31\" class=\"row_heading level0 row31\" >rougher.calculation.floatbank10_sulfate_to_au_feed</th>\n",
       "                        <td id=\"T_27ea0_row31_col0\" class=\"data row31 col0\" >2</td>\n",
       "            </tr>\n",
       "            <tr>\n",
       "                        <th id=\"T_27ea0_level0_row32\" class=\"row_heading level0 row32\" >rougher.calculation.floatbank11_sulfate_to_au_feed</th>\n",
       "                        <td id=\"T_27ea0_row32_col0\" class=\"data row32 col0\" >2</td>\n",
       "            </tr>\n",
       "            <tr>\n",
       "                        <th id=\"T_27ea0_level0_row33\" class=\"row_heading level0 row33\" >rougher.calculation.au_pb_ratio</th>\n",
       "                        <td id=\"T_27ea0_row33_col0\" class=\"data row33 col0\" >0</td>\n",
       "            </tr>\n",
       "            <tr>\n",
       "                        <th id=\"T_27ea0_level0_row34\" class=\"row_heading level0 row34\" >rougher.input.feed_ag</th>\n",
       "                        <td id=\"T_27ea0_row34_col0\" class=\"data row34 col0\" >0</td>\n",
       "            </tr>\n",
       "            <tr>\n",
       "                        <th id=\"T_27ea0_level0_row35\" class=\"row_heading level0 row35\" >rougher.input.feed_pb</th>\n",
       "                        <td id=\"T_27ea0_row35_col0\" class=\"data row35 col0\" >100</td>\n",
       "            </tr>\n",
       "            <tr>\n",
       "                        <th id=\"T_27ea0_level0_row36\" class=\"row_heading level0 row36\" >rougher.input.feed_rate</th>\n",
       "                        <td id=\"T_27ea0_row36_col0\" class=\"data row36 col0\" >11</td>\n",
       "            </tr>\n",
       "            <tr>\n",
       "                        <th id=\"T_27ea0_level0_row37\" class=\"row_heading level0 row37\" >rougher.input.feed_size</th>\n",
       "                        <td id=\"T_27ea0_row37_col0\" class=\"data row37 col0\" >145</td>\n",
       "            </tr>\n",
       "            <tr>\n",
       "                        <th id=\"T_27ea0_level0_row38\" class=\"row_heading level0 row38\" >rougher.input.feed_sol</th>\n",
       "                        <td id=\"T_27ea0_row38_col0\" class=\"data row38 col0\" >99</td>\n",
       "            </tr>\n",
       "            <tr>\n",
       "                        <th id=\"T_27ea0_level0_row39\" class=\"row_heading level0 row39\" >rougher.input.feed_au</th>\n",
       "                        <td id=\"T_27ea0_row39_col0\" class=\"data row39 col0\" >0</td>\n",
       "            </tr>\n",
       "            <tr>\n",
       "                        <th id=\"T_27ea0_level0_row40\" class=\"row_heading level0 row40\" >rougher.input.floatbank10_sulfate</th>\n",
       "                        <td id=\"T_27ea0_row40_col0\" class=\"data row40 col0\" >34</td>\n",
       "            </tr>\n",
       "            <tr>\n",
       "                        <th id=\"T_27ea0_level0_row41\" class=\"row_heading level0 row41\" >rougher.input.floatbank10_xanthate</th>\n",
       "                        <td id=\"T_27ea0_row41_col0\" class=\"data row41 col0\" >8</td>\n",
       "            </tr>\n",
       "            <tr>\n",
       "                        <th id=\"T_27ea0_level0_row42\" class=\"row_heading level0 row42\" >rougher.input.floatbank11_sulfate</th>\n",
       "                        <td id=\"T_27ea0_row42_col0\" class=\"data row42 col0\" >44</td>\n",
       "            </tr>\n",
       "            <tr>\n",
       "                        <th id=\"T_27ea0_level0_row43\" class=\"row_heading level0 row43\" >rougher.input.floatbank11_xanthate</th>\n",
       "                        <td id=\"T_27ea0_row43_col0\" class=\"data row43 col0\" >453</td>\n",
       "            </tr>\n",
       "            <tr>\n",
       "                        <th id=\"T_27ea0_level0_row44\" class=\"row_heading level0 row44\" >rougher.output.concentrate_ag</th>\n",
       "                        <td id=\"T_27ea0_row44_col0\" class=\"data row44 col0\" >0</td>\n",
       "            </tr>\n",
       "            <tr>\n",
       "                        <th id=\"T_27ea0_level0_row45\" class=\"row_heading level0 row45\" >rougher.output.concentrate_pb</th>\n",
       "                        <td id=\"T_27ea0_row45_col0\" class=\"data row45 col0\" >0</td>\n",
       "            </tr>\n",
       "            <tr>\n",
       "                        <th id=\"T_27ea0_level0_row46\" class=\"row_heading level0 row46\" >rougher.output.concentrate_sol</th>\n",
       "                        <td id=\"T_27ea0_row46_col0\" class=\"data row46 col0\" >23</td>\n",
       "            </tr>\n",
       "            <tr>\n",
       "                        <th id=\"T_27ea0_level0_row47\" class=\"row_heading level0 row47\" >rougher.output.concentrate_au</th>\n",
       "                        <td id=\"T_27ea0_row47_col0\" class=\"data row47 col0\" >0</td>\n",
       "            </tr>\n",
       "            <tr>\n",
       "                        <th id=\"T_27ea0_level0_row48\" class=\"row_heading level0 row48\" >rougher.output.recovery</th>\n",
       "                        <td id=\"T_27ea0_row48_col0\" class=\"data row48 col0\" >0</td>\n",
       "            </tr>\n",
       "            <tr>\n",
       "                        <th id=\"T_27ea0_level0_row49\" class=\"row_heading level0 row49\" >rougher.output.tail_ag</th>\n",
       "                        <td id=\"T_27ea0_row49_col0\" class=\"data row49 col0\" >1</td>\n",
       "            </tr>\n",
       "            <tr>\n",
       "                        <th id=\"T_27ea0_level0_row50\" class=\"row_heading level0 row50\" >rougher.output.tail_pb</th>\n",
       "                        <td id=\"T_27ea0_row50_col0\" class=\"data row50 col0\" >0</td>\n",
       "            </tr>\n",
       "            <tr>\n",
       "                        <th id=\"T_27ea0_level0_row51\" class=\"row_heading level0 row51\" >rougher.output.tail_sol</th>\n",
       "                        <td id=\"T_27ea0_row51_col0\" class=\"data row51 col0\" >0</td>\n",
       "            </tr>\n",
       "            <tr>\n",
       "                        <th id=\"T_27ea0_level0_row52\" class=\"row_heading level0 row52\" >rougher.output.tail_au</th>\n",
       "                        <td id=\"T_27ea0_row52_col0\" class=\"data row52 col0\" >0</td>\n",
       "            </tr>\n",
       "            <tr>\n",
       "                        <th id=\"T_27ea0_level0_row53\" class=\"row_heading level0 row53\" >rougher.state.floatbank10_a_air</th>\n",
       "                        <td id=\"T_27ea0_row53_col0\" class=\"data row53 col0\" >1</td>\n",
       "            </tr>\n",
       "            <tr>\n",
       "                        <th id=\"T_27ea0_level0_row54\" class=\"row_heading level0 row54\" >rougher.state.floatbank10_a_level</th>\n",
       "                        <td id=\"T_27ea0_row54_col0\" class=\"data row54 col0\" >1</td>\n",
       "            </tr>\n",
       "            <tr>\n",
       "                        <th id=\"T_27ea0_level0_row55\" class=\"row_heading level0 row55\" >rougher.state.floatbank10_b_air</th>\n",
       "                        <td id=\"T_27ea0_row55_col0\" class=\"data row55 col0\" >1</td>\n",
       "            </tr>\n",
       "            <tr>\n",
       "                        <th id=\"T_27ea0_level0_row56\" class=\"row_heading level0 row56\" >rougher.state.floatbank10_b_level</th>\n",
       "                        <td id=\"T_27ea0_row56_col0\" class=\"data row56 col0\" >1</td>\n",
       "            </tr>\n",
       "            <tr>\n",
       "                        <th id=\"T_27ea0_level0_row57\" class=\"row_heading level0 row57\" >rougher.state.floatbank10_c_air</th>\n",
       "                        <td id=\"T_27ea0_row57_col0\" class=\"data row57 col0\" >1</td>\n",
       "            </tr>\n",
       "            <tr>\n",
       "                        <th id=\"T_27ea0_level0_row58\" class=\"row_heading level0 row58\" >rougher.state.floatbank10_c_level</th>\n",
       "                        <td id=\"T_27ea0_row58_col0\" class=\"data row58 col0\" >1</td>\n",
       "            </tr>\n",
       "            <tr>\n",
       "                        <th id=\"T_27ea0_level0_row59\" class=\"row_heading level0 row59\" >rougher.state.floatbank10_d_air</th>\n",
       "                        <td id=\"T_27ea0_row59_col0\" class=\"data row59 col0\" >0</td>\n",
       "            </tr>\n",
       "            <tr>\n",
       "                        <th id=\"T_27ea0_level0_row60\" class=\"row_heading level0 row60\" >rougher.state.floatbank10_d_level</th>\n",
       "                        <td id=\"T_27ea0_row60_col0\" class=\"data row60 col0\" >0</td>\n",
       "            </tr>\n",
       "            <tr>\n",
       "                        <th id=\"T_27ea0_level0_row61\" class=\"row_heading level0 row61\" >rougher.state.floatbank10_e_air</th>\n",
       "                        <td id=\"T_27ea0_row61_col0\" class=\"data row61 col0\" >436</td>\n",
       "            </tr>\n",
       "            <tr>\n",
       "                        <th id=\"T_27ea0_level0_row62\" class=\"row_heading level0 row62\" >rougher.state.floatbank10_e_level</th>\n",
       "                        <td id=\"T_27ea0_row62_col0\" class=\"data row62 col0\" >0</td>\n",
       "            </tr>\n",
       "            <tr>\n",
       "                        <th id=\"T_27ea0_level0_row63\" class=\"row_heading level0 row63\" >rougher.state.floatbank10_f_air</th>\n",
       "                        <td id=\"T_27ea0_row63_col0\" class=\"data row63 col0\" >0</td>\n",
       "            </tr>\n",
       "            <tr>\n",
       "                        <th id=\"T_27ea0_level0_row64\" class=\"row_heading level0 row64\" >rougher.state.floatbank10_f_level</th>\n",
       "                        <td id=\"T_27ea0_row64_col0\" class=\"data row64 col0\" >0</td>\n",
       "            </tr>\n",
       "            <tr>\n",
       "                        <th id=\"T_27ea0_level0_row65\" class=\"row_heading level0 row65\" >secondary_cleaner.output.tail_ag</th>\n",
       "                        <td id=\"T_27ea0_row65_col0\" class=\"data row65 col0\" >2</td>\n",
       "            </tr>\n",
       "            <tr>\n",
       "                        <th id=\"T_27ea0_level0_row66\" class=\"row_heading level0 row66\" >secondary_cleaner.output.tail_pb</th>\n",
       "                        <td id=\"T_27ea0_row66_col0\" class=\"data row66 col0\" >12</td>\n",
       "            </tr>\n",
       "            <tr>\n",
       "                        <th id=\"T_27ea0_level0_row67\" class=\"row_heading level0 row67\" >secondary_cleaner.output.tail_sol</th>\n",
       "                        <td id=\"T_27ea0_row67_col0\" class=\"data row67 col0\" >1748</td>\n",
       "            </tr>\n",
       "            <tr>\n",
       "                        <th id=\"T_27ea0_level0_row68\" class=\"row_heading level0 row68\" >secondary_cleaner.output.tail_au</th>\n",
       "                        <td id=\"T_27ea0_row68_col0\" class=\"data row68 col0\" >0</td>\n",
       "            </tr>\n",
       "            <tr>\n",
       "                        <th id=\"T_27ea0_level0_row69\" class=\"row_heading level0 row69\" >secondary_cleaner.state.floatbank2_a_air</th>\n",
       "                        <td id=\"T_27ea0_row69_col0\" class=\"data row69 col0\" >220</td>\n",
       "            </tr>\n",
       "            <tr>\n",
       "                        <th id=\"T_27ea0_level0_row70\" class=\"row_heading level0 row70\" >secondary_cleaner.state.floatbank2_a_level</th>\n",
       "                        <td id=\"T_27ea0_row70_col0\" class=\"data row70 col0\" >1</td>\n",
       "            </tr>\n",
       "            <tr>\n",
       "                        <th id=\"T_27ea0_level0_row71\" class=\"row_heading level0 row71\" >secondary_cleaner.state.floatbank2_b_air</th>\n",
       "                        <td id=\"T_27ea0_row71_col0\" class=\"data row71 col0\" >23</td>\n",
       "            </tr>\n",
       "            <tr>\n",
       "                        <th id=\"T_27ea0_level0_row72\" class=\"row_heading level0 row72\" >secondary_cleaner.state.floatbank2_b_level</th>\n",
       "                        <td id=\"T_27ea0_row72_col0\" class=\"data row72 col0\" >1</td>\n",
       "            </tr>\n",
       "            <tr>\n",
       "                        <th id=\"T_27ea0_level0_row73\" class=\"row_heading level0 row73\" >secondary_cleaner.state.floatbank3_a_air</th>\n",
       "                        <td id=\"T_27ea0_row73_col0\" class=\"data row73 col0\" >13</td>\n",
       "            </tr>\n",
       "            <tr>\n",
       "                        <th id=\"T_27ea0_level0_row74\" class=\"row_heading level0 row74\" >secondary_cleaner.state.floatbank3_a_level</th>\n",
       "                        <td id=\"T_27ea0_row74_col0\" class=\"data row74 col0\" >1</td>\n",
       "            </tr>\n",
       "            <tr>\n",
       "                        <th id=\"T_27ea0_level0_row75\" class=\"row_heading level0 row75\" >secondary_cleaner.state.floatbank3_b_air</th>\n",
       "                        <td id=\"T_27ea0_row75_col0\" class=\"data row75 col0\" >1</td>\n",
       "            </tr>\n",
       "            <tr>\n",
       "                        <th id=\"T_27ea0_level0_row76\" class=\"row_heading level0 row76\" >secondary_cleaner.state.floatbank3_b_level</th>\n",
       "                        <td id=\"T_27ea0_row76_col0\" class=\"data row76 col0\" >1</td>\n",
       "            </tr>\n",
       "            <tr>\n",
       "                        <th id=\"T_27ea0_level0_row77\" class=\"row_heading level0 row77\" >secondary_cleaner.state.floatbank4_a_air</th>\n",
       "                        <td id=\"T_27ea0_row77_col0\" class=\"data row77 col0\" >6</td>\n",
       "            </tr>\n",
       "            <tr>\n",
       "                        <th id=\"T_27ea0_level0_row78\" class=\"row_heading level0 row78\" >secondary_cleaner.state.floatbank4_a_level</th>\n",
       "                        <td id=\"T_27ea0_row78_col0\" class=\"data row78 col0\" >1</td>\n",
       "            </tr>\n",
       "            <tr>\n",
       "                        <th id=\"T_27ea0_level0_row79\" class=\"row_heading level0 row79\" >secondary_cleaner.state.floatbank4_b_air</th>\n",
       "                        <td id=\"T_27ea0_row79_col0\" class=\"data row79 col0\" >1</td>\n",
       "            </tr>\n",
       "            <tr>\n",
       "                        <th id=\"T_27ea0_level0_row80\" class=\"row_heading level0 row80\" >secondary_cleaner.state.floatbank4_b_level</th>\n",
       "                        <td id=\"T_27ea0_row80_col0\" class=\"data row80 col0\" >1</td>\n",
       "            </tr>\n",
       "            <tr>\n",
       "                        <th id=\"T_27ea0_level0_row81\" class=\"row_heading level0 row81\" >secondary_cleaner.state.floatbank5_a_air</th>\n",
       "                        <td id=\"T_27ea0_row81_col0\" class=\"data row81 col0\" >1</td>\n",
       "            </tr>\n",
       "            <tr>\n",
       "                        <th id=\"T_27ea0_level0_row82\" class=\"row_heading level0 row82\" >secondary_cleaner.state.floatbank5_a_level</th>\n",
       "                        <td id=\"T_27ea0_row82_col0\" class=\"data row82 col0\" >1</td>\n",
       "            </tr>\n",
       "            <tr>\n",
       "                        <th id=\"T_27ea0_level0_row83\" class=\"row_heading level0 row83\" >secondary_cleaner.state.floatbank5_b_air</th>\n",
       "                        <td id=\"T_27ea0_row83_col0\" class=\"data row83 col0\" >1</td>\n",
       "            </tr>\n",
       "            <tr>\n",
       "                        <th id=\"T_27ea0_level0_row84\" class=\"row_heading level0 row84\" >secondary_cleaner.state.floatbank5_b_level</th>\n",
       "                        <td id=\"T_27ea0_row84_col0\" class=\"data row84 col0\" >1</td>\n",
       "            </tr>\n",
       "            <tr>\n",
       "                        <th id=\"T_27ea0_level0_row85\" class=\"row_heading level0 row85\" >secondary_cleaner.state.floatbank6_a_air</th>\n",
       "                        <td id=\"T_27ea0_row85_col0\" class=\"data row85 col0\" >2</td>\n",
       "            </tr>\n",
       "            <tr>\n",
       "                        <th id=\"T_27ea0_level0_row86\" class=\"row_heading level0 row86\" >secondary_cleaner.state.floatbank6_a_level</th>\n",
       "                        <td id=\"T_27ea0_row86_col0\" class=\"data row86 col0\" >1</td>\n",
       "            </tr>\n",
       "    </tbody></table>"
      ],
      "text/plain": [
       "<pandas.io.formats.style.Styler at 0x7f732a20daf0>"
      ]
     },
     "execution_count": 13,
     "metadata": {},
     "output_type": "execute_result"
    }
   ],
   "source": [
    "pd.DataFrame(data_full.isna().sum(), columns = ['пропусков']).style.background_gradient()"
   ]
  },
  {
   "cell_type": "code",
   "execution_count": 14,
   "metadata": {},
   "outputs": [],
   "source": [
    "# Заполню пропуски ближайшими значениями\n",
    "data_train = data_train.fillna(method='ffill')\n",
    "data_test = data_test.fillna(method='ffill')\n",
    "data_full = data_full.fillna(method='ffill')"
   ]
  },
  {
   "cell_type": "markdown",
   "metadata": {},
   "source": [
    "<font color='blue'><b>Комментарий ревьюера: </b></font> ⚠️\\\n",
    "<font color='darkorange'>Лучше использовать `ffill`, при работе пропуски заполнят предыдущимм значением, а не будущим.</font>"
   ]
  },
  {
   "cell_type": "markdown",
   "metadata": {},
   "source": [
    "<font color='blue'><b>Комментарий ревьюера 2: </b></font> ✔️\\\n",
    "<font color='green'>👍</font>"
   ]
  },
  {
   "cell_type": "code",
   "execution_count": 15,
   "metadata": {},
   "outputs": [
    {
     "data": {
      "text/html": [
       "<style  type=\"text/css\" >\n",
       "#T_b82d8_row0_col0,#T_b82d8_row1_col0,#T_b82d8_row2_col0,#T_b82d8_row3_col0,#T_b82d8_row4_col0,#T_b82d8_row5_col0,#T_b82d8_row6_col0,#T_b82d8_row7_col0,#T_b82d8_row8_col0,#T_b82d8_row9_col0,#T_b82d8_row10_col0,#T_b82d8_row11_col0,#T_b82d8_row12_col0,#T_b82d8_row13_col0,#T_b82d8_row14_col0,#T_b82d8_row15_col0,#T_b82d8_row16_col0,#T_b82d8_row17_col0,#T_b82d8_row18_col0,#T_b82d8_row19_col0,#T_b82d8_row20_col0,#T_b82d8_row21_col0,#T_b82d8_row22_col0,#T_b82d8_row23_col0,#T_b82d8_row24_col0,#T_b82d8_row25_col0,#T_b82d8_row26_col0,#T_b82d8_row27_col0,#T_b82d8_row28_col0,#T_b82d8_row29_col0,#T_b82d8_row30_col0,#T_b82d8_row31_col0,#T_b82d8_row32_col0,#T_b82d8_row33_col0,#T_b82d8_row34_col0,#T_b82d8_row35_col0,#T_b82d8_row36_col0,#T_b82d8_row37_col0,#T_b82d8_row38_col0,#T_b82d8_row39_col0,#T_b82d8_row40_col0,#T_b82d8_row41_col0,#T_b82d8_row42_col0,#T_b82d8_row43_col0,#T_b82d8_row44_col0,#T_b82d8_row45_col0,#T_b82d8_row46_col0,#T_b82d8_row47_col0,#T_b82d8_row48_col0,#T_b82d8_row49_col0,#T_b82d8_row50_col0,#T_b82d8_row51_col0,#T_b82d8_row52_col0,#T_b82d8_row53_col0,#T_b82d8_row54_col0,#T_b82d8_row55_col0,#T_b82d8_row56_col0,#T_b82d8_row57_col0,#T_b82d8_row58_col0,#T_b82d8_row59_col0,#T_b82d8_row60_col0,#T_b82d8_row61_col0,#T_b82d8_row62_col0,#T_b82d8_row63_col0,#T_b82d8_row64_col0,#T_b82d8_row65_col0,#T_b82d8_row66_col0,#T_b82d8_row67_col0,#T_b82d8_row68_col0,#T_b82d8_row69_col0,#T_b82d8_row70_col0,#T_b82d8_row71_col0,#T_b82d8_row72_col0,#T_b82d8_row73_col0,#T_b82d8_row74_col0,#T_b82d8_row75_col0,#T_b82d8_row76_col0,#T_b82d8_row77_col0,#T_b82d8_row78_col0,#T_b82d8_row79_col0,#T_b82d8_row80_col0,#T_b82d8_row81_col0,#T_b82d8_row82_col0,#T_b82d8_row83_col0,#T_b82d8_row84_col0,#T_b82d8_row85_col0,#T_b82d8_row86_col0{\n",
       "            background-color:  #fff7fb;\n",
       "            color:  #000000;\n",
       "        }</style><table id=\"T_b82d8_\" ><thead>    <tr>        <th class=\"blank level0\" ></th>        <th class=\"col_heading level0 col0\" >пропусков</th>    </tr></thead><tbody>\n",
       "                <tr>\n",
       "                        <th id=\"T_b82d8_level0_row0\" class=\"row_heading level0 row0\" >date</th>\n",
       "                        <td id=\"T_b82d8_row0_col0\" class=\"data row0 col0\" >0</td>\n",
       "            </tr>\n",
       "            <tr>\n",
       "                        <th id=\"T_b82d8_level0_row1\" class=\"row_heading level0 row1\" >final.output.concentrate_ag</th>\n",
       "                        <td id=\"T_b82d8_row1_col0\" class=\"data row1 col0\" >0</td>\n",
       "            </tr>\n",
       "            <tr>\n",
       "                        <th id=\"T_b82d8_level0_row2\" class=\"row_heading level0 row2\" >final.output.concentrate_pb</th>\n",
       "                        <td id=\"T_b82d8_row2_col0\" class=\"data row2 col0\" >0</td>\n",
       "            </tr>\n",
       "            <tr>\n",
       "                        <th id=\"T_b82d8_level0_row3\" class=\"row_heading level0 row3\" >final.output.concentrate_sol</th>\n",
       "                        <td id=\"T_b82d8_row3_col0\" class=\"data row3 col0\" >0</td>\n",
       "            </tr>\n",
       "            <tr>\n",
       "                        <th id=\"T_b82d8_level0_row4\" class=\"row_heading level0 row4\" >final.output.concentrate_au</th>\n",
       "                        <td id=\"T_b82d8_row4_col0\" class=\"data row4 col0\" >0</td>\n",
       "            </tr>\n",
       "            <tr>\n",
       "                        <th id=\"T_b82d8_level0_row5\" class=\"row_heading level0 row5\" >final.output.recovery</th>\n",
       "                        <td id=\"T_b82d8_row5_col0\" class=\"data row5 col0\" >0</td>\n",
       "            </tr>\n",
       "            <tr>\n",
       "                        <th id=\"T_b82d8_level0_row6\" class=\"row_heading level0 row6\" >final.output.tail_ag</th>\n",
       "                        <td id=\"T_b82d8_row6_col0\" class=\"data row6 col0\" >0</td>\n",
       "            </tr>\n",
       "            <tr>\n",
       "                        <th id=\"T_b82d8_level0_row7\" class=\"row_heading level0 row7\" >final.output.tail_pb</th>\n",
       "                        <td id=\"T_b82d8_row7_col0\" class=\"data row7 col0\" >0</td>\n",
       "            </tr>\n",
       "            <tr>\n",
       "                        <th id=\"T_b82d8_level0_row8\" class=\"row_heading level0 row8\" >final.output.tail_sol</th>\n",
       "                        <td id=\"T_b82d8_row8_col0\" class=\"data row8 col0\" >0</td>\n",
       "            </tr>\n",
       "            <tr>\n",
       "                        <th id=\"T_b82d8_level0_row9\" class=\"row_heading level0 row9\" >final.output.tail_au</th>\n",
       "                        <td id=\"T_b82d8_row9_col0\" class=\"data row9 col0\" >0</td>\n",
       "            </tr>\n",
       "            <tr>\n",
       "                        <th id=\"T_b82d8_level0_row10\" class=\"row_heading level0 row10\" >primary_cleaner.input.sulfate</th>\n",
       "                        <td id=\"T_b82d8_row10_col0\" class=\"data row10 col0\" >0</td>\n",
       "            </tr>\n",
       "            <tr>\n",
       "                        <th id=\"T_b82d8_level0_row11\" class=\"row_heading level0 row11\" >primary_cleaner.input.depressant</th>\n",
       "                        <td id=\"T_b82d8_row11_col0\" class=\"data row11 col0\" >0</td>\n",
       "            </tr>\n",
       "            <tr>\n",
       "                        <th id=\"T_b82d8_level0_row12\" class=\"row_heading level0 row12\" >primary_cleaner.input.feed_size</th>\n",
       "                        <td id=\"T_b82d8_row12_col0\" class=\"data row12 col0\" >0</td>\n",
       "            </tr>\n",
       "            <tr>\n",
       "                        <th id=\"T_b82d8_level0_row13\" class=\"row_heading level0 row13\" >primary_cleaner.input.xanthate</th>\n",
       "                        <td id=\"T_b82d8_row13_col0\" class=\"data row13 col0\" >0</td>\n",
       "            </tr>\n",
       "            <tr>\n",
       "                        <th id=\"T_b82d8_level0_row14\" class=\"row_heading level0 row14\" >primary_cleaner.output.concentrate_ag</th>\n",
       "                        <td id=\"T_b82d8_row14_col0\" class=\"data row14 col0\" >0</td>\n",
       "            </tr>\n",
       "            <tr>\n",
       "                        <th id=\"T_b82d8_level0_row15\" class=\"row_heading level0 row15\" >primary_cleaner.output.concentrate_pb</th>\n",
       "                        <td id=\"T_b82d8_row15_col0\" class=\"data row15 col0\" >0</td>\n",
       "            </tr>\n",
       "            <tr>\n",
       "                        <th id=\"T_b82d8_level0_row16\" class=\"row_heading level0 row16\" >primary_cleaner.output.concentrate_sol</th>\n",
       "                        <td id=\"T_b82d8_row16_col0\" class=\"data row16 col0\" >0</td>\n",
       "            </tr>\n",
       "            <tr>\n",
       "                        <th id=\"T_b82d8_level0_row17\" class=\"row_heading level0 row17\" >primary_cleaner.output.concentrate_au</th>\n",
       "                        <td id=\"T_b82d8_row17_col0\" class=\"data row17 col0\" >0</td>\n",
       "            </tr>\n",
       "            <tr>\n",
       "                        <th id=\"T_b82d8_level0_row18\" class=\"row_heading level0 row18\" >primary_cleaner.output.tail_ag</th>\n",
       "                        <td id=\"T_b82d8_row18_col0\" class=\"data row18 col0\" >0</td>\n",
       "            </tr>\n",
       "            <tr>\n",
       "                        <th id=\"T_b82d8_level0_row19\" class=\"row_heading level0 row19\" >primary_cleaner.output.tail_pb</th>\n",
       "                        <td id=\"T_b82d8_row19_col0\" class=\"data row19 col0\" >0</td>\n",
       "            </tr>\n",
       "            <tr>\n",
       "                        <th id=\"T_b82d8_level0_row20\" class=\"row_heading level0 row20\" >primary_cleaner.output.tail_sol</th>\n",
       "                        <td id=\"T_b82d8_row20_col0\" class=\"data row20 col0\" >0</td>\n",
       "            </tr>\n",
       "            <tr>\n",
       "                        <th id=\"T_b82d8_level0_row21\" class=\"row_heading level0 row21\" >primary_cleaner.output.tail_au</th>\n",
       "                        <td id=\"T_b82d8_row21_col0\" class=\"data row21 col0\" >0</td>\n",
       "            </tr>\n",
       "            <tr>\n",
       "                        <th id=\"T_b82d8_level0_row22\" class=\"row_heading level0 row22\" >primary_cleaner.state.floatbank8_a_air</th>\n",
       "                        <td id=\"T_b82d8_row22_col0\" class=\"data row22 col0\" >0</td>\n",
       "            </tr>\n",
       "            <tr>\n",
       "                        <th id=\"T_b82d8_level0_row23\" class=\"row_heading level0 row23\" >primary_cleaner.state.floatbank8_a_level</th>\n",
       "                        <td id=\"T_b82d8_row23_col0\" class=\"data row23 col0\" >0</td>\n",
       "            </tr>\n",
       "            <tr>\n",
       "                        <th id=\"T_b82d8_level0_row24\" class=\"row_heading level0 row24\" >primary_cleaner.state.floatbank8_b_air</th>\n",
       "                        <td id=\"T_b82d8_row24_col0\" class=\"data row24 col0\" >0</td>\n",
       "            </tr>\n",
       "            <tr>\n",
       "                        <th id=\"T_b82d8_level0_row25\" class=\"row_heading level0 row25\" >primary_cleaner.state.floatbank8_b_level</th>\n",
       "                        <td id=\"T_b82d8_row25_col0\" class=\"data row25 col0\" >0</td>\n",
       "            </tr>\n",
       "            <tr>\n",
       "                        <th id=\"T_b82d8_level0_row26\" class=\"row_heading level0 row26\" >primary_cleaner.state.floatbank8_c_air</th>\n",
       "                        <td id=\"T_b82d8_row26_col0\" class=\"data row26 col0\" >0</td>\n",
       "            </tr>\n",
       "            <tr>\n",
       "                        <th id=\"T_b82d8_level0_row27\" class=\"row_heading level0 row27\" >primary_cleaner.state.floatbank8_c_level</th>\n",
       "                        <td id=\"T_b82d8_row27_col0\" class=\"data row27 col0\" >0</td>\n",
       "            </tr>\n",
       "            <tr>\n",
       "                        <th id=\"T_b82d8_level0_row28\" class=\"row_heading level0 row28\" >primary_cleaner.state.floatbank8_d_air</th>\n",
       "                        <td id=\"T_b82d8_row28_col0\" class=\"data row28 col0\" >0</td>\n",
       "            </tr>\n",
       "            <tr>\n",
       "                        <th id=\"T_b82d8_level0_row29\" class=\"row_heading level0 row29\" >primary_cleaner.state.floatbank8_d_level</th>\n",
       "                        <td id=\"T_b82d8_row29_col0\" class=\"data row29 col0\" >0</td>\n",
       "            </tr>\n",
       "            <tr>\n",
       "                        <th id=\"T_b82d8_level0_row30\" class=\"row_heading level0 row30\" >rougher.calculation.sulfate_to_au_concentrate</th>\n",
       "                        <td id=\"T_b82d8_row30_col0\" class=\"data row30 col0\" >0</td>\n",
       "            </tr>\n",
       "            <tr>\n",
       "                        <th id=\"T_b82d8_level0_row31\" class=\"row_heading level0 row31\" >rougher.calculation.floatbank10_sulfate_to_au_feed</th>\n",
       "                        <td id=\"T_b82d8_row31_col0\" class=\"data row31 col0\" >0</td>\n",
       "            </tr>\n",
       "            <tr>\n",
       "                        <th id=\"T_b82d8_level0_row32\" class=\"row_heading level0 row32\" >rougher.calculation.floatbank11_sulfate_to_au_feed</th>\n",
       "                        <td id=\"T_b82d8_row32_col0\" class=\"data row32 col0\" >0</td>\n",
       "            </tr>\n",
       "            <tr>\n",
       "                        <th id=\"T_b82d8_level0_row33\" class=\"row_heading level0 row33\" >rougher.calculation.au_pb_ratio</th>\n",
       "                        <td id=\"T_b82d8_row33_col0\" class=\"data row33 col0\" >0</td>\n",
       "            </tr>\n",
       "            <tr>\n",
       "                        <th id=\"T_b82d8_level0_row34\" class=\"row_heading level0 row34\" >rougher.input.feed_ag</th>\n",
       "                        <td id=\"T_b82d8_row34_col0\" class=\"data row34 col0\" >0</td>\n",
       "            </tr>\n",
       "            <tr>\n",
       "                        <th id=\"T_b82d8_level0_row35\" class=\"row_heading level0 row35\" >rougher.input.feed_pb</th>\n",
       "                        <td id=\"T_b82d8_row35_col0\" class=\"data row35 col0\" >0</td>\n",
       "            </tr>\n",
       "            <tr>\n",
       "                        <th id=\"T_b82d8_level0_row36\" class=\"row_heading level0 row36\" >rougher.input.feed_rate</th>\n",
       "                        <td id=\"T_b82d8_row36_col0\" class=\"data row36 col0\" >0</td>\n",
       "            </tr>\n",
       "            <tr>\n",
       "                        <th id=\"T_b82d8_level0_row37\" class=\"row_heading level0 row37\" >rougher.input.feed_size</th>\n",
       "                        <td id=\"T_b82d8_row37_col0\" class=\"data row37 col0\" >0</td>\n",
       "            </tr>\n",
       "            <tr>\n",
       "                        <th id=\"T_b82d8_level0_row38\" class=\"row_heading level0 row38\" >rougher.input.feed_sol</th>\n",
       "                        <td id=\"T_b82d8_row38_col0\" class=\"data row38 col0\" >0</td>\n",
       "            </tr>\n",
       "            <tr>\n",
       "                        <th id=\"T_b82d8_level0_row39\" class=\"row_heading level0 row39\" >rougher.input.feed_au</th>\n",
       "                        <td id=\"T_b82d8_row39_col0\" class=\"data row39 col0\" >0</td>\n",
       "            </tr>\n",
       "            <tr>\n",
       "                        <th id=\"T_b82d8_level0_row40\" class=\"row_heading level0 row40\" >rougher.input.floatbank10_sulfate</th>\n",
       "                        <td id=\"T_b82d8_row40_col0\" class=\"data row40 col0\" >0</td>\n",
       "            </tr>\n",
       "            <tr>\n",
       "                        <th id=\"T_b82d8_level0_row41\" class=\"row_heading level0 row41\" >rougher.input.floatbank10_xanthate</th>\n",
       "                        <td id=\"T_b82d8_row41_col0\" class=\"data row41 col0\" >0</td>\n",
       "            </tr>\n",
       "            <tr>\n",
       "                        <th id=\"T_b82d8_level0_row42\" class=\"row_heading level0 row42\" >rougher.input.floatbank11_sulfate</th>\n",
       "                        <td id=\"T_b82d8_row42_col0\" class=\"data row42 col0\" >0</td>\n",
       "            </tr>\n",
       "            <tr>\n",
       "                        <th id=\"T_b82d8_level0_row43\" class=\"row_heading level0 row43\" >rougher.input.floatbank11_xanthate</th>\n",
       "                        <td id=\"T_b82d8_row43_col0\" class=\"data row43 col0\" >0</td>\n",
       "            </tr>\n",
       "            <tr>\n",
       "                        <th id=\"T_b82d8_level0_row44\" class=\"row_heading level0 row44\" >rougher.output.concentrate_ag</th>\n",
       "                        <td id=\"T_b82d8_row44_col0\" class=\"data row44 col0\" >0</td>\n",
       "            </tr>\n",
       "            <tr>\n",
       "                        <th id=\"T_b82d8_level0_row45\" class=\"row_heading level0 row45\" >rougher.output.concentrate_pb</th>\n",
       "                        <td id=\"T_b82d8_row45_col0\" class=\"data row45 col0\" >0</td>\n",
       "            </tr>\n",
       "            <tr>\n",
       "                        <th id=\"T_b82d8_level0_row46\" class=\"row_heading level0 row46\" >rougher.output.concentrate_sol</th>\n",
       "                        <td id=\"T_b82d8_row46_col0\" class=\"data row46 col0\" >0</td>\n",
       "            </tr>\n",
       "            <tr>\n",
       "                        <th id=\"T_b82d8_level0_row47\" class=\"row_heading level0 row47\" >rougher.output.concentrate_au</th>\n",
       "                        <td id=\"T_b82d8_row47_col0\" class=\"data row47 col0\" >0</td>\n",
       "            </tr>\n",
       "            <tr>\n",
       "                        <th id=\"T_b82d8_level0_row48\" class=\"row_heading level0 row48\" >rougher.output.recovery</th>\n",
       "                        <td id=\"T_b82d8_row48_col0\" class=\"data row48 col0\" >0</td>\n",
       "            </tr>\n",
       "            <tr>\n",
       "                        <th id=\"T_b82d8_level0_row49\" class=\"row_heading level0 row49\" >rougher.output.tail_ag</th>\n",
       "                        <td id=\"T_b82d8_row49_col0\" class=\"data row49 col0\" >0</td>\n",
       "            </tr>\n",
       "            <tr>\n",
       "                        <th id=\"T_b82d8_level0_row50\" class=\"row_heading level0 row50\" >rougher.output.tail_pb</th>\n",
       "                        <td id=\"T_b82d8_row50_col0\" class=\"data row50 col0\" >0</td>\n",
       "            </tr>\n",
       "            <tr>\n",
       "                        <th id=\"T_b82d8_level0_row51\" class=\"row_heading level0 row51\" >rougher.output.tail_sol</th>\n",
       "                        <td id=\"T_b82d8_row51_col0\" class=\"data row51 col0\" >0</td>\n",
       "            </tr>\n",
       "            <tr>\n",
       "                        <th id=\"T_b82d8_level0_row52\" class=\"row_heading level0 row52\" >rougher.output.tail_au</th>\n",
       "                        <td id=\"T_b82d8_row52_col0\" class=\"data row52 col0\" >0</td>\n",
       "            </tr>\n",
       "            <tr>\n",
       "                        <th id=\"T_b82d8_level0_row53\" class=\"row_heading level0 row53\" >rougher.state.floatbank10_a_air</th>\n",
       "                        <td id=\"T_b82d8_row53_col0\" class=\"data row53 col0\" >0</td>\n",
       "            </tr>\n",
       "            <tr>\n",
       "                        <th id=\"T_b82d8_level0_row54\" class=\"row_heading level0 row54\" >rougher.state.floatbank10_a_level</th>\n",
       "                        <td id=\"T_b82d8_row54_col0\" class=\"data row54 col0\" >0</td>\n",
       "            </tr>\n",
       "            <tr>\n",
       "                        <th id=\"T_b82d8_level0_row55\" class=\"row_heading level0 row55\" >rougher.state.floatbank10_b_air</th>\n",
       "                        <td id=\"T_b82d8_row55_col0\" class=\"data row55 col0\" >0</td>\n",
       "            </tr>\n",
       "            <tr>\n",
       "                        <th id=\"T_b82d8_level0_row56\" class=\"row_heading level0 row56\" >rougher.state.floatbank10_b_level</th>\n",
       "                        <td id=\"T_b82d8_row56_col0\" class=\"data row56 col0\" >0</td>\n",
       "            </tr>\n",
       "            <tr>\n",
       "                        <th id=\"T_b82d8_level0_row57\" class=\"row_heading level0 row57\" >rougher.state.floatbank10_c_air</th>\n",
       "                        <td id=\"T_b82d8_row57_col0\" class=\"data row57 col0\" >0</td>\n",
       "            </tr>\n",
       "            <tr>\n",
       "                        <th id=\"T_b82d8_level0_row58\" class=\"row_heading level0 row58\" >rougher.state.floatbank10_c_level</th>\n",
       "                        <td id=\"T_b82d8_row58_col0\" class=\"data row58 col0\" >0</td>\n",
       "            </tr>\n",
       "            <tr>\n",
       "                        <th id=\"T_b82d8_level0_row59\" class=\"row_heading level0 row59\" >rougher.state.floatbank10_d_air</th>\n",
       "                        <td id=\"T_b82d8_row59_col0\" class=\"data row59 col0\" >0</td>\n",
       "            </tr>\n",
       "            <tr>\n",
       "                        <th id=\"T_b82d8_level0_row60\" class=\"row_heading level0 row60\" >rougher.state.floatbank10_d_level</th>\n",
       "                        <td id=\"T_b82d8_row60_col0\" class=\"data row60 col0\" >0</td>\n",
       "            </tr>\n",
       "            <tr>\n",
       "                        <th id=\"T_b82d8_level0_row61\" class=\"row_heading level0 row61\" >rougher.state.floatbank10_e_air</th>\n",
       "                        <td id=\"T_b82d8_row61_col0\" class=\"data row61 col0\" >0</td>\n",
       "            </tr>\n",
       "            <tr>\n",
       "                        <th id=\"T_b82d8_level0_row62\" class=\"row_heading level0 row62\" >rougher.state.floatbank10_e_level</th>\n",
       "                        <td id=\"T_b82d8_row62_col0\" class=\"data row62 col0\" >0</td>\n",
       "            </tr>\n",
       "            <tr>\n",
       "                        <th id=\"T_b82d8_level0_row63\" class=\"row_heading level0 row63\" >rougher.state.floatbank10_f_air</th>\n",
       "                        <td id=\"T_b82d8_row63_col0\" class=\"data row63 col0\" >0</td>\n",
       "            </tr>\n",
       "            <tr>\n",
       "                        <th id=\"T_b82d8_level0_row64\" class=\"row_heading level0 row64\" >rougher.state.floatbank10_f_level</th>\n",
       "                        <td id=\"T_b82d8_row64_col0\" class=\"data row64 col0\" >0</td>\n",
       "            </tr>\n",
       "            <tr>\n",
       "                        <th id=\"T_b82d8_level0_row65\" class=\"row_heading level0 row65\" >secondary_cleaner.output.tail_ag</th>\n",
       "                        <td id=\"T_b82d8_row65_col0\" class=\"data row65 col0\" >0</td>\n",
       "            </tr>\n",
       "            <tr>\n",
       "                        <th id=\"T_b82d8_level0_row66\" class=\"row_heading level0 row66\" >secondary_cleaner.output.tail_pb</th>\n",
       "                        <td id=\"T_b82d8_row66_col0\" class=\"data row66 col0\" >0</td>\n",
       "            </tr>\n",
       "            <tr>\n",
       "                        <th id=\"T_b82d8_level0_row67\" class=\"row_heading level0 row67\" >secondary_cleaner.output.tail_sol</th>\n",
       "                        <td id=\"T_b82d8_row67_col0\" class=\"data row67 col0\" >0</td>\n",
       "            </tr>\n",
       "            <tr>\n",
       "                        <th id=\"T_b82d8_level0_row68\" class=\"row_heading level0 row68\" >secondary_cleaner.output.tail_au</th>\n",
       "                        <td id=\"T_b82d8_row68_col0\" class=\"data row68 col0\" >0</td>\n",
       "            </tr>\n",
       "            <tr>\n",
       "                        <th id=\"T_b82d8_level0_row69\" class=\"row_heading level0 row69\" >secondary_cleaner.state.floatbank2_a_air</th>\n",
       "                        <td id=\"T_b82d8_row69_col0\" class=\"data row69 col0\" >0</td>\n",
       "            </tr>\n",
       "            <tr>\n",
       "                        <th id=\"T_b82d8_level0_row70\" class=\"row_heading level0 row70\" >secondary_cleaner.state.floatbank2_a_level</th>\n",
       "                        <td id=\"T_b82d8_row70_col0\" class=\"data row70 col0\" >0</td>\n",
       "            </tr>\n",
       "            <tr>\n",
       "                        <th id=\"T_b82d8_level0_row71\" class=\"row_heading level0 row71\" >secondary_cleaner.state.floatbank2_b_air</th>\n",
       "                        <td id=\"T_b82d8_row71_col0\" class=\"data row71 col0\" >0</td>\n",
       "            </tr>\n",
       "            <tr>\n",
       "                        <th id=\"T_b82d8_level0_row72\" class=\"row_heading level0 row72\" >secondary_cleaner.state.floatbank2_b_level</th>\n",
       "                        <td id=\"T_b82d8_row72_col0\" class=\"data row72 col0\" >0</td>\n",
       "            </tr>\n",
       "            <tr>\n",
       "                        <th id=\"T_b82d8_level0_row73\" class=\"row_heading level0 row73\" >secondary_cleaner.state.floatbank3_a_air</th>\n",
       "                        <td id=\"T_b82d8_row73_col0\" class=\"data row73 col0\" >0</td>\n",
       "            </tr>\n",
       "            <tr>\n",
       "                        <th id=\"T_b82d8_level0_row74\" class=\"row_heading level0 row74\" >secondary_cleaner.state.floatbank3_a_level</th>\n",
       "                        <td id=\"T_b82d8_row74_col0\" class=\"data row74 col0\" >0</td>\n",
       "            </tr>\n",
       "            <tr>\n",
       "                        <th id=\"T_b82d8_level0_row75\" class=\"row_heading level0 row75\" >secondary_cleaner.state.floatbank3_b_air</th>\n",
       "                        <td id=\"T_b82d8_row75_col0\" class=\"data row75 col0\" >0</td>\n",
       "            </tr>\n",
       "            <tr>\n",
       "                        <th id=\"T_b82d8_level0_row76\" class=\"row_heading level0 row76\" >secondary_cleaner.state.floatbank3_b_level</th>\n",
       "                        <td id=\"T_b82d8_row76_col0\" class=\"data row76 col0\" >0</td>\n",
       "            </tr>\n",
       "            <tr>\n",
       "                        <th id=\"T_b82d8_level0_row77\" class=\"row_heading level0 row77\" >secondary_cleaner.state.floatbank4_a_air</th>\n",
       "                        <td id=\"T_b82d8_row77_col0\" class=\"data row77 col0\" >0</td>\n",
       "            </tr>\n",
       "            <tr>\n",
       "                        <th id=\"T_b82d8_level0_row78\" class=\"row_heading level0 row78\" >secondary_cleaner.state.floatbank4_a_level</th>\n",
       "                        <td id=\"T_b82d8_row78_col0\" class=\"data row78 col0\" >0</td>\n",
       "            </tr>\n",
       "            <tr>\n",
       "                        <th id=\"T_b82d8_level0_row79\" class=\"row_heading level0 row79\" >secondary_cleaner.state.floatbank4_b_air</th>\n",
       "                        <td id=\"T_b82d8_row79_col0\" class=\"data row79 col0\" >0</td>\n",
       "            </tr>\n",
       "            <tr>\n",
       "                        <th id=\"T_b82d8_level0_row80\" class=\"row_heading level0 row80\" >secondary_cleaner.state.floatbank4_b_level</th>\n",
       "                        <td id=\"T_b82d8_row80_col0\" class=\"data row80 col0\" >0</td>\n",
       "            </tr>\n",
       "            <tr>\n",
       "                        <th id=\"T_b82d8_level0_row81\" class=\"row_heading level0 row81\" >secondary_cleaner.state.floatbank5_a_air</th>\n",
       "                        <td id=\"T_b82d8_row81_col0\" class=\"data row81 col0\" >0</td>\n",
       "            </tr>\n",
       "            <tr>\n",
       "                        <th id=\"T_b82d8_level0_row82\" class=\"row_heading level0 row82\" >secondary_cleaner.state.floatbank5_a_level</th>\n",
       "                        <td id=\"T_b82d8_row82_col0\" class=\"data row82 col0\" >0</td>\n",
       "            </tr>\n",
       "            <tr>\n",
       "                        <th id=\"T_b82d8_level0_row83\" class=\"row_heading level0 row83\" >secondary_cleaner.state.floatbank5_b_air</th>\n",
       "                        <td id=\"T_b82d8_row83_col0\" class=\"data row83 col0\" >0</td>\n",
       "            </tr>\n",
       "            <tr>\n",
       "                        <th id=\"T_b82d8_level0_row84\" class=\"row_heading level0 row84\" >secondary_cleaner.state.floatbank5_b_level</th>\n",
       "                        <td id=\"T_b82d8_row84_col0\" class=\"data row84 col0\" >0</td>\n",
       "            </tr>\n",
       "            <tr>\n",
       "                        <th id=\"T_b82d8_level0_row85\" class=\"row_heading level0 row85\" >secondary_cleaner.state.floatbank6_a_air</th>\n",
       "                        <td id=\"T_b82d8_row85_col0\" class=\"data row85 col0\" >0</td>\n",
       "            </tr>\n",
       "            <tr>\n",
       "                        <th id=\"T_b82d8_level0_row86\" class=\"row_heading level0 row86\" >secondary_cleaner.state.floatbank6_a_level</th>\n",
       "                        <td id=\"T_b82d8_row86_col0\" class=\"data row86 col0\" >0</td>\n",
       "            </tr>\n",
       "    </tbody></table>"
      ],
      "text/plain": [
       "<pandas.io.formats.style.Styler at 0x7f732a259760>"
      ]
     },
     "execution_count": 15,
     "metadata": {},
     "output_type": "execute_result"
    }
   ],
   "source": [
    "pd.DataFrame(data_train.isna().sum(), columns = ['пропусков']).style.background_gradient()"
   ]
  },
  {
   "cell_type": "markdown",
   "metadata": {},
   "source": [
    "<font color='blue'><b>Комментарий ревьюера: </b></font> ⚠️\\\n",
    "<font color='darkorange'> Очень много закомментированного кода. Если код не нужен его лучше удалять из проекта. Такой код никто не читает, но он создаёт ощущение незаконченой работы.</font>"
   ]
  },
  {
   "cell_type": "markdown",
   "metadata": {},
   "source": [
    "<font color='blue'><b>Комментарий ревьюера 2: </b></font> ✔️\\\n",
    "<font color='green'>👍</font>"
   ]
  },
  {
   "cell_type": "code",
   "execution_count": 16,
   "metadata": {},
   "outputs": [
    {
     "name": "stdout",
     "output_type": "stream",
     "text": [
      "(14149, 87)\n",
      "(5290, 53)\n",
      "(19439, 87)\n"
     ]
    }
   ],
   "source": [
    "#посмотрю на размер выборок\n",
    "print(data_train.shape)\n",
    "print(data_test.shape)\n",
    "print(data_full.shape)"
   ]
  },
  {
   "cell_type": "code",
   "execution_count": 17,
   "metadata": {},
   "outputs": [],
   "source": [
    "# посчитаю пропущенные колонки в тесте\n",
    "lost = set(data_full.columns) - set(data_test.columns)\n"
   ]
  },
  {
   "cell_type": "code",
   "execution_count": 18,
   "metadata": {},
   "outputs": [
    {
     "data": {
      "text/plain": [
       "{'final.output.concentrate_ag',\n",
       " 'final.output.concentrate_au',\n",
       " 'final.output.concentrate_pb',\n",
       " 'final.output.concentrate_sol',\n",
       " 'final.output.recovery',\n",
       " 'final.output.tail_ag',\n",
       " 'final.output.tail_au',\n",
       " 'final.output.tail_pb',\n",
       " 'final.output.tail_sol',\n",
       " 'primary_cleaner.output.concentrate_ag',\n",
       " 'primary_cleaner.output.concentrate_au',\n",
       " 'primary_cleaner.output.concentrate_pb',\n",
       " 'primary_cleaner.output.concentrate_sol',\n",
       " 'primary_cleaner.output.tail_ag',\n",
       " 'primary_cleaner.output.tail_au',\n",
       " 'primary_cleaner.output.tail_pb',\n",
       " 'primary_cleaner.output.tail_sol',\n",
       " 'rougher.calculation.au_pb_ratio',\n",
       " 'rougher.calculation.floatbank10_sulfate_to_au_feed',\n",
       " 'rougher.calculation.floatbank11_sulfate_to_au_feed',\n",
       " 'rougher.calculation.sulfate_to_au_concentrate',\n",
       " 'rougher.output.concentrate_ag',\n",
       " 'rougher.output.concentrate_au',\n",
       " 'rougher.output.concentrate_pb',\n",
       " 'rougher.output.concentrate_sol',\n",
       " 'rougher.output.recovery',\n",
       " 'rougher.output.tail_ag',\n",
       " 'rougher.output.tail_au',\n",
       " 'rougher.output.tail_pb',\n",
       " 'rougher.output.tail_sol',\n",
       " 'secondary_cleaner.output.tail_ag',\n",
       " 'secondary_cleaner.output.tail_au',\n",
       " 'secondary_cleaner.output.tail_pb',\n",
       " 'secondary_cleaner.output.tail_sol'}"
      ]
     },
     "execution_count": 18,
     "metadata": {},
     "output_type": "execute_result"
    }
   ],
   "source": [
    "# надеюсь, это те самые колонки из условия задания (?)\n",
    "lost"
   ]
  },
  {
   "cell_type": "code",
   "execution_count": 19,
   "metadata": {},
   "outputs": [
    {
     "name": "stdout",
     "output_type": "stream",
     "text": [
      "\n",
      "Пропущенные колонки - 34\n"
     ]
    }
   ],
   "source": [
    "print('\\nПропущенные колонки -', len(lost))\n"
   ]
  },
  {
   "cell_type": "markdown",
   "metadata": {},
   "source": [
    "## Анализ данных"
   ]
  },
  {
   "cell_type": "markdown",
   "metadata": {},
   "source": [
    "Проверьте, что эффективность обогащения рассчитана правильно. Вычислите её на обучающей выборке\n",
    "\n",
    "для признака rougher.output.recovery. Найдите MAE между вашими расчётами и значением признака. Опишите выводы.\n",
    "\n",
    "1.3. Проанализируйте признаки, недоступные в тестовой выборке. Что это за параметры? К какому типу относятся?\n",
    "\n",
    "2.1. Посмотрите, как меняется концентрация металлов (Au, Ag, Pb) на различных этапах очистки. Опишите выводы.\n",
    "\n",
    "2.2.  Сравните распределения размеров гранул сырья на обучающей и тестовой выборках. Если распределения \n",
    "сильно отличаются друг от друга, оценка модели будет неправильной.\n",
    "\n",
    "2.3. Исследуйте суммарную концентрацию всех веществ на разных стадиях: в сырье, в черновом и финальном концентратах. "
   ]
  },
  {
   "cell_type": "markdown",
   "metadata": {},
   "source": [
    "### Проверьте, что эффективность обогащения рассчитана правильно. Вычислите её на обучающей выборке\n",
    "\n",
    "для признака rougher.output.recovery. Найдите MAE между вашими расчётами и значением признака. "
   ]
  },
  {
   "cell_type": "markdown",
   "metadata": {},
   "source": [
    "recovery = ((C(F-T))/(FC-T))*100%, где:\n",
    "\n",
    "С - доля золота концентрате после фильтрации/очитски\n",
    "\n",
    "F - доля золота в сырье/концентрате до флотации/очистки\n",
    "\n",
    "T - доля золота в отвальных хвостах после фильтрации/очистки\n",
    "\n",
    "Принимая во внимание условие задачи, нам нужен этап флотации, а значит:\n",
    "\n",
    "C это rougher.output.concentrate_au\n",
    "\n",
    "F это rougher.input.feed_au\n",
    "\n",
    "T это rougher.output.tail_au\n",
    "\n",
    "Значение нужного нам признака - rougher.output.recovery"
   ]
  },
  {
   "cell_type": "code",
   "execution_count": 20,
   "metadata": {},
   "outputs": [
    {
     "name": "stdout",
     "output_type": "stream",
     "text": [
      "MAE  9.73512347450521e-15\n"
     ]
    }
   ],
   "source": [
    "# рассчитаю МАЕ\n",
    "C = data_train['rougher.output.concentrate_au']\n",
    "F = data_train['rougher.input.feed_au']\n",
    "T = data_train['rougher.output.tail_au']\n",
    "recovery = ((C*(F-T))/(F*(C-T))) * 100\n",
    "print('MAE ', mean_absolute_error(data_train['rougher.output.recovery'], recovery))"
   ]
  },
  {
   "cell_type": "markdown",
   "metadata": {},
   "source": [
    "<font color='blue'><b>Комментарий ревьюера: </b></font> ✔️\\\n",
    "<font color='green'>Расчёт верный!</font>"
   ]
  },
  {
   "cell_type": "markdown",
   "metadata": {},
   "source": [
    "MAE - средний модуль разности, и показывает как сильно предсказания в среднем отличаются от истинных значений. Полученное значение мало, а значит расчеты верны."
   ]
  },
  {
   "cell_type": "markdown",
   "metadata": {},
   "source": [
    "<font color='blue'><b>Комментарий ревьюера: </b></font> ✔️\\\n",
    "<font color='green'>👍</font>"
   ]
  },
  {
   "cell_type": "markdown",
   "metadata": {},
   "source": [
    "### Проанализируйте признаки, недоступные в тестовой выборке."
   ]
  },
  {
   "cell_type": "markdown",
   "metadata": {},
   "source": [
    "<font color='blue'><b>Комментарий ревьюера: </b></font> ❌\\\n",
    "<font color='red'><s> Нужен вывод: что это за колонки, почему их нет в тесте, и что в связи с этим делать?</s></font>"
   ]
  },
  {
   "cell_type": "markdown",
   "metadata": {},
   "source": [
    "Из условия проекта: некоторые параметры недоступны, потому что замеряются и/или рассчитываются значительно позже. Из-за этого в тестовой выборке отсутствуют некоторые признаки, которые могут быть в обучающей. Также в тестовом наборе нет целевых признаков.\n"
   ]
  },
  {
   "cell_type": "markdown",
   "metadata": {},
   "source": [
    "<font color='blue'><b>Комментарий ревьюера 2: </b></font> ✔️\\\n",
    "<font color='green'> Верно!</font>"
   ]
  },
  {
   "cell_type": "code",
   "execution_count": 21,
   "metadata": {},
   "outputs": [],
   "source": [
    "#вытащим из full только 2 колонки для test\n",
    "data_test = data_test.merge(data_full.loc[:, ['date','rougher.output.recovery','final.output.recovery']], on='date')"
   ]
  },
  {
   "cell_type": "markdown",
   "metadata": {},
   "source": [
    "<font color='blue'><b>Комментарий ревьюера : </b></font> ✔️\\\n",
    "<font color='green'> Верно, при объединении таблиц нужно привязаться ко времени наблюдения.</font>"
   ]
  },
  {
   "cell_type": "code",
   "execution_count": 22,
   "metadata": {},
   "outputs": [],
   "source": [
    "#data_test.columns\n"
   ]
  },
  {
   "cell_type": "markdown",
   "metadata": {},
   "source": [
    "### Посмотрите, как меняется концентрация металлов (Au, Ag, Pb) на различных этапах очистки. "
   ]
  },
  {
   "cell_type": "code",
   "execution_count": 23,
   "metadata": {},
   "outputs": [
    {
     "data": {
      "image/png": "[encoded data removed]",
      "text/plain": [
       "<Figure size 1080x360 with 1 Axes>"
      ]
     },
     "metadata": {
      "needs_background": "light"
     },
     "output_type": "display_data"
    }
   ],
   "source": [
    "#Концентрация металлов на различных этапах очистки\n",
    "# Визуализация концентрации Ag\n",
    "plt.figure(figsize=(15,5))\n",
    "data_full['rougher.input.feed_ag'].hist(bins=25, label='сырье', alpha=0.5)\n",
    "data_full['rougher.output.concentrate_ag'].hist(bins=25, label='Концентрация после флотации', alpha=0.5)\n",
    "data_full['primary_cleaner.output.concentrate_ag'].hist(bins=25, label='Концентрация после первичной очистки', alpha=0.5)\n",
    "data_full['final.output.concentrate_ag'].hist(bins=25, label='финальная концентрация', alpha=0.5)\n",
    "plt.title('Диаграмма концентрации серебра ag')\n",
    "plt.legend(loc='lower right')\n",
    "plt.xlabel('концентрация металла')\n",
    "plt.ylabel('количество наблюдений')\n",
    "plt.show()"
   ]
  },
  {
   "cell_type": "markdown",
   "metadata": {},
   "source": [
    "Доля серебра увеличивается на этапе флотации, а затем постепенно уменьшается."
   ]
  },
  {
   "cell_type": "code",
   "execution_count": 24,
   "metadata": {},
   "outputs": [
    {
     "data": {
      "text/plain": [
       "rougher.output.concentrate_ag            11.994759\n",
       "primary_cleaner.output.concentrate_ag     8.442408\n",
       "final.output.concentrate_ag               5.168387\n",
       "dtype: float64"
      ]
     },
     "execution_count": 24,
     "metadata": {},
     "output_type": "execute_result"
    }
   ],
   "source": [
    "# Концентрация металла в сырье\n",
    "data_full[\n",
    "    ['rougher.output.concentrate_ag', 'primary_cleaner.output.concentrate_ag', 'final.output.concentrate_ag']].mean(\n",
    ")"
   ]
  },
  {
   "cell_type": "code",
   "execution_count": 25,
   "metadata": {},
   "outputs": [
    {
     "data": {
      "text/plain": [
       "rougher.output.tail_ag               5.589064\n",
       "primary_cleaner.output.tail_ag      16.145888\n",
       "secondary_cleaner.output.tail_ag    14.586720\n",
       "dtype: float64"
      ]
     },
     "execution_count": 25,
     "metadata": {},
     "output_type": "execute_result"
    }
   ],
   "source": [
    "# Концентрация металла в хвостах\n",
    "data_full[\n",
    "    ['rougher.output.tail_ag', 'primary_cleaner.output.tail_ag', 'secondary_cleaner.output.tail_ag']].mean(\n",
    ")"
   ]
  },
  {
   "cell_type": "code",
   "execution_count": 26,
   "metadata": {},
   "outputs": [
    {
     "data": {
      "image/png": "[encoded data removed]",
      "text/plain": [
       "<Figure size 1080x360 with 1 Axes>"
      ]
     },
     "metadata": {
      "needs_background": "light"
     },
     "output_type": "display_data"
    }
   ],
   "source": [
    "# Визуализация концентрации Au\n",
    "plt.figure(figsize=(15,5))\n",
    "data_full['rougher.input.feed_au'].hist(bins=25, label='сырье', alpha=0.5)\n",
    "data_full['rougher.output.concentrate_au'].hist(bins=25, label='Концентрация после флотации', alpha=0.5)\n",
    "data_full['primary_cleaner.output.concentrate_au'].hist(bins=25, label='Концентрация после первичной очистки', alpha=0.5)\n",
    "data_full['final.output.concentrate_au'].hist(bins=25, label='финальная концентрация', alpha=0.5)\n",
    "plt.title('Диаграмма концентрации свинца au')\n",
    "plt.legend(loc='lower right')\n",
    "plt.xlabel('концентрация металла')\n",
    "plt.ylabel('количество наблюдений')\n",
    "plt.show()"
   ]
  },
  {
   "cell_type": "markdown",
   "metadata": {},
   "source": [
    "Доля золота  после каждого этапа очитски постепенно увеличивается"
   ]
  },
  {
   "cell_type": "code",
   "execution_count": 27,
   "metadata": {},
   "outputs": [
    {
     "data": {
      "text/plain": [
       "rougher.output.concentrate_au            19.772000\n",
       "primary_cleaner.output.concentrate_au    32.119400\n",
       "final.output.concentrate_au              44.076513\n",
       "dtype: float64"
      ]
     },
     "execution_count": 27,
     "metadata": {},
     "output_type": "execute_result"
    }
   ],
   "source": [
    "# Концентрация металла в сырье\n",
    "data_full[\n",
    "    ['rougher.output.concentrate_au', \n",
    "     'primary_cleaner.output.concentrate_au', 'final.output.concentrate_au']].mean(\n",
    ")"
   ]
  },
  {
   "cell_type": "code",
   "execution_count": 28,
   "metadata": {},
   "outputs": [
    {
     "data": {
      "text/plain": [
       "rougher.output.tail_au              1.816391\n",
       "primary_cleaner.output.tail_au      3.914179\n",
       "secondary_cleaner.output.tail_au    4.339625\n",
       "dtype: float64"
      ]
     },
     "execution_count": 28,
     "metadata": {},
     "output_type": "execute_result"
    }
   ],
   "source": [
    "# Концентрация металла в хвостах\n",
    "data_full[\n",
    "    ['rougher.output.tail_au', 'primary_cleaner.output.tail_au', 'secondary_cleaner.output.tail_au']].mean(\n",
    ")"
   ]
  },
  {
   "cell_type": "code",
   "execution_count": 29,
   "metadata": {},
   "outputs": [
    {
     "data": {
      "image/png": "[encoded data removed]",
      "text/plain": [
       "<Figure size 1080x360 with 1 Axes>"
      ]
     },
     "metadata": {
      "needs_background": "light"
     },
     "output_type": "display_data"
    }
   ],
   "source": [
    "# Визуализация концентрации Pb\n",
    "plt.figure(figsize=(15,5))\n",
    "data_full['rougher.input.feed_pb'].hist(bins=25, label='сырье', alpha=0.5)\n",
    "data_full['rougher.output.concentrate_pb'].hist(bins=25, label='Концентрация после флотации', alpha=0.5)\n",
    "data_full['primary_cleaner.output.concentrate_pb'].hist(bins=25, label='Концентрация после первичной очистки', alpha=0.5)\n",
    "data_full['final.output.concentrate_pb'].hist(bins=25, label='финальная концентрация', alpha=0.5)\n",
    "plt.title('Диаграмма концентрации свинца pb')\n",
    "plt.legend(loc='lower right')\n",
    "plt.xlabel('концентрация металла')\n",
    "plt.ylabel('количество наблюдений')\n",
    "plt.show()"
   ]
  },
  {
   "cell_type": "markdown",
   "metadata": {},
   "source": [
    "Доля свинца сначала увеличивается на этапе флотации, затем падает и увеличивается после финальной концентрации"
   ]
  },
  {
   "cell_type": "markdown",
   "metadata": {},
   "source": [
    "<font color='blue'><b>Комментарий ревьюера: </b></font> ✔️\\\n",
    "<font color='green'> Всё верно!</font>"
   ]
  },
  {
   "cell_type": "code",
   "execution_count": 30,
   "metadata": {},
   "outputs": [
    {
     "data": {
      "text/plain": [
       "rougher.output.concentrate_pb            7.606272\n",
       "primary_cleaner.output.concentrate_pb    9.810317\n",
       "final.output.concentrate_pb              9.978821\n",
       "dtype: float64"
      ]
     },
     "execution_count": 30,
     "metadata": {},
     "output_type": "execute_result"
    }
   ],
   "source": [
    "# Концентрация металла в сырье\n",
    "data_full[\n",
    "    ['rougher.output.concentrate_pb', \n",
    "     'primary_cleaner.output.concentrate_pb', 'final.output.concentrate_pb']].mean(\n",
    ")"
   ]
  },
  {
   "cell_type": "code",
   "execution_count": 31,
   "metadata": {},
   "outputs": [
    {
     "data": {
      "text/plain": [
       "rougher.output.tail_pb              0.645782\n",
       "primary_cleaner.output.tail_pb      3.433558\n",
       "secondary_cleaner.output.tail_pb    5.776428\n",
       "dtype: float64"
      ]
     },
     "execution_count": 31,
     "metadata": {},
     "output_type": "execute_result"
    }
   ],
   "source": [
    "# Концентрация металла в хвостах\n",
    "data_full[\n",
    "    ['rougher.output.tail_pb', 'primary_cleaner.output.tail_pb', 'secondary_cleaner.output.tail_pb']].mean(\n",
    ")"
   ]
  },
  {
   "cell_type": "markdown",
   "metadata": {},
   "source": [
    "На всех графиках концентрации сырья видны значения равные нулю. Судя по распределению, это выбросы. Соответственно их нужно удалить в дальнейшем из выборки "
   ]
  },
  {
   "cell_type": "markdown",
   "metadata": {},
   "source": [
    "### Сравните распределения размеров гранул сырья на обучающей и тестовой выборках. Если распределения сильно отличаются друг от друга, оценка модели будет неправильной.\n",
    "\n"
   ]
  },
  {
   "cell_type": "code",
   "execution_count": 32,
   "metadata": {},
   "outputs": [
    {
     "data": {
      "image/png": "[encoded data removed]",
      "text/plain": [
       "<Figure size 1080x360 with 1 Axes>"
      ]
     },
     "metadata": {
      "needs_background": "light"
     },
     "output_type": "display_data"
    }
   ],
   "source": [
    "# Визуализация концентрации размера сырья на входе флотации train и test\n",
    "plt.figure(figsize=(15, 5))\n",
    "sns.kdeplot(data_train['rougher.input.feed_size'], label='тренировочная', alpha=0.5, shade=True)\n",
    "sns.kdeplot(data_test['rougher.input.feed_size'], label='тестовая', alpha=0.7, shade=True)\n",
    "plt.xlim([0, 175])\n",
    "plt.xlabel('Размер гранул')\n",
    "plt.ylabel('Количество наблюдений')\n",
    "plt.legend(loc='upper right')\n",
    "plt.show()\n"
   ]
  },
  {
   "cell_type": "code",
   "execution_count": 33,
   "metadata": {},
   "outputs": [
    {
     "name": "stdout",
     "output_type": "stream",
     "text": [
      "count    14149.000000\n",
      "mean        60.239856\n",
      "std         23.005310\n",
      "min          9.659576\n",
      "25%         48.966751\n",
      "50%         55.269784\n",
      "75%         66.007526\n",
      "max        484.967466\n",
      "Name: rougher.input.feed_size, dtype: float64\n",
      "count    5290.000000\n",
      "mean       55.952754\n",
      "std        19.080334\n",
      "min         0.046369\n",
      "25%        43.906504\n",
      "50%        50.846843\n",
      "75%        62.451165\n",
      "max       392.494040\n",
      "Name: rougher.input.feed_size, dtype: float64\n"
     ]
    }
   ],
   "source": [
    "print(data_train['rougher.input.feed_size'].describe())\n",
    "print(data_test['rougher.input.feed_size'].describe())"
   ]
  },
  {
   "cell_type": "code",
   "execution_count": 34,
   "metadata": {},
   "outputs": [
    {
     "data": {
      "image/png": "[encoded data removed]",
      "text/plain": [
       "<Figure size 1080x360 with 1 Axes>"
      ]
     },
     "metadata": {
      "needs_background": "light"
     },
     "output_type": "display_data"
    }
   ],
   "source": [
    "# Визуализация концентрации размера сырья на входе финальной очистки train и test\n",
    "plt.figure(figsize=(15, 5))\n",
    "sns.kdeplot(data_train['primary_cleaner.input.feed_size'], \n",
    "         label='тренировочная', alpha=0.5, shade=True)\n",
    "sns.kdeplot(data_test['primary_cleaner.input.feed_size'],  \n",
    "         label='тестовая', alpha=0.7, shade=True)\n",
    "plt.xlim([5, 10])\n",
    "plt.xlabel('Размер гранул')\n",
    "plt.ylabel('Количество наблюденйи')\n",
    "plt.legend(loc='upper right')\n",
    "plt.show()\n"
   ]
  },
  {
   "cell_type": "code",
   "execution_count": 35,
   "metadata": {},
   "outputs": [
    {
     "name": "stdout",
     "output_type": "stream",
     "text": [
      "count    14149.000000\n",
      "mean         7.322310\n",
      "std          0.614062\n",
      "min          1.080000\n",
      "25%          6.960000\n",
      "50%          7.290000\n",
      "75%          7.700000\n",
      "max         10.470000\n",
      "Name: primary_cleaner.input.feed_size, dtype: float64\n",
      "count    5290.000000\n",
      "mean        7.266339\n",
      "std         0.610219\n",
      "min         5.650000\n",
      "25%         6.890000\n",
      "50%         7.250000\n",
      "75%         7.600000\n",
      "max        15.500000\n",
      "Name: primary_cleaner.input.feed_size, dtype: float64\n"
     ]
    }
   ],
   "source": [
    "print(data_train['primary_cleaner.input.feed_size'].describe())\n",
    "print(data_test['primary_cleaner.input.feed_size'].describe())"
   ]
  },
  {
   "cell_type": "markdown",
   "metadata": {},
   "source": [
    "Судя по графикам, распределения похожи, что говорит об однородности данных размеров сырья в выборках train и test. Особенно на входе финальной очистки"
   ]
  },
  {
   "cell_type": "markdown",
   "metadata": {},
   "source": [
    "<font color='blue'><b>Комментарий ревьюера: </b></font> ✔️\\\n",
    "<font color='green'> Вывод верный!</font> "
   ]
  },
  {
   "cell_type": "markdown",
   "metadata": {},
   "source": [
    "### Исследуйте суммарную концентрацию всех веществ на разных стадиях: в сырье, в черновом и финальном концентратах."
   ]
  },
  {
   "cell_type": "markdown",
   "metadata": {},
   "source": [
    "['rougher.input.feed_pb']-'сырье'\n",
    "\n",
    "['rougher.output.concentrate_pb']'Концентрация после флотации'\n",
    "\n",
    "['primary_cleaner.output.concentrate_pb']'Концентрация после первичной очистки'\n",
    "\n",
    "['final.output.concentrate_pb']'финальная концентрация'"
   ]
  },
  {
   "cell_type": "code",
   "execution_count": 36,
   "metadata": {},
   "outputs": [],
   "source": [
    "#суммарная концентрация на сырье\n",
    "data_full['rougher.input.feed_all'] = data_full['rougher.input.feed_ag']+ data_full['rougher.input.feed_pb']+ data_full['rougher.input.feed_au']"
   ]
  },
  {
   "cell_type": "code",
   "execution_count": 37,
   "metadata": {},
   "outputs": [
    {
     "data": {
      "image/png": "[encoded data removed]",
      "text/plain": [
       "<Figure size 1080x360 with 1 Axes>"
      ]
     },
     "metadata": {
      "needs_background": "light"
     },
     "output_type": "display_data"
    }
   ],
   "source": [
    "plt.figure(figsize=(15,5))\n",
    "data_full['rougher.input.feed_all'].hist(bins=25, label='общая', alpha=0.8)\n",
    "#data_full['rougher.input.feed_ag'].hist(bins=25, label='серебро', alpha=0.5)\n",
    "#data_full['rougher.input.feed_pb'].hist(bins=25, label='свинец', alpha=0.5)\n",
    "#data_full['rougher.input.feed_au'].hist(bins=25, label='золото', alpha=0.5)\n",
    "plt.title('Суммарная концентрация на сырье')\n",
    "plt.xlabel('Размер гранул')\n",
    "plt.ylabel('Количество наблюдений')\n",
    "plt.legend(loc='upper left')\n",
    "plt.show()"
   ]
  },
  {
   "cell_type": "markdown",
   "metadata": {},
   "source": [
    "<font color='blue'><b>Комментарий ревьюера: </b></font> ⚠️\\\n",
    "<font color='darkorange'> Нужны только суммарные концентрации, Диаграммы отдельно по металлам только вносят шум в график.</font>"
   ]
  },
  {
   "cell_type": "code",
   "execution_count": 38,
   "metadata": {},
   "outputs": [],
   "source": [
    "#суммарная концентрация на выходе флотации\n",
    "data_full['rougher.output.concentrate_all'] = data_full['rougher.output.concentrate_ag']+ data_full['rougher.output.concentrate_pb']+ data_full['rougher.output.concentrate_au']"
   ]
  },
  {
   "cell_type": "code",
   "execution_count": 39,
   "metadata": {},
   "outputs": [],
   "source": [
    "#data_full['rougher.output.concentrate_all']"
   ]
  },
  {
   "cell_type": "code",
   "execution_count": 40,
   "metadata": {},
   "outputs": [
    {
     "data": {
      "image/png": "[encoded data removed]",
      "text/plain": [
       "<Figure size 1080x360 with 1 Axes>"
      ]
     },
     "metadata": {
      "needs_background": "light"
     },
     "output_type": "display_data"
    }
   ],
   "source": [
    "plt.figure(figsize=(15,5))\n",
    "data_full['rougher.output.concentrate_all'].hist(bins=25, label='общая', alpha=0.8)\n",
    "#data_full['rougher.output.concentrate_ag'].hist(bins=25, label='серебро', alpha=0.5)\n",
    "#data_full['rougher.output.concentrate_pb'].hist(bins=25, label='свинец', alpha=0.5)\n",
    "#data_full['rougher.output.concentrate_au'].hist(bins=25, label='золото', alpha=0.5)\n",
    "plt.title('Суммарная концентрация на выходе флотации')\n",
    "plt.xlabel('Размер гранул')\n",
    "plt.ylabel('Количество наблюдений')\n",
    "plt.legend(loc='upper left')\n",
    "plt.show()"
   ]
  },
  {
   "cell_type": "code",
   "execution_count": 41,
   "metadata": {},
   "outputs": [],
   "source": [
    "#суммарная концентрация на финале\n",
    "data_full['final.output.concentrate_all'] = data_full['final.output.concentrate_ag']+ data_full['final.output.concentrate_pb']+ data_full['final.output.concentrate_au']"
   ]
  },
  {
   "cell_type": "code",
   "execution_count": 42,
   "metadata": {},
   "outputs": [
    {
     "data": {
      "image/png": "[encoded data removed]",
      "text/plain": [
       "<Figure size 1080x360 with 1 Axes>"
      ]
     },
     "metadata": {
      "needs_background": "light"
     },
     "output_type": "display_data"
    }
   ],
   "source": [
    "plt.figure(figsize=(15,5))\n",
    "data_full['final.output.concentrate_all'].hist(bins=25, label='общая', alpha=0.8)\n",
    "#data_full['final.output.concentrate_ag'].hist(bins=25, label='серебро', alpha=0.5)\n",
    "#data_full['final.output.concentrate_pb'].hist(bins=25, label='свинец', alpha=0.5)\n",
    "#data_full['final.output.concentrate_au'].hist(bins=25, label='золото', alpha=0.5)\n",
    "plt.title('Суммарная концентрация на выходе финальной очистки')\n",
    "plt.xlabel('Размер гранул')\n",
    "plt.ylabel('Количество наблюдений')\n",
    "plt.legend(loc='upper left')\n",
    "plt.show()"
   ]
  },
  {
   "cell_type": "markdown",
   "metadata": {},
   "source": [
    "Победило золото. На графике хорошо видно"
   ]
  },
  {
   "cell_type": "markdown",
   "metadata": {},
   "source": [
    "<br/>    \n",
    "<div class=\"alert alert-info\">\n",
    "<h2> Комментарий студента v2: <a class=\"tocSkip\"> </h2>\n",
    "\n",
    "<b>👋:</b> Так, стоп, если закомментить отдельно металлы и вывести суммарное,то вывод выше не правильный. Точнее, не понимаю тогда как грамотно интерпретировать...\n",
    "</div> "
   ]
  },
  {
   "cell_type": "markdown",
   "metadata": {},
   "source": [
    "<font color='blue'><b>Комментарий ревьюера: </b></font>\\\n",
    "<font color='blue'>Видно, что концентрация измеряемых веществ растёт (нужно ещё sol добавить, чтобы была сумма всех веществ), а ткже что Диспресия таких распределений уменьшается и измерения плотнее собираются к средней.\\\n",
    "НО главное, что явно видны ошибки змерений около нуля.</font>"
   ]
  },
  {
   "cell_type": "code",
   "execution_count": 43,
   "metadata": {},
   "outputs": [
    {
     "data": {
      "text/plain": [
       "303"
      ]
     },
     "execution_count": 43,
     "metadata": {},
     "output_type": "execute_result"
    }
   ],
   "source": [
    "# удаление нулевых значений\n",
    "#Посмотрю сколько их\n",
    "data_train[\n",
    "    data_train['rougher.output.concentrate_au'] < 1]['rougher.output.concentrate_au'].count(\n",
    ")\n"
   ]
  },
  {
   "cell_type": "code",
   "execution_count": 44,
   "metadata": {},
   "outputs": [],
   "source": [
    "# Так как это аномалии, удаляю их\n",
    "\n",
    "#data_train = data_train.drop(data_train(\n",
    "#    [data_train['rougher.output.concentrate_au'] == 0])\n",
    "#    & ([data_train['rougher.output.concentrate_ag'] == 0]) \n",
    "#    & ([data_train['rougher.output.concentrate_pb'] == 0].index)\n",
    "                            "
   ]
  },
  {
   "cell_type": "code",
   "execution_count": 45,
   "metadata": {},
   "outputs": [],
   "source": [
    "data_train = data_train[\n",
    "    (data_train['rougher.output.concentrate_au'] != 0) \n",
    "    & (data_train['rougher.output.concentrate_ag'] != 0) \n",
    "    & (data_train['rougher.output.concentrate_pb'] != 0)]\n",
    "data_train = data_train[\n",
    "    (data_train['final.output.concentrate_au'] != 0) \n",
    "    & (data_train['final.output.concentrate_ag'] != 0) \n",
    "    & (data_train['final.output.concentrate_pb'] != 0)]\n",
    "\n"
   ]
  },
  {
   "cell_type": "markdown",
   "metadata": {},
   "source": [
    "<font color='blue'><b>Комментарий ревьюера: </b></font> ✔️\\\n",
    "<font color='green'> Выбросы удалены.</font>"
   ]
  },
  {
   "cell_type": "markdown",
   "metadata": {},
   "source": [
    "Распределения гранул сырья на обучающей и тестовой выборках значительных различий не имеют\n",
    "\n",
    "Доля золота увеличивается по мере прохождения этапов очистки\n",
    "\n",
    "В анализе суммарной концентрации веществ на разных стадиях были выявлены аномалии, которые были удалены для улучшения качества будущих моделей прогнозирования."
   ]
  },
  {
   "cell_type": "markdown",
   "metadata": {},
   "source": [
    "## Модель"
   ]
  },
  {
   "cell_type": "markdown",
   "metadata": {},
   "source": [
    "3.1. Напишите функцию для вычисления итоговой sMAPE.\n",
    "3.2. Обучите разные модели и оцените их качество кросс-валидацией. Выберите лучшую модель и проверьте её на тестовой выборке. "
   ]
  },
  {
   "cell_type": "code",
   "execution_count": 46,
   "metadata": {},
   "outputs": [],
   "source": [
    "# smape\n",
    "#def get_smape(target, predict):\n",
    "#    smape = (1/len(target))*np.sum((np.abs(target - predict))/( (np.abs(target)+np.abs(predict))/2))*100\n",
    "#    return smape"
   ]
  },
  {
   "cell_type": "code",
   "execution_count": 47,
   "metadata": {},
   "outputs": [],
   "source": [
    "#smape_scorer = make_scorer(first_smape, greater_is_better = False)"
   ]
  },
  {
   "cell_type": "code",
   "execution_count": 48,
   "metadata": {},
   "outputs": [],
   "source": [
    "# smape итоговая\n",
    "#def get_final_smape(rougher, final):\n",
    "#    final = 0.25*rougher+0.75*final\n",
    "#    return final"
   ]
  },
  {
   "cell_type": "markdown",
   "metadata": {},
   "source": [
    "<font color='blue'><b>Комментарий ревьюера 2: </b></font> ⚠️\\\n",
    "<font color='darkorange'> Очень много закомментированного кода. Если код не нужен его лучше удалять из проекта. Такой код никто не читает, но он создаёт ощущение незаконченой работы.</font>"
   ]
  },
  {
   "cell_type": "markdown",
   "metadata": {},
   "source": [
    "### Обучите разные модели и оцените их качество кросс-валидацией. Выберите лучшую модель и проверьте её на тестовой выборке."
   ]
  },
  {
   "cell_type": "code",
   "execution_count": 49,
   "metadata": {},
   "outputs": [],
   "source": [
    "data_train = data_train.drop('date', axis=1)"
   ]
  },
  {
   "cell_type": "code",
   "execution_count": 50,
   "metadata": {},
   "outputs": [],
   "source": [
    "data_test = data_test.drop('date', axis=1)"
   ]
  },
  {
   "cell_type": "code",
   "execution_count": 51,
   "metadata": {},
   "outputs": [],
   "source": [
    "#можно было сразу удалить вместе со всеми колонками)  \n",
    "lost_c = set(data_train.columns) - set(data_test.columns)\n",
    "#print('\\n на удаление колонки -', len(lost_c)) - 32"
   ]
  },
  {
   "cell_type": "code",
   "execution_count": 52,
   "metadata": {},
   "outputs": [],
   "source": [
    "data_train = data_train.drop(lost_c, axis=1)"
   ]
  },
  {
   "cell_type": "code",
   "execution_count": 53,
   "metadata": {},
   "outputs": [
    {
     "name": "stdout",
     "output_type": "stream",
     "text": [
      "\n",
      "  на удаление колонки - 0\n"
     ]
    }
   ],
   "source": [
    "lost_c = set(data_train.columns) - set(data_test.columns)\n",
    "print('\\n  на удаление колонки -', len(lost_c))"
   ]
  },
  {
   "cell_type": "code",
   "execution_count": 54,
   "metadata": {},
   "outputs": [],
   "source": [
    "#data_train.columns"
   ]
  },
  {
   "cell_type": "code",
   "execution_count": 55,
   "metadata": {},
   "outputs": [],
   "source": [
    "# выделю целевые признаки\n",
    "features_train = data_train.drop([\"rougher.output.recovery\",\"final.output.recovery\"], axis=1)\n",
    "target_train = data_train[\"rougher.output.recovery\"]\n",
    "\n",
    "features_train_final = data_train.drop([\"final.output.recovery\",\"rougher.output.recovery\"], axis=1)\n",
    "target_train_final = data_train[\"final.output.recovery\"]\n",
    "\n",
    "\n",
    "features_test = data_test.drop([\"rougher.output.recovery\",\"final.output.recovery\"], axis=1)\n",
    "target_test = data_test[\"rougher.output.recovery\"]\n",
    "\n",
    "features_test_final = data_test.drop([\"final.output.recovery\",\"rougher.output.recovery\"], axis=1)\n",
    "target_test_final = data_test[\"final.output.recovery\"]"
   ]
  },
  {
   "cell_type": "code",
   "execution_count": 56,
   "metadata": {},
   "outputs": [
    {
     "data": {
      "text/plain": [
       "((13795, 52), (5290, 52))"
      ]
     },
     "execution_count": 56,
     "metadata": {},
     "output_type": "execute_result"
    }
   ],
   "source": [
    "features_train.shape, features_test.shape"
   ]
  },
  {
   "cell_type": "markdown",
   "metadata": {},
   "source": [
    "<font color='blue'><b>Комментарий ревьюера: </b></font> ❌\\\n",
    "<font color='red'><s>Обрати внимание, в Фичах остался Таргет.</s></font>"
   ]
  },
  {
   "cell_type": "markdown",
   "metadata": {},
   "source": [
    "<font color='blue'><b>Комментарий ревьюера 2: </b></font> ✔️\\\n",
    "<font color='green'>👍</font>"
   ]
  },
  {
   "cell_type": "markdown",
   "metadata": {},
   "source": [
    "### Напишите функцию для вычисления итоговой sMAPE. "
   ]
  },
  {
   "cell_type": "code",
   "execution_count": 175,
   "metadata": {},
   "outputs": [],
   "source": [
    "#Метод получения sMape для одного этапа\n",
    "def smape(target, predict):\n",
    "    smape = abs(target-predict)/((abs(target)+abs(predict))/2)*100\n",
    "    smape = np.mean(smape)\n",
    "    return smape"
   ]
  },
  {
   "cell_type": "code",
   "execution_count": 176,
   "metadata": {},
   "outputs": [],
   "source": [
    "#Метод для вычисления итоговой sMAPE, когда на входе \n",
    "    #target_train, predict_train, target_train_final, predict_train_final\n",
    "def summary_smape(target_train, predict_train, target_train_final, \n",
    "                  predict_train_final\n",
    "                 ):\n",
    "    # вычислим smape для rougher\n",
    "    smape_first = smape(target_train, predict_train)\n",
    "    # вычислим smape для final\n",
    "    smape_final = smape(target_train_final, predict_train_final)\n",
    "    #  вычислим итоговый smape\n",
    "    summary_smape = 0.25 * smape_first + 0.75 * smape_final\n",
    "    \n",
    "    return summary_smape"
   ]
  },
  {
   "cell_type": "code",
   "execution_count": 177,
   "metadata": {},
   "outputs": [],
   "source": [
    "#Метод для вычисления итоговой sMAPE, когда на входе smape_first и smape_final\n",
    "def summary_smape1(smape_first, smape_final):\n",
    "    #  вычислим итоговый smape\n",
    "    summary_smape = 0.25 * smape_first + 0.75 * smape_final\n",
    "    return summary_smape"
   ]
  },
  {
   "cell_type": "markdown",
   "metadata": {},
   "source": [
    "<font color='blue'><b>Комментарий ревьюера: </b></font> ✔️\\\n",
    "<font color='green'> `smape`, `summary_smape` и `summary_smape1` расчитаны верно.</font>"
   ]
  },
  {
   "cell_type": "markdown",
   "metadata": {},
   "source": [
    "<font color='blue'><b>Комментарий ревьюера 2: </b></font> ⚠️\\\n",
    "<font color='blue'>Можно отлично обойтись двумя (`smape` и `summary_smape1`).\\\n",
    "Это дублирование кода.</font>"
   ]
  },
  {
   "cell_type": "markdown",
   "metadata": {},
   "source": [
    "#### Линейная"
   ]
  },
  {
   "cell_type": "code",
   "execution_count": 179,
   "metadata": {},
   "outputs": [
    {
     "name": "stdout",
     "output_type": "stream",
     "text": [
      "Средняя оценка качества sMape LR 7.27\n"
     ]
    }
   ],
   "source": [
    "smape_scorer = make_scorer(smape, greater_is_better=False)\n",
    "# модель линейной регрессии\n",
    "model_LR = LinearRegression()\n",
    "model_LR.fit(features_train,target_train)\n",
    "# кроссвалидация features_train, target_train и smape\n",
    "scores_LR = cross_val_score(model_LR,  \n",
    "                                          features_train, \n",
    "                                          target_train, \n",
    "                                          scoring = smape_scorer,\n",
    "                                          cv = 5)\n",
    "smape_LR = np.mean(abs(scores_LR))\n",
    "print('Средняя оценка качества sMape LR', round(smape_LR, 2))"
   ]
  },
  {
   "cell_type": "code",
   "execution_count": 180,
   "metadata": {},
   "outputs": [
    {
     "name": "stdout",
     "output_type": "stream",
     "text": [
      "Средняя оценка качества sMape LR_final 10.9902\n"
     ]
    }
   ],
   "source": [
    "# кроссвалидации features_train, target_train. Вычислю score_final\n",
    "scores_LR_final = cross_val_score(model_LR,  \n",
    "                                          features_train_final, \n",
    "                                          target_train_final, \n",
    "                                          scoring = smape_scorer,\n",
    "                                          cv = 5)\n",
    "smape_LR_final = np.mean(abs(scores_LR_final))\n",
    "print('Средняя оценка качества sMape LR_final', round(smape_LR_final, 4))"
   ]
  },
  {
   "cell_type": "markdown",
   "metadata": {},
   "source": [
    "<font color='blue'><b>Комментарий ревьюера: </b></font> ✔️\\\n",
    "<font color='green'> Отлично, что оценка по sMAPE!</font>"
   ]
  },
  {
   "cell_type": "markdown",
   "metadata": {},
   "source": [
    "#### Дерево"
   ]
  },
  {
   "cell_type": "code",
   "execution_count": 181,
   "metadata": {},
   "outputs": [
    {
     "name": "stdout",
     "output_type": "stream",
     "text": [
      "Средняя оценка качества sMape Tree 11.04\n"
     ]
    }
   ],
   "source": [
    "# дерево решений\n",
    "model_T = DecisionTreeRegressor(random_state=12345, max_depth = 50)\n",
    "\n",
    "# обучаю модель\n",
    "#model_T.fit(features_train, target_train)\n",
    "\n",
    "\n",
    "scores_T = cross_val_score(model_T,  \n",
    "                                          features_train, \n",
    "                                          target_train, \n",
    "                                          scoring = smape_scorer,\n",
    "                                          cv = 5)\n",
    "smape_T = np.mean(abs(scores_T))\n",
    "print('Средняя оценка качества sMape Tree', round(smape_T, 2))"
   ]
  },
  {
   "cell_type": "code",
   "execution_count": 182,
   "metadata": {},
   "outputs": [
    {
     "name": "stdout",
     "output_type": "stream",
     "text": [
      "Средняя оценка качества sMape Tree_final 11.04\n"
     ]
    }
   ],
   "source": [
    "model_T_final = DecisionTreeRegressor(random_state=12345, max_depth = 50)\n",
    "\n",
    "\n",
    "#model_T.fit(features_train, target_train)\n",
    "\n",
    "\n",
    "scores_T_final = cross_val_score(model_T_final,  \n",
    "                                          features_train_final, \n",
    "                                          target_train_final, \n",
    "                                          scoring = smape_scorer,\n",
    "                                          cv = 5)\n",
    "smape_T_final = np.mean(abs(scores_T))\n",
    "print('Средняя оценка качества sMape Tree_final', round(smape_T_final, 2))"
   ]
  },
  {
   "cell_type": "markdown",
   "metadata": {},
   "source": [
    "<font color='blue'><b>Комментарий ревьюера: </b></font> ✔️\\\n",
    "<font color='green'>👍</font>"
   ]
  },
  {
   "cell_type": "code",
   "execution_count": 183,
   "metadata": {},
   "outputs": [
    {
     "data": {
      "text/plain": [
       "GridSearchCV(cv=5, estimator=DecisionTreeRegressor(random_state=12345),\n",
       "             param_grid={'max_depth': [1, 3, 5, 7, 9, 11, 13, 15, 17, 19, 21,\n",
       "                                       23, 25, 27, 29]},\n",
       "             scoring=make_scorer(smape, greater_is_better=False))"
      ]
     },
     "execution_count": 183,
     "metadata": {},
     "output_type": "execute_result"
    }
   ],
   "source": [
    "# Проведу оценку модели дерева решений но уже с подбором параметра глубины для этапа rougher\n",
    "#  модель дерева решений\n",
    "model_T = DecisionTreeRegressor(random_state=12345)\n",
    "# оптимальные параметры глубины дерева\n",
    "parameters = {'max_depth': [depth for depth in range(1, 30, 2)]}\n",
    "\n",
    "grid_T = GridSearchCV(model_T,\n",
    "                               parameters, \n",
    "                               cv=5, \n",
    "                               scoring=smape_scorer)\n",
    "grid_T.fit(features_train, target_train)\n"
   ]
  },
  {
   "cell_type": "code",
   "execution_count": 184,
   "metadata": {},
   "outputs": [
    {
     "name": "stdout",
     "output_type": "stream",
     "text": [
      "{'max_depth': 3}\n",
      "Значение smape_rougher берем по модулю 7.071\n"
     ]
    }
   ],
   "source": [
    "#нашла в интернете такой код - не совсем поняла вторую строчку\n",
    "print(grid_T.best_params_)\n",
    "print('Значение smape_rougher берем по модулю', abs(round(grid_T.best_score_, 3)))"
   ]
  },
  {
   "cell_type": "markdown",
   "metadata": {},
   "source": [
    "<font color='blue'><b>Комментарий ревьюера: </b></font> ⚠️\\\n",
    "<font color='darkorange'> Оптимальные параметры для разных таргетов могут отличаться.</font>"
   ]
  },
  {
   "cell_type": "markdown",
   "metadata": {},
   "source": [
    "#### Лес"
   ]
  },
  {
   "cell_type": "code",
   "execution_count": 185,
   "metadata": {},
   "outputs": [],
   "source": [
    "#Ребята сообщили, что гридсерч долго работает в лесе - решила задать параметры \"от руки\")"
   ]
  },
  {
   "cell_type": "code",
   "execution_count": 186,
   "metadata": {},
   "outputs": [
    {
     "name": "stdout",
     "output_type": "stream",
     "text": [
      "Средняя оценка качества модели sMape Forest 7.1\n"
     ]
    }
   ],
   "source": [
    "model_F = RandomForestRegressor(random_state=12345, max_depth = 10, n_estimators=50)\n",
    "\n",
    "# оценю модель с помощью кроссвалидации features_train, target_train\n",
    "scores_F = cross_val_score(model_F,\n",
    "                                    features_train, \n",
    "                                    target_train,\n",
    "                                    scoring=smape_scorer,\n",
    "                                    cv = 5)\n",
    "smape_F = np.mean(abs(scores_F))\n",
    "print('Средняя оценка качества модели sMape Forest', round(smape_F, 2))"
   ]
  },
  {
   "cell_type": "code",
   "execution_count": 187,
   "metadata": {},
   "outputs": [
    {
     "name": "stdout",
     "output_type": "stream",
     "text": [
      "Средняя оценка качества модели sMape Forest_final 9.86\n"
     ]
    }
   ],
   "source": [
    "# с заданными параметрами для этапа final\n",
    "\n",
    "model_F_final = RandomForestRegressor(random_state=12345, max_depth = 10, n_estimators=50)\n",
    "\n",
    "# оценю модель с помощью кроссвалидации features_train, target_train\n",
    "scores_F_final = cross_val_score(model_F_final,\n",
    "                                    features_train_final, \n",
    "                                    target_train_final,\n",
    "                                    scoring=smape_scorer,\n",
    "                                    cv = 5)\n",
    "smape_F_final = np.mean(abs(scores_F_final))\n",
    "print('Средняя оценка качества модели sMape Forest_final', round(smape_F_final, 2))\n",
    "#UPD. Это тоже было долго..."
   ]
  },
  {
   "cell_type": "markdown",
   "metadata": {},
   "source": [
    "<font color='blue'><b>Комментарий ревьюера: </b></font> ✔️\\\n",
    "<font color='green'>👍</font>"
   ]
  },
  {
   "cell_type": "code",
   "execution_count": 189,
   "metadata": {},
   "outputs": [
    {
     "data": {
      "text/plain": [
       "GridSearchCV(cv=5, estimator=RandomForestRegressor(random_state=12345),\n",
       "             param_grid={'max_depth': [1],\n",
       "                         'n_estimators': [2, 4, 6, 8, 10, 12, 14, 16, 18, 20,\n",
       "                                          22, 24, 26, 28, 30, 32, 34, 36, 38,\n",
       "                                          40, 42, 44, 46, 48]},\n",
       "             scoring=make_scorer(smape, greater_is_better=False))"
      ]
     },
     "execution_count": 189,
     "metadata": {},
     "output_type": "execute_result"
    }
   ],
   "source": [
    "\n",
    "#  дождалась, вышло...\n",
    "\n",
    "model_F = RandomForestRegressor(random_state=12345)\n",
    "\n",
    "parameters = {'max_depth': [depth for depth in range(1, 10)],'n_estimators': [est for est in range(2, 50, 2)]}\n",
    "\n",
    "rand_F = GridSearchCV(model_F,\n",
    "                               parameters, \n",
    "                               cv=5, \n",
    "                              scoring=smape_scorer)\n",
    "rand_F.fit(features_train, target_train)\n"
   ]
  },
  {
   "cell_type": "markdown",
   "metadata": {},
   "source": [
    "<font color='blue'><b>Комментарий ревьюера: </b></font> ⚠️\\\n",
    "<font color='darkorange'>Глубина 50 это очень развесистые деревья, попробуй ограничиться 10 максимум.</font>"
   ]
  },
  {
   "cell_type": "code",
   "execution_count": 190,
   "metadata": {},
   "outputs": [
    {
     "name": "stdout",
     "output_type": "stream",
     "text": [
      "{'max_depth': 1, 'n_estimators': 6}\n",
      "Значение smape 7.527\n"
     ]
    }
   ],
   "source": [
    "print(rand_F.best_params_)\n",
    "print('Значение smape', abs(round(rand_F.best_score_, 3)))"
   ]
  },
  {
   "cell_type": "markdown",
   "metadata": {},
   "source": [
    "####  Итоговые smape"
   ]
  },
  {
   "cell_type": "code",
   "execution_count": 191,
   "metadata": {},
   "outputs": [
    {
     "name": "stdout",
     "output_type": "stream",
     "text": [
      "Средняя итоговая оценка качества модели sMape LR  10.0596\n"
     ]
    }
   ],
   "source": [
    "# линейная\n",
    "smape_total_LR = summary_smape1(smape_LR, smape_LR_final)\n",
    "print('Средняя итоговая оценка качества модели sMape LR ', round(smape_total_LR, 4))"
   ]
  },
  {
   "cell_type": "code",
   "execution_count": 192,
   "metadata": {},
   "outputs": [
    {
     "name": "stdout",
     "output_type": "stream",
     "text": [
      "Средняя итоговая оценка качества модели sMape Tree 11.043\n"
     ]
    }
   ],
   "source": [
    "#дерево\n",
    "smape_total_T = summary_smape1(smape_T, smape_T_final)\n",
    "print('Средняя итоговая оценка качества модели sMape Tree', round(smape_total_T, 4))"
   ]
  },
  {
   "cell_type": "code",
   "execution_count": 193,
   "metadata": {
    "scrolled": true
   },
   "outputs": [
    {
     "name": "stdout",
     "output_type": "stream",
     "text": [
      "Средняя итоговая оценка качества модели sMape Forest 9.1696\n"
     ]
    }
   ],
   "source": [
    "#kлес\n",
    "smape_total_F = summary_smape1(smape_F, smape_F_final)\n",
    "print('Средняя итоговая оценка качества модели sMape Forest', round(smape_total_F, 4))"
   ]
  },
  {
   "cell_type": "markdown",
   "metadata": {},
   "source": [
    "<font color='blue'><b>Комментарий ревьюера 2: </b></font> ✔️\\\n",
    "<font color='green'>👍</font>"
   ]
  },
  {
   "cell_type": "markdown",
   "metadata": {},
   "source": [
    "### Тестовая выборка"
   ]
  },
  {
   "cell_type": "code",
   "execution_count": 194,
   "metadata": {},
   "outputs": [],
   "source": [
    "\n",
    "#взяла лес для решения"
   ]
  },
  {
   "cell_type": "code",
   "execution_count": 195,
   "metadata": {},
   "outputs": [],
   "source": [
    "def f_model(features_train, target_train, features_test, depth, estimators):\n",
    "    # метод прогнозирования целевого признаки на случайном лесе\n",
    "\n",
    "    # модель с лучшими параметрами\n",
    "    model_F = RandomForestRegressor(random_state=12345, max_depth = depth, n_estimators=estimators)\n",
    "   \n",
    "    model_F.fit(features_train, target_train)\n",
    "  \n",
    "    pred_test_F = model_F.predict(features_test)\n",
    "\n",
    "    return pred_test_F"
   ]
  },
  {
   "cell_type": "markdown",
   "metadata": {},
   "source": [
    "<font color='blue'><b>Комментарий ревьюера: </b></font> ✔️\\\n",
    "<font color='green'>👍</font>"
   ]
  },
  {
   "cell_type": "code",
   "execution_count": 196,
   "metadata": {},
   "outputs": [],
   "source": [
    "# спрогнозирую эффективность для этапа rougher\n",
    "pred_test_first = f_model(features_train, target_train, features_test, 10, 50)\n",
    "# спрогнозирую эффективность для этапа final\n",
    "pred_test_final = f_model(features_train, target_train_final, features_test, 10, 50)"
   ]
  },
  {
   "cell_type": "code",
   "execution_count": 197,
   "metadata": {
    "scrolled": true
   },
   "outputs": [
    {
     "data": {
      "text/plain": [
       "True"
      ]
     },
     "execution_count": 197,
     "metadata": {},
     "output_type": "execute_result"
    }
   ],
   "source": [
    "(features_train.columns == features_test.columns).all() # Проверка колонок"
   ]
  },
  {
   "cell_type": "code",
   "execution_count": 198,
   "metadata": {},
   "outputs": [],
   "source": [
    "features_test = features_test[features_train.columns]"
   ]
  },
  {
   "cell_type": "code",
   "execution_count": 199,
   "metadata": {},
   "outputs": [
    {
     "data": {
      "text/plain": [
       "True"
      ]
     },
     "execution_count": 199,
     "metadata": {},
     "output_type": "execute_result"
    }
   ],
   "source": [
    "(features_train.columns == features_test.columns).all() # Проверка колонок"
   ]
  },
  {
   "cell_type": "markdown",
   "metadata": {},
   "source": [
    "<font color='blue'><b>Комментарий ревьюера: </b></font> ❌\\\n",
    "<font color='red'><s> Порядок колонок в трейне и тесте не совпадают.</s></font>"
   ]
  },
  {
   "cell_type": "code",
   "execution_count": 200,
   "metadata": {},
   "outputs": [
    {
     "name": "stdout",
     "output_type": "stream",
     "text": [
      "Итоговая оценка smape на тестовых данных равна 9.26\n"
     ]
    }
   ],
   "source": [
    "# рассчитаю smape на тестовых данных\n",
    "smape_test = summary_smape(target_test, \n",
    "                                pred_test_first,\n",
    "                                target_test_final,\n",
    "                                pred_test_final                               \n",
    "                               )\n",
    "print('Итоговая оценка smape на тестовых данных равна', round(smape_test, 2))"
   ]
  },
  {
   "cell_type": "markdown",
   "metadata": {},
   "source": [
    "<font color='blue'><b>Комментарий ревьюера 2: </b></font> ✔️\\\n",
    "<font color='green'>Тестирование проведено верно.</font>"
   ]
  },
  {
   "cell_type": "code",
   "execution_count": 201,
   "metadata": {},
   "outputs": [],
   "source": [
    "#рассчитаю константную модель"
   ]
  },
  {
   "cell_type": "code",
   "execution_count": 202,
   "metadata": {},
   "outputs": [],
   "source": [
    "dummy_reg_rougher = DummyRegressor(strategy=\"mean\")\n",
    "dummy_reg_final = DummyRegressor(strategy=\"mean\")\n",
    "\n",
    "dummy_reg_rougher.fit(features_train, target_train)\n",
    "dummy_reg_final.fit(features_train_final, target_train_final)\n",
    "\n",
    "dummy_predicted_rougher = dummy_reg_rougher.predict(features_test)\n",
    "dummy_predicted_final = dummy_reg_final.predict(features_test_final)\n",
    "\n",
    "smape_const_rougher = smape(target_test, dummy_predicted_rougher)\n",
    "smape_const_final = smape(target_test_final, dummy_predicted_final)\n",
    "\n",
    "final_smape_const = summary_smape1(smape_const_rougher, smape_const_final)"
   ]
  },
  {
   "cell_type": "code",
   "execution_count": 203,
   "metadata": {
    "scrolled": true
   },
   "outputs": [
    {
     "name": "stdout",
     "output_type": "stream",
     "text": [
      "\n",
      "Показатель smape для константной модели - 9.82\n"
     ]
    }
   ],
   "source": [
    "print(f'\\nПоказатель smape для константной модели -', round(final_smape_const, 2))"
   ]
  },
  {
   "cell_type": "markdown",
   "metadata": {},
   "source": [
    "<font color='blue'><b>Комментарий ревьюера 2: </b></font> ✔️\\\n",
    "<font color='green'> Классно, что сравниваешь с константной моделью!</font>"
   ]
  },
  {
   "cell_type": "markdown",
   "metadata": {},
   "source": [
    "Хорошее качество полученной модели"
   ]
  },
  {
   "cell_type": "markdown",
   "metadata": {},
   "source": [
    "## Вывод"
   ]
  },
  {
   "cell_type": "markdown",
   "metadata": {},
   "source": [
    "\n",
    "Анализ концентрации металлов показал, что концентрация золота значительно увеличивается на каждом этапе обработки сырья.  В анализе суммарной концентрации веществ на разных стадиях были выявлены аномалии, которые были удалены для улучшения качества будущих моделей прогнозирования.Судя по распределению, это выбросы.\n",
    "\n",
    "На данных train обучены модели линейной регрессии, дерева решений, а также случайного леса. Проведена оценка каждой модели. В результате для дальнешего прогнозирования выбирана модель случайного леса с параметрами\n",
    "\n",
    "{'max_depth': 1, 'n_estimators': 6}\n",
    "\n",
    "Значение smape 7.527\n",
    "\n",
    "Итоговый расчёт на тестовых данных выбранной модели случайного леса позволил получить прогноз целевых признаков концентрации золота для этапа флотации и финальной очистки с показателем smape равным 9.26\n",
    "\n",
    "Проведена проверка модели на адекватность. Итоговая оценка smape константной модели на тестовых данных равна 9.82"
   ]
  },
  {
   "cell_type": "markdown",
   "metadata": {},
   "source": [
    "<font color='blue'><b>Комментарий ревьюера 2: </b></font> ✔️\\\n",
    "<font color='green'> Очень приятно видеть вывод в конце проекта!\\\n",
    "Приведены ответы на главные вопросы проекта.</font>"
   ]
  }
 ],
 "metadata": {
  "ExecuteTimeLog": [
   {
    "duration": 1712,
    "start_time": "2023-02-08T11:41:42.052Z"
   },
   {
    "duration": 2004,
    "start_time": "2023-02-08T11:42:59.191Z"
   },
   {
    "duration": 27,
    "start_time": "2023-02-08T11:44:56.982Z"
   },
   {
    "duration": 20,
    "start_time": "2023-02-08T11:45:05.358Z"
   },
   {
    "duration": 26,
    "start_time": "2023-02-08T11:45:10.198Z"
   },
   {
    "duration": 23,
    "start_time": "2023-02-08T11:45:18.157Z"
   },
   {
    "duration": 24,
    "start_time": "2023-02-08T11:46:38.210Z"
   },
   {
    "duration": 2,
    "start_time": "2023-02-08T11:47:00.160Z"
   },
   {
    "duration": 13,
    "start_time": "2023-02-08T11:47:03.101Z"
   },
   {
    "duration": 3,
    "start_time": "2023-02-08T11:47:10.100Z"
   },
   {
    "duration": 20,
    "start_time": "2023-02-08T11:47:12.748Z"
   },
   {
    "duration": 3,
    "start_time": "2023-02-08T11:47:22.172Z"
   },
   {
    "duration": 9,
    "start_time": "2023-02-08T11:48:32.915Z"
   },
   {
    "duration": 18,
    "start_time": "2023-02-08T11:49:19.492Z"
   },
   {
    "duration": 92,
    "start_time": "2023-02-08T11:49:29.635Z"
   },
   {
    "duration": 21,
    "start_time": "2023-02-08T11:49:34.357Z"
   },
   {
    "duration": 272,
    "start_time": "2023-02-08T11:52:10.154Z"
   },
   {
    "duration": 72,
    "start_time": "2023-02-08T11:55:18.444Z"
   },
   {
    "duration": 32,
    "start_time": "2023-02-08T11:55:35.152Z"
   },
   {
    "duration": 30,
    "start_time": "2023-02-08T11:55:45.332Z"
   },
   {
    "duration": 28,
    "start_time": "2023-02-08T11:55:54.052Z"
   },
   {
    "duration": 30,
    "start_time": "2023-02-08T11:56:11.498Z"
   },
   {
    "duration": 28,
    "start_time": "2023-02-08T11:56:24.458Z"
   },
   {
    "duration": 3,
    "start_time": "2023-02-08T11:57:38.733Z"
   },
   {
    "duration": 3,
    "start_time": "2023-02-08T11:58:04.027Z"
   },
   {
    "duration": 3,
    "start_time": "2023-02-08T11:58:06.828Z"
   },
   {
    "duration": 3,
    "start_time": "2023-02-08T11:58:08.118Z"
   },
   {
    "duration": 24,
    "start_time": "2023-02-08T11:59:30.900Z"
   },
   {
    "duration": 31,
    "start_time": "2023-02-08T11:59:49.596Z"
   },
   {
    "duration": 3,
    "start_time": "2023-02-08T12:00:25.337Z"
   },
   {
    "duration": 116,
    "start_time": "2023-02-08T12:03:31.719Z"
   },
   {
    "duration": 23,
    "start_time": "2023-02-08T12:04:41.581Z"
   },
   {
    "duration": 95,
    "start_time": "2023-02-08T12:04:49.168Z"
   },
   {
    "duration": 24,
    "start_time": "2023-02-08T12:05:07.554Z"
   },
   {
    "duration": 10,
    "start_time": "2023-02-08T12:05:19.846Z"
   },
   {
    "duration": 4,
    "start_time": "2023-02-08T12:05:36.196Z"
   },
   {
    "duration": 699,
    "start_time": "2023-02-08T12:05:37.066Z"
   },
   {
    "duration": 22,
    "start_time": "2023-02-08T12:05:38.192Z"
   },
   {
    "duration": 27,
    "start_time": "2023-02-08T12:05:39.768Z"
   },
   {
    "duration": 20,
    "start_time": "2023-02-08T12:05:41.266Z"
   },
   {
    "duration": 3,
    "start_time": "2023-02-08T12:05:42.951Z"
   },
   {
    "duration": 3,
    "start_time": "2023-02-08T12:05:44.189Z"
   },
   {
    "duration": 3,
    "start_time": "2023-02-08T12:05:44.845Z"
   },
   {
    "duration": 13,
    "start_time": "2023-02-08T12:05:45.686Z"
   },
   {
    "duration": 236,
    "start_time": "2023-02-08T12:05:51.723Z"
   },
   {
    "duration": 2,
    "start_time": "2023-02-08T12:05:54.048Z"
   },
   {
    "duration": 3,
    "start_time": "2023-02-08T12:05:57.674Z"
   },
   {
    "duration": 5,
    "start_time": "2023-02-08T12:05:58.428Z"
   },
   {
    "duration": 23,
    "start_time": "2023-02-08T12:05:59.505Z"
   },
   {
    "duration": 3,
    "start_time": "2023-02-08T12:06:03.405Z"
   },
   {
    "duration": 12,
    "start_time": "2023-02-08T12:06:04.680Z"
   },
   {
    "duration": 9,
    "start_time": "2023-02-08T12:06:17.680Z"
   },
   {
    "duration": 17,
    "start_time": "2023-02-08T12:06:33.587Z"
   },
   {
    "duration": 2,
    "start_time": "2023-02-08T12:06:58.420Z"
   },
   {
    "duration": 3,
    "start_time": "2023-02-08T12:07:01.460Z"
   },
   {
    "duration": 3,
    "start_time": "2023-02-08T12:07:02.549Z"
   },
   {
    "duration": 24,
    "start_time": "2023-02-08T12:07:06.477Z"
   },
   {
    "duration": 221,
    "start_time": "2023-02-08T12:07:07.362Z"
   },
   {
    "duration": 3,
    "start_time": "2023-02-08T12:07:08.317Z"
   },
   {
    "duration": 3,
    "start_time": "2023-02-08T12:07:09.371Z"
   },
   {
    "duration": 3,
    "start_time": "2023-02-08T12:07:10.226Z"
   },
   {
    "duration": 21,
    "start_time": "2023-02-08T12:07:13.217Z"
   },
   {
    "duration": 2,
    "start_time": "2023-02-08T12:07:15.205Z"
   },
   {
    "duration": 12,
    "start_time": "2023-02-08T12:07:16.304Z"
   },
   {
    "duration": 10,
    "start_time": "2023-02-08T12:07:30.661Z"
   },
   {
    "duration": 12,
    "start_time": "2023-02-08T12:07:39.034Z"
   },
   {
    "duration": 4,
    "start_time": "2023-02-08T12:08:32.707Z"
   },
   {
    "duration": 4,
    "start_time": "2023-02-08T12:09:11.346Z"
   },
   {
    "duration": 4,
    "start_time": "2023-02-08T12:09:25.305Z"
   },
   {
    "duration": 5,
    "start_time": "2023-02-08T12:09:34.630Z"
   },
   {
    "duration": 12,
    "start_time": "2023-02-08T12:11:26.863Z"
   },
   {
    "duration": 11,
    "start_time": "2023-02-08T12:11:30.826Z"
   },
   {
    "duration": 3,
    "start_time": "2023-02-08T12:22:25.610Z"
   },
   {
    "duration": 5,
    "start_time": "2023-02-08T12:22:44.899Z"
   },
   {
    "duration": 3,
    "start_time": "2023-02-08T12:23:43.180Z"
   },
   {
    "duration": 3,
    "start_time": "2023-02-08T12:24:39.984Z"
   },
   {
    "duration": 4,
    "start_time": "2023-02-08T12:24:58.455Z"
   },
   {
    "duration": 13,
    "start_time": "2023-02-08T12:29:28.212Z"
   },
   {
    "duration": 11,
    "start_time": "2023-02-08T12:29:37.274Z"
   },
   {
    "duration": 239,
    "start_time": "2023-02-08T12:29:49.301Z"
   },
   {
    "duration": 1646,
    "start_time": "2023-02-08T17:30:24.498Z"
   },
   {
    "duration": 2395,
    "start_time": "2023-02-08T17:30:26.146Z"
   },
   {
    "duration": 25,
    "start_time": "2023-02-08T17:30:28.543Z"
   },
   {
    "duration": 20,
    "start_time": "2023-02-08T17:30:29.148Z"
   },
   {
    "duration": 34,
    "start_time": "2023-02-08T17:30:30.975Z"
   },
   {
    "duration": 2,
    "start_time": "2023-02-08T17:30:32.487Z"
   },
   {
    "duration": 3,
    "start_time": "2023-02-08T17:30:34.285Z"
   },
   {
    "duration": 3,
    "start_time": "2023-02-08T17:30:34.856Z"
   },
   {
    "duration": 12,
    "start_time": "2023-02-08T17:30:35.739Z"
   },
   {
    "duration": 258,
    "start_time": "2023-02-08T17:30:37.385Z"
   },
   {
    "duration": 3,
    "start_time": "2023-02-08T17:30:39.421Z"
   },
   {
    "duration": 3,
    "start_time": "2023-02-08T17:30:40.588Z"
   },
   {
    "duration": 2,
    "start_time": "2023-02-08T17:30:41.426Z"
   },
   {
    "duration": 32,
    "start_time": "2023-02-08T17:30:42.968Z"
   },
   {
    "duration": 5,
    "start_time": "2023-02-08T17:30:44.701Z"
   },
   {
    "duration": 4,
    "start_time": "2023-02-08T17:30:45.985Z"
   },
   {
    "duration": 3,
    "start_time": "2023-02-08T17:30:47.521Z"
   },
   {
    "duration": 2,
    "start_time": "2023-02-08T17:30:49.518Z"
   },
   {
    "duration": 4,
    "start_time": "2023-02-08T17:30:52.527Z"
   },
   {
    "duration": 5,
    "start_time": "2023-02-08T17:36:31.930Z"
   },
   {
    "duration": 125,
    "start_time": "2023-02-08T17:45:09.261Z"
   },
   {
    "duration": 37,
    "start_time": "2023-02-08T17:45:33.381Z"
   },
   {
    "duration": 14,
    "start_time": "2023-02-08T17:45:48.756Z"
   },
   {
    "duration": 5,
    "start_time": "2023-02-08T17:46:05.874Z"
   },
   {
    "duration": 6,
    "start_time": "2023-02-08T17:46:26.258Z"
   },
   {
    "duration": 4,
    "start_time": "2023-02-08T17:47:24.684Z"
   },
   {
    "duration": 8,
    "start_time": "2023-02-08T17:47:34.524Z"
   },
   {
    "duration": 414,
    "start_time": "2023-02-08T17:51:32.075Z"
   },
   {
    "duration": 413,
    "start_time": "2023-02-08T17:54:06.389Z"
   },
   {
    "duration": 318,
    "start_time": "2023-02-08T17:55:05.249Z"
   },
   {
    "duration": 320,
    "start_time": "2023-02-08T17:55:10.426Z"
   },
   {
    "duration": 379,
    "start_time": "2023-02-08T17:55:34.157Z"
   },
   {
    "duration": 348,
    "start_time": "2023-02-08T17:58:10.580Z"
   },
   {
    "duration": 462,
    "start_time": "2023-02-08T18:01:24.623Z"
   },
   {
    "duration": 335,
    "start_time": "2023-02-08T18:01:31.820Z"
   },
   {
    "duration": 8,
    "start_time": "2023-02-08T18:04:53.550Z"
   },
   {
    "duration": 9,
    "start_time": "2023-02-08T18:05:37.209Z"
   },
   {
    "duration": 344,
    "start_time": "2023-02-08T18:06:49.614Z"
   },
   {
    "duration": 354,
    "start_time": "2023-02-08T18:07:07.172Z"
   },
   {
    "duration": 13,
    "start_time": "2023-02-08T18:10:11.789Z"
   },
   {
    "duration": 8,
    "start_time": "2023-02-08T18:10:21.360Z"
   },
   {
    "duration": 9,
    "start_time": "2023-02-08T18:10:36.305Z"
   },
   {
    "duration": 7,
    "start_time": "2023-02-08T18:11:33.538Z"
   },
   {
    "duration": 8,
    "start_time": "2023-02-08T18:11:35.462Z"
   },
   {
    "duration": 346,
    "start_time": "2023-02-08T18:12:56.846Z"
   },
   {
    "duration": 8,
    "start_time": "2023-02-08T18:17:29.560Z"
   },
   {
    "duration": 10,
    "start_time": "2023-02-08T18:17:31.564Z"
   },
   {
    "duration": 105,
    "start_time": "2023-02-08T18:35:15.419Z"
   },
   {
    "duration": 909,
    "start_time": "2023-02-08T18:35:35.348Z"
   },
   {
    "duration": 930,
    "start_time": "2023-02-08T18:37:40.022Z"
   },
   {
    "duration": 946,
    "start_time": "2023-02-08T18:37:51.426Z"
   },
   {
    "duration": 66,
    "start_time": "2023-02-08T18:39:34.569Z"
   },
   {
    "duration": 8,
    "start_time": "2023-02-08T18:39:45.918Z"
   },
   {
    "duration": 18,
    "start_time": "2023-02-08T18:39:54.989Z"
   },
   {
    "duration": 919,
    "start_time": "2023-02-08T18:40:35.279Z"
   },
   {
    "duration": 3,
    "start_time": "2023-02-08T18:43:05.850Z"
   },
   {
    "duration": 4,
    "start_time": "2023-02-08T18:43:14.026Z"
   },
   {
    "duration": 11,
    "start_time": "2023-02-08T18:44:32.949Z"
   },
   {
    "duration": 8,
    "start_time": "2023-02-08T19:10:06.745Z"
   },
   {
    "duration": 12,
    "start_time": "2023-02-08T19:10:55.978Z"
   },
   {
    "duration": 744,
    "start_time": "2023-02-08T19:12:19.514Z"
   },
   {
    "duration": 824,
    "start_time": "2023-02-08T19:13:13.784Z"
   },
   {
    "duration": 861,
    "start_time": "2023-02-08T19:14:59.087Z"
   },
   {
    "duration": 7,
    "start_time": "2023-02-08T19:20:07.953Z"
   },
   {
    "duration": 8,
    "start_time": "2023-02-08T19:21:45.709Z"
   },
   {
    "duration": 14,
    "start_time": "2023-02-08T19:28:43.177Z"
   },
   {
    "duration": 6,
    "start_time": "2023-02-08T19:28:50.033Z"
   },
   {
    "duration": 6,
    "start_time": "2023-02-08T19:30:21.780Z"
   },
   {
    "duration": 6,
    "start_time": "2023-02-08T19:30:53.576Z"
   },
   {
    "duration": 7,
    "start_time": "2023-02-08T19:31:06.722Z"
   },
   {
    "duration": 6,
    "start_time": "2023-02-08T19:31:43.324Z"
   },
   {
    "duration": 11,
    "start_time": "2023-02-08T19:32:04.391Z"
   },
   {
    "duration": 8,
    "start_time": "2023-02-08T19:32:28.988Z"
   },
   {
    "duration": 5,
    "start_time": "2023-02-08T19:32:35.942Z"
   },
   {
    "duration": 2,
    "start_time": "2023-02-08T19:33:27.140Z"
   },
   {
    "duration": 3,
    "start_time": "2023-02-08T19:42:37.153Z"
   },
   {
    "duration": 452,
    "start_time": "2023-02-08T19:53:19.569Z"
   },
   {
    "duration": 11,
    "start_time": "2023-02-08T19:53:30.467Z"
   },
   {
    "duration": 427,
    "start_time": "2023-02-08T19:55:21.012Z"
   },
   {
    "duration": 11,
    "start_time": "2023-02-08T19:55:37.173Z"
   },
   {
    "duration": 481,
    "start_time": "2023-02-08T19:56:38.134Z"
   },
   {
    "duration": 4,
    "start_time": "2023-02-08T20:02:46.549Z"
   },
   {
    "duration": 45,
    "start_time": "2023-02-08T20:03:00.428Z"
   },
   {
    "duration": 837,
    "start_time": "2023-02-08T20:03:20.987Z"
   },
   {
    "duration": 3,
    "start_time": "2023-02-08T20:05:06.153Z"
   },
   {
    "duration": 1893,
    "start_time": "2023-02-08T20:05:06.928Z"
   },
   {
    "duration": 25,
    "start_time": "2023-02-08T20:05:08.823Z"
   },
   {
    "duration": 24,
    "start_time": "2023-02-08T20:05:09.132Z"
   },
   {
    "duration": 21,
    "start_time": "2023-02-08T20:05:10.728Z"
   },
   {
    "duration": 2,
    "start_time": "2023-02-08T20:05:12.283Z"
   },
   {
    "duration": 3,
    "start_time": "2023-02-08T20:05:13.081Z"
   },
   {
    "duration": 3,
    "start_time": "2023-02-08T20:05:13.758Z"
   },
   {
    "duration": 13,
    "start_time": "2023-02-08T20:05:14.552Z"
   },
   {
    "duration": 236,
    "start_time": "2023-02-08T20:05:15.882Z"
   },
   {
    "duration": 2,
    "start_time": "2023-02-08T20:05:17.832Z"
   },
   {
    "duration": 3,
    "start_time": "2023-02-08T20:05:18.678Z"
   },
   {
    "duration": 2,
    "start_time": "2023-02-08T20:05:19.376Z"
   },
   {
    "duration": 25,
    "start_time": "2023-02-08T20:05:20.148Z"
   },
   {
    "duration": 2,
    "start_time": "2023-02-08T20:05:20.944Z"
   },
   {
    "duration": 4,
    "start_time": "2023-02-08T20:05:22.128Z"
   },
   {
    "duration": 7,
    "start_time": "2023-02-08T20:05:23.094Z"
   },
   {
    "duration": 8,
    "start_time": "2023-02-08T20:05:24.219Z"
   },
   {
    "duration": 2,
    "start_time": "2023-02-08T20:05:37.564Z"
   },
   {
    "duration": 3,
    "start_time": "2023-02-08T20:05:39.252Z"
   },
   {
    "duration": 7,
    "start_time": "2023-02-08T20:05:47.345Z"
   },
   {
    "duration": 11,
    "start_time": "2023-02-08T20:05:51.838Z"
   },
   {
    "duration": 3,
    "start_time": "2023-02-08T20:05:55.248Z"
   },
   {
    "duration": 325,
    "start_time": "2023-02-08T20:06:09.809Z"
   },
   {
    "duration": 8,
    "start_time": "2023-02-08T20:06:17.255Z"
   },
   {
    "duration": 8,
    "start_time": "2023-02-08T20:06:19.178Z"
   },
   {
    "duration": 340,
    "start_time": "2023-02-08T20:06:20.949Z"
   },
   {
    "duration": 8,
    "start_time": "2023-02-08T20:06:33.843Z"
   },
   {
    "duration": 8,
    "start_time": "2023-02-08T20:06:35.584Z"
   },
   {
    "duration": 347,
    "start_time": "2023-02-08T20:06:37.187Z"
   },
   {
    "duration": 9,
    "start_time": "2023-02-08T20:06:40.954Z"
   },
   {
    "duration": 7,
    "start_time": "2023-02-08T20:06:42.469Z"
   },
   {
    "duration": 461,
    "start_time": "2023-02-08T20:06:46.344Z"
   },
   {
    "duration": 15,
    "start_time": "2023-02-08T20:06:47.308Z"
   },
   {
    "duration": 504,
    "start_time": "2023-02-08T20:06:49.008Z"
   },
   {
    "duration": 13,
    "start_time": "2023-02-08T20:06:50.878Z"
   },
   {
    "duration": 5,
    "start_time": "2023-02-08T20:07:02.136Z"
   },
   {
    "duration": 5,
    "start_time": "2023-02-08T20:07:20.846Z"
   },
   {
    "duration": 3,
    "start_time": "2023-02-08T20:07:33.834Z"
   },
   {
    "duration": 367,
    "start_time": "2023-02-08T20:09:59.763Z"
   },
   {
    "duration": 459,
    "start_time": "2023-02-08T20:10:45.375Z"
   },
   {
    "duration": 5,
    "start_time": "2023-02-08T20:16:20.028Z"
   },
   {
    "duration": 4,
    "start_time": "2023-02-08T20:18:45.728Z"
   },
   {
    "duration": 335,
    "start_time": "2023-02-08T20:18:48.501Z"
   },
   {
    "duration": 371,
    "start_time": "2023-02-08T20:19:02.036Z"
   },
   {
    "duration": 5,
    "start_time": "2023-02-08T20:22:14.254Z"
   },
   {
    "duration": 328,
    "start_time": "2023-02-08T20:23:54.128Z"
   },
   {
    "duration": 8,
    "start_time": "2023-02-08T20:35:08.093Z"
   },
   {
    "duration": 6,
    "start_time": "2023-02-08T20:35:55.231Z"
   },
   {
    "duration": 13,
    "start_time": "2023-02-08T20:39:52.356Z"
   },
   {
    "duration": 21,
    "start_time": "2023-02-08T20:47:16.246Z"
   },
   {
    "duration": 16,
    "start_time": "2023-02-08T20:47:22.902Z"
   },
   {
    "duration": 13,
    "start_time": "2023-02-08T20:55:48.867Z"
   },
   {
    "duration": 3,
    "start_time": "2023-02-08T21:04:59.398Z"
   },
   {
    "duration": 1634,
    "start_time": "2023-02-10T08:29:42.551Z"
   },
   {
    "duration": 2252,
    "start_time": "2023-02-10T08:29:45.312Z"
   },
   {
    "duration": 28,
    "start_time": "2023-02-10T08:29:49.979Z"
   },
   {
    "duration": 19,
    "start_time": "2023-02-10T08:29:52.256Z"
   },
   {
    "duration": 20,
    "start_time": "2023-02-10T08:29:53.492Z"
   },
   {
    "duration": 3,
    "start_time": "2023-02-10T08:29:55.052Z"
   },
   {
    "duration": 3,
    "start_time": "2023-02-10T08:29:55.652Z"
   },
   {
    "duration": 3,
    "start_time": "2023-02-10T08:29:56.456Z"
   },
   {
    "duration": 13,
    "start_time": "2023-02-10T08:29:56.973Z"
   },
   {
    "duration": 247,
    "start_time": "2023-02-10T08:29:58.168Z"
   },
   {
    "duration": 2,
    "start_time": "2023-02-10T08:30:00.056Z"
   },
   {
    "duration": 3,
    "start_time": "2023-02-10T08:30:01.887Z"
   },
   {
    "duration": 2,
    "start_time": "2023-02-10T08:30:02.471Z"
   },
   {
    "duration": 55,
    "start_time": "2023-02-10T08:30:03.373Z"
   },
   {
    "duration": 2,
    "start_time": "2023-02-10T08:30:04.452Z"
   },
   {
    "duration": 5,
    "start_time": "2023-02-10T08:30:06.253Z"
   },
   {
    "duration": 3,
    "start_time": "2023-02-10T08:30:07.906Z"
   },
   {
    "duration": 2,
    "start_time": "2023-02-10T08:30:09.006Z"
   },
   {
    "duration": 7,
    "start_time": "2023-02-10T08:30:12.154Z"
   },
   {
    "duration": 9,
    "start_time": "2023-02-10T08:30:24.654Z"
   },
   {
    "duration": 12,
    "start_time": "2023-02-10T08:30:29.678Z"
   },
   {
    "duration": 7,
    "start_time": "2023-02-10T08:30:37.234Z"
   },
   {
    "duration": 352,
    "start_time": "2023-02-10T08:30:48.692Z"
   },
   {
    "duration": 8,
    "start_time": "2023-02-10T08:30:51.926Z"
   },
   {
    "duration": 16,
    "start_time": "2023-02-10T08:30:53.024Z"
   },
   {
    "duration": 409,
    "start_time": "2023-02-10T08:30:53.877Z"
   },
   {
    "duration": 7,
    "start_time": "2023-02-10T08:30:56.555Z"
   },
   {
    "duration": 8,
    "start_time": "2023-02-10T08:30:58.079Z"
   },
   {
    "duration": 392,
    "start_time": "2023-02-10T08:30:59.645Z"
   },
   {
    "duration": 7,
    "start_time": "2023-02-10T08:31:03.430Z"
   },
   {
    "duration": 7,
    "start_time": "2023-02-10T08:31:05.888Z"
   },
   {
    "duration": 371,
    "start_time": "2023-02-10T08:31:11.158Z"
   },
   {
    "duration": 11,
    "start_time": "2023-02-10T08:31:12.972Z"
   },
   {
    "duration": 430,
    "start_time": "2023-02-10T08:31:14.707Z"
   },
   {
    "duration": 11,
    "start_time": "2023-02-10T08:31:16.496Z"
   },
   {
    "duration": 5,
    "start_time": "2023-02-10T08:31:22.518Z"
   },
   {
    "duration": 341,
    "start_time": "2023-02-10T08:31:23.927Z"
   },
   {
    "duration": 5,
    "start_time": "2023-02-10T08:31:25.899Z"
   },
   {
    "duration": 2,
    "start_time": "2023-02-10T08:31:27.247Z"
   },
   {
    "duration": 317,
    "start_time": "2023-02-10T08:31:29.113Z"
   },
   {
    "duration": 5,
    "start_time": "2023-02-10T08:31:31.055Z"
   },
   {
    "duration": 411,
    "start_time": "2023-02-10T08:31:32.191Z"
   },
   {
    "duration": 6,
    "start_time": "2023-02-10T08:31:38.245Z"
   },
   {
    "duration": 2,
    "start_time": "2023-02-10T08:31:40.455Z"
   },
   {
    "duration": 6,
    "start_time": "2023-02-10T08:32:02.254Z"
   },
   {
    "duration": 2,
    "start_time": "2023-02-10T08:32:03.803Z"
   },
   {
    "duration": 31,
    "start_time": "2023-02-10T08:32:21.023Z"
   },
   {
    "duration": 3,
    "start_time": "2023-02-10T08:33:26.056Z"
   },
   {
    "duration": 113,
    "start_time": "2023-02-10T08:34:02.512Z"
   },
   {
    "duration": 3,
    "start_time": "2023-02-10T08:34:12.577Z"
   },
   {
    "duration": 3,
    "start_time": "2023-02-10T08:35:04.386Z"
   },
   {
    "duration": 3,
    "start_time": "2023-02-10T08:35:48.542Z"
   },
   {
    "duration": 3,
    "start_time": "2023-02-10T08:35:49.951Z"
   },
   {
    "duration": 11,
    "start_time": "2023-02-10T09:01:47.740Z"
   },
   {
    "duration": 7,
    "start_time": "2023-02-10T09:02:03.609Z"
   },
   {
    "duration": 176,
    "start_time": "2023-02-10T09:14:11.709Z"
   },
   {
    "duration": 10,
    "start_time": "2023-02-10T09:15:51.645Z"
   },
   {
    "duration": 3,
    "start_time": "2023-02-10T09:16:07.359Z"
   },
   {
    "duration": 4,
    "start_time": "2023-02-10T09:16:15.564Z"
   },
   {
    "duration": 9,
    "start_time": "2023-02-10T09:16:27.441Z"
   },
   {
    "duration": 8,
    "start_time": "2023-02-10T09:17:00.332Z"
   },
   {
    "duration": 3,
    "start_time": "2023-02-10T09:17:10.990Z"
   },
   {
    "duration": 4,
    "start_time": "2023-02-10T09:17:49.550Z"
   },
   {
    "duration": 5,
    "start_time": "2023-02-10T09:17:59.211Z"
   },
   {
    "duration": 45,
    "start_time": "2023-02-10T09:19:33.088Z"
   },
   {
    "duration": 8,
    "start_time": "2023-02-10T09:19:39.308Z"
   },
   {
    "duration": 4,
    "start_time": "2023-02-10T09:19:50.645Z"
   },
   {
    "duration": 4,
    "start_time": "2023-02-10T09:19:55.407Z"
   },
   {
    "duration": 5,
    "start_time": "2023-02-10T09:19:57.099Z"
   },
   {
    "duration": 5,
    "start_time": "2023-02-10T09:19:57.940Z"
   },
   {
    "duration": 56,
    "start_time": "2023-02-10T09:20:07.786Z"
   },
   {
    "duration": 3,
    "start_time": "2023-02-10T09:20:17.805Z"
   },
   {
    "duration": 11,
    "start_time": "2023-02-10T09:20:29.092Z"
   },
   {
    "duration": 5,
    "start_time": "2023-02-10T09:20:30.104Z"
   },
   {
    "duration": 37,
    "start_time": "2023-02-10T09:20:32.103Z"
   },
   {
    "duration": 3,
    "start_time": "2023-02-10T09:20:55.614Z"
   },
   {
    "duration": 5,
    "start_time": "2023-02-10T09:28:23.018Z"
   },
   {
    "duration": 3,
    "start_time": "2023-02-10T09:29:21.890Z"
   },
   {
    "duration": 13,
    "start_time": "2023-02-10T09:30:22.943Z"
   },
   {
    "duration": 13,
    "start_time": "2023-02-10T09:38:30.369Z"
   },
   {
    "duration": 6,
    "start_time": "2023-02-10T09:42:01.470Z"
   },
   {
    "duration": 10,
    "start_time": "2023-02-10T09:43:05.497Z"
   },
   {
    "duration": 4,
    "start_time": "2023-02-10T09:43:07.401Z"
   },
   {
    "duration": 2048,
    "start_time": "2023-02-10T09:47:30.485Z"
   },
   {
    "duration": 3898,
    "start_time": "2023-02-10T09:47:46.039Z"
   },
   {
    "duration": 2051,
    "start_time": "2023-02-10T09:49:13.382Z"
   },
   {
    "duration": 3,
    "start_time": "2023-02-10T09:52:14.583Z"
   },
   {
    "duration": 3,
    "start_time": "2023-02-10T09:52:15.585Z"
   },
   {
    "duration": 3,
    "start_time": "2023-02-10T09:52:17.322Z"
   },
   {
    "duration": 21,
    "start_time": "2023-02-10T09:55:22.504Z"
   },
   {
    "duration": 16,
    "start_time": "2023-02-10T09:56:23.707Z"
   },
   {
    "duration": 16,
    "start_time": "2023-02-10T09:57:18.930Z"
   },
   {
    "duration": 18,
    "start_time": "2023-02-10T10:06:34.690Z"
   },
   {
    "duration": 16,
    "start_time": "2023-02-10T10:08:02.156Z"
   },
   {
    "duration": 75,
    "start_time": "2023-02-10T10:11:45.537Z"
   },
   {
    "duration": 3,
    "start_time": "2023-02-10T10:18:18.108Z"
   },
   {
    "duration": 15,
    "start_time": "2023-02-10T10:19:02.155Z"
   },
   {
    "duration": 3,
    "start_time": "2023-02-10T10:20:13.113Z"
   },
   {
    "duration": 20,
    "start_time": "2023-02-10T10:21:31.151Z"
   },
   {
    "duration": 4,
    "start_time": "2023-02-10T10:23:36.880Z"
   },
   {
    "duration": 21,
    "start_time": "2023-02-10T10:23:40.755Z"
   },
   {
    "duration": 4,
    "start_time": "2023-02-10T10:29:08.789Z"
   },
   {
    "duration": 3,
    "start_time": "2023-02-10T10:29:11.165Z"
   },
   {
    "duration": 3,
    "start_time": "2023-02-10T10:29:12.020Z"
   },
   {
    "duration": 16,
    "start_time": "2023-02-10T10:29:13.278Z"
   },
   {
    "duration": 15,
    "start_time": "2023-02-10T10:35:36.943Z"
   },
   {
    "duration": 15,
    "start_time": "2023-02-10T10:36:08.405Z"
   },
   {
    "duration": 15,
    "start_time": "2023-02-10T10:37:44.868Z"
   },
   {
    "duration": 21,
    "start_time": "2023-02-10T10:38:11.521Z"
   },
   {
    "duration": 15,
    "start_time": "2023-02-10T10:50:19.554Z"
   },
   {
    "duration": 69,
    "start_time": "2023-02-10T11:00:14.675Z"
   },
   {
    "duration": 4,
    "start_time": "2023-02-10T11:00:44.118Z"
   },
   {
    "duration": 2307,
    "start_time": "2023-02-10T11:00:44.766Z"
   },
   {
    "duration": 20,
    "start_time": "2023-02-10T11:00:47.075Z"
   },
   {
    "duration": 19,
    "start_time": "2023-02-10T11:00:47.097Z"
   },
   {
    "duration": 30,
    "start_time": "2023-02-10T11:00:47.119Z"
   },
   {
    "duration": 2,
    "start_time": "2023-02-10T11:00:47.354Z"
   },
   {
    "duration": 4,
    "start_time": "2023-02-10T11:00:47.948Z"
   },
   {
    "duration": 3,
    "start_time": "2023-02-10T11:00:48.468Z"
   },
   {
    "duration": 18,
    "start_time": "2023-02-10T11:00:49.021Z"
   },
   {
    "duration": 282,
    "start_time": "2023-02-10T11:00:50.295Z"
   },
   {
    "duration": 2,
    "start_time": "2023-02-10T11:00:51.479Z"
   },
   {
    "duration": 2,
    "start_time": "2023-02-10T11:00:51.991Z"
   },
   {
    "duration": 2,
    "start_time": "2023-02-10T11:00:52.455Z"
   },
   {
    "duration": 19,
    "start_time": "2023-02-10T11:00:52.459Z"
   },
   {
    "duration": 2,
    "start_time": "2023-02-10T11:00:52.480Z"
   },
   {
    "duration": 4,
    "start_time": "2023-02-10T11:00:52.656Z"
   },
   {
    "duration": 3,
    "start_time": "2023-02-10T11:00:53.187Z"
   },
   {
    "duration": 2,
    "start_time": "2023-02-10T11:00:53.651Z"
   },
   {
    "duration": 3,
    "start_time": "2023-02-10T11:00:54.164Z"
   },
   {
    "duration": 8,
    "start_time": "2023-02-10T11:00:56.487Z"
   },
   {
    "duration": 10,
    "start_time": "2023-02-10T11:00:57.807Z"
   },
   {
    "duration": 3,
    "start_time": "2023-02-10T11:00:58.248Z"
   },
   {
    "duration": 356,
    "start_time": "2023-02-10T11:00:59.167Z"
   },
   {
    "duration": 9,
    "start_time": "2023-02-10T11:00:59.996Z"
   },
   {
    "duration": 9,
    "start_time": "2023-02-10T11:01:00.406Z"
   },
   {
    "duration": 363,
    "start_time": "2023-02-10T11:01:00.896Z"
   },
   {
    "duration": 16,
    "start_time": "2023-02-10T11:01:01.726Z"
   },
   {
    "duration": 9,
    "start_time": "2023-02-10T11:01:02.149Z"
   },
   {
    "duration": 378,
    "start_time": "2023-02-10T11:01:02.606Z"
   },
   {
    "duration": 8,
    "start_time": "2023-02-10T11:01:03.457Z"
   },
   {
    "duration": 7,
    "start_time": "2023-02-10T11:01:03.817Z"
   },
   {
    "duration": 450,
    "start_time": "2023-02-10T11:01:05.108Z"
   },
   {
    "duration": 12,
    "start_time": "2023-02-10T11:01:05.559Z"
   },
   {
    "duration": 397,
    "start_time": "2023-02-10T11:01:05.867Z"
   },
   {
    "duration": 11,
    "start_time": "2023-02-10T11:01:06.276Z"
   },
   {
    "duration": 5,
    "start_time": "2023-02-10T11:01:07.951Z"
   },
   {
    "duration": 464,
    "start_time": "2023-02-10T11:01:08.359Z"
   },
   {
    "duration": 11,
    "start_time": "2023-02-10T11:01:08.824Z"
   },
   {
    "duration": 3,
    "start_time": "2023-02-10T11:01:09.157Z"
   },
   {
    "duration": 348,
    "start_time": "2023-02-10T11:01:09.528Z"
   },
   {
    "duration": 4,
    "start_time": "2023-02-10T11:01:09.908Z"
   },
   {
    "duration": 408,
    "start_time": "2023-02-10T11:01:10.287Z"
   },
   {
    "duration": 6,
    "start_time": "2023-02-10T11:01:11.557Z"
   },
   {
    "duration": 2,
    "start_time": "2023-02-10T11:01:11.877Z"
   },
   {
    "duration": 18,
    "start_time": "2023-02-10T11:01:12.277Z"
   },
   {
    "duration": 7,
    "start_time": "2023-02-10T11:01:14.440Z"
   },
   {
    "duration": 3,
    "start_time": "2023-02-10T11:01:14.857Z"
   },
   {
    "duration": 3,
    "start_time": "2023-02-10T11:01:15.696Z"
   },
   {
    "duration": 6,
    "start_time": "2023-02-10T11:01:16.496Z"
   },
   {
    "duration": 5,
    "start_time": "2023-02-10T11:01:16.886Z"
   },
   {
    "duration": 3,
    "start_time": "2023-02-10T11:01:17.256Z"
   },
   {
    "duration": 5,
    "start_time": "2023-02-10T11:01:17.851Z"
   },
   {
    "duration": 4,
    "start_time": "2023-02-10T11:01:18.727Z"
   },
   {
    "duration": 3,
    "start_time": "2023-02-10T11:01:19.251Z"
   },
   {
    "duration": 12,
    "start_time": "2023-02-10T11:01:19.758Z"
   },
   {
    "duration": 5,
    "start_time": "2023-02-10T11:01:20.217Z"
   },
   {
    "duration": 4,
    "start_time": "2023-02-10T11:01:20.717Z"
   },
   {
    "duration": 3,
    "start_time": "2023-02-10T11:01:21.107Z"
   },
   {
    "duration": 3,
    "start_time": "2023-02-10T11:01:21.978Z"
   },
   {
    "duration": 15,
    "start_time": "2023-02-10T11:01:23.651Z"
   },
   {
    "duration": 17,
    "start_time": "2023-02-10T11:02:05.006Z"
   },
   {
    "duration": 3,
    "start_time": "2023-02-10T11:09:25.257Z"
   },
   {
    "duration": 3,
    "start_time": "2023-02-10T11:09:39.097Z"
   },
   {
    "duration": 11,
    "start_time": "2023-02-10T11:12:27.874Z"
   },
   {
    "duration": 11,
    "start_time": "2023-02-10T11:14:21.737Z"
   },
   {
    "duration": 11,
    "start_time": "2023-02-10T11:15:46.247Z"
   },
   {
    "duration": 247,
    "start_time": "2023-02-10T11:18:01.314Z"
   },
   {
    "duration": 522,
    "start_time": "2023-02-10T11:18:23.716Z"
   },
   {
    "duration": 327,
    "start_time": "2023-02-10T11:18:33.524Z"
   },
   {
    "duration": 4,
    "start_time": "2023-02-10T11:26:51.756Z"
   },
   {
    "duration": 4,
    "start_time": "2023-02-10T11:26:51.840Z"
   },
   {
    "duration": 4,
    "start_time": "2023-02-10T11:27:22.575Z"
   },
   {
    "duration": 608,
    "start_time": "2023-02-10T11:27:55.398Z"
   },
   {
    "duration": 1581,
    "start_time": "2023-02-10T11:28:17.355Z"
   },
   {
    "duration": 1644,
    "start_time": "2023-02-10T11:37:40.188Z"
   },
   {
    "duration": 1388,
    "start_time": "2023-02-10T11:38:11.743Z"
   },
   {
    "duration": 3,
    "start_time": "2023-02-10T11:38:56.678Z"
   },
   {
    "duration": 3,
    "start_time": "2023-02-10T11:38:57.997Z"
   },
   {
    "duration": 3,
    "start_time": "2023-02-10T11:38:59.774Z"
   },
   {
    "duration": 1790,
    "start_time": "2023-02-10T11:39:00.538Z"
   },
   {
    "duration": 5,
    "start_time": "2023-02-10T11:45:01.281Z"
   },
   {
    "duration": 3,
    "start_time": "2023-02-10T11:46:35.259Z"
   },
   {
    "duration": 4,
    "start_time": "2023-02-10T11:46:36.327Z"
   },
   {
    "duration": 4,
    "start_time": "2023-02-10T11:46:59.471Z"
   },
   {
    "duration": 1581,
    "start_time": "2023-02-10T11:47:18.550Z"
   },
   {
    "duration": 1602,
    "start_time": "2023-02-10T11:48:21.637Z"
   },
   {
    "duration": 3766,
    "start_time": "2023-02-10T11:48:34.372Z"
   },
   {
    "duration": 1469,
    "start_time": "2023-02-10T11:48:46.364Z"
   },
   {
    "duration": 1710,
    "start_time": "2023-02-10T11:48:52.119Z"
   },
   {
    "duration": 4,
    "start_time": "2023-02-10T11:52:31.985Z"
   },
   {
    "duration": 1885,
    "start_time": "2023-02-10T11:52:37.542Z"
   },
   {
    "duration": 4,
    "start_time": "2023-02-10T11:53:40.993Z"
   },
   {
    "duration": 3,
    "start_time": "2023-02-10T11:54:13.796Z"
   },
   {
    "duration": 3,
    "start_time": "2023-02-10T11:54:37.115Z"
   },
   {
    "duration": 1802,
    "start_time": "2023-02-10T11:55:25.229Z"
   },
   {
    "duration": 1584,
    "start_time": "2023-02-10T12:03:15.748Z"
   },
   {
    "duration": 1187,
    "start_time": "2023-02-10T12:04:28.348Z"
   },
   {
    "duration": 1432,
    "start_time": "2023-02-10T12:05:44.599Z"
   },
   {
    "duration": 1121,
    "start_time": "2023-02-10T12:06:15.262Z"
   },
   {
    "duration": 2982,
    "start_time": "2023-02-10T12:06:35.513Z"
   },
   {
    "duration": 3017,
    "start_time": "2023-02-10T12:07:09.905Z"
   },
   {
    "duration": 2322,
    "start_time": "2023-02-10T12:10:12.977Z"
   },
   {
    "duration": 3678,
    "start_time": "2023-02-10T12:10:23.658Z"
   },
   {
    "duration": 11,
    "start_time": "2023-02-10T12:17:38.487Z"
   },
   {
    "duration": 0,
    "start_time": "2023-02-10T12:18:35.240Z"
   },
   {
    "duration": 0,
    "start_time": "2023-02-10T12:18:35.241Z"
   },
   {
    "duration": 39664,
    "start_time": "2023-02-10T12:19:31.913Z"
   },
   {
    "duration": 10,
    "start_time": "2023-02-10T12:20:11.579Z"
   },
   {
    "duration": 4,
    "start_time": "2023-02-10T12:59:09.638Z"
   },
   {
    "duration": 45079,
    "start_time": "2023-02-10T13:02:04.989Z"
   },
   {
    "duration": 4,
    "start_time": "2023-02-10T13:03:10.810Z"
   },
   {
    "duration": 4,
    "start_time": "2023-02-10T13:04:07.431Z"
   },
   {
    "duration": 11,
    "start_time": "2023-02-10T13:11:39.140Z"
   },
   {
    "duration": 30145,
    "start_time": "2023-02-10T13:11:52.268Z"
   },
   {
    "duration": 29923,
    "start_time": "2023-02-10T13:12:40.578Z"
   },
   {
    "duration": 5,
    "start_time": "2023-02-10T13:13:54.944Z"
   },
   {
    "duration": 3,
    "start_time": "2023-02-10T13:20:42.786Z"
   },
   {
    "duration": 28677,
    "start_time": "2023-02-10T13:20:49.596Z"
   },
   {
    "duration": 71130,
    "start_time": "2023-02-10T13:23:01.027Z"
   },
   {
    "duration": 550,
    "start_time": "2023-02-10T13:24:15.499Z"
   },
   {
    "duration": 0,
    "start_time": "2023-02-10T13:25:33.015Z"
   },
   {
    "duration": 70043,
    "start_time": "2023-02-10T13:25:35.286Z"
   },
   {
    "duration": 7,
    "start_time": "2023-02-10T16:02:39.396Z"
   },
   {
    "duration": 1352,
    "start_time": "2023-02-10T16:02:53.480Z"
   },
   {
    "duration": 743,
    "start_time": "2023-02-10T16:02:54.834Z"
   },
   {
    "duration": 25,
    "start_time": "2023-02-10T16:02:55.578Z"
   },
   {
    "duration": 28,
    "start_time": "2023-02-10T16:02:57.217Z"
   },
   {
    "duration": 22,
    "start_time": "2023-02-10T16:02:57.978Z"
   },
   {
    "duration": 2,
    "start_time": "2023-02-10T16:02:58.789Z"
   },
   {
    "duration": 3,
    "start_time": "2023-02-10T16:02:59.628Z"
   },
   {
    "duration": 3,
    "start_time": "2023-02-10T16:03:00.736Z"
   },
   {
    "duration": 14,
    "start_time": "2023-02-10T16:03:01.495Z"
   },
   {
    "duration": 244,
    "start_time": "2023-02-10T16:03:02.769Z"
   },
   {
    "duration": 2,
    "start_time": "2023-02-10T16:03:03.591Z"
   },
   {
    "duration": 2,
    "start_time": "2023-02-10T16:03:04.686Z"
   },
   {
    "duration": 3,
    "start_time": "2023-02-10T16:03:05.440Z"
   },
   {
    "duration": 21,
    "start_time": "2023-02-10T16:03:05.952Z"
   },
   {
    "duration": 2,
    "start_time": "2023-02-10T16:03:14.447Z"
   },
   {
    "duration": 4,
    "start_time": "2023-02-10T16:03:15.270Z"
   },
   {
    "duration": 3,
    "start_time": "2023-02-10T16:03:16.039Z"
   },
   {
    "duration": 2,
    "start_time": "2023-02-10T16:03:16.797Z"
   },
   {
    "duration": 3,
    "start_time": "2023-02-10T16:03:17.508Z"
   },
   {
    "duration": 8,
    "start_time": "2023-02-10T16:03:22.739Z"
   },
   {
    "duration": 11,
    "start_time": "2023-02-10T16:03:25.887Z"
   },
   {
    "duration": 2,
    "start_time": "2023-02-10T16:03:26.674Z"
   },
   {
    "duration": 358,
    "start_time": "2023-02-10T16:03:28.400Z"
   },
   {
    "duration": 8,
    "start_time": "2023-02-10T16:03:29.789Z"
   },
   {
    "duration": 11,
    "start_time": "2023-02-10T16:03:30.419Z"
   },
   {
    "duration": 419,
    "start_time": "2023-02-10T16:03:31.079Z"
   },
   {
    "duration": 7,
    "start_time": "2023-02-10T16:03:32.452Z"
   },
   {
    "duration": 7,
    "start_time": "2023-02-10T16:03:33.399Z"
   },
   {
    "duration": 352,
    "start_time": "2023-02-10T16:03:34.054Z"
   },
   {
    "duration": 7,
    "start_time": "2023-02-10T16:03:35.389Z"
   },
   {
    "duration": 7,
    "start_time": "2023-02-10T16:03:36.041Z"
   },
   {
    "duration": 467,
    "start_time": "2023-02-10T16:03:38.069Z"
   },
   {
    "duration": 10,
    "start_time": "2023-02-10T16:03:38.741Z"
   },
   {
    "duration": 505,
    "start_time": "2023-02-10T16:03:39.439Z"
   },
   {
    "duration": 11,
    "start_time": "2023-02-10T16:03:40.045Z"
   },
   {
    "duration": 5,
    "start_time": "2023-02-10T16:03:42.574Z"
   },
   {
    "duration": 333,
    "start_time": "2023-02-10T16:03:43.851Z"
   },
   {
    "duration": 5,
    "start_time": "2023-02-10T16:03:44.589Z"
   },
   {
    "duration": 2,
    "start_time": "2023-02-10T16:03:45.308Z"
   },
   {
    "duration": 327,
    "start_time": "2023-02-10T16:03:45.947Z"
   },
   {
    "duration": 5,
    "start_time": "2023-02-10T16:03:46.601Z"
   },
   {
    "duration": 359,
    "start_time": "2023-02-10T16:03:47.295Z"
   },
   {
    "duration": 7,
    "start_time": "2023-02-10T16:03:50.696Z"
   },
   {
    "duration": 3,
    "start_time": "2023-02-10T16:03:51.651Z"
   },
   {
    "duration": 17,
    "start_time": "2023-02-10T16:03:52.241Z"
   },
   {
    "duration": 3,
    "start_time": "2023-02-10T16:03:56.279Z"
   },
   {
    "duration": 3,
    "start_time": "2023-02-10T16:03:57.172Z"
   },
   {
    "duration": 2,
    "start_time": "2023-02-10T16:03:59.783Z"
   },
   {
    "duration": 9,
    "start_time": "2023-02-10T16:04:02.012Z"
   },
   {
    "duration": 7,
    "start_time": "2023-02-10T16:04:02.718Z"
   },
   {
    "duration": 3,
    "start_time": "2023-02-10T16:04:03.199Z"
   },
   {
    "duration": 7,
    "start_time": "2023-02-10T16:04:03.878Z"
   },
   {
    "duration": 5,
    "start_time": "2023-02-10T16:04:04.439Z"
   },
   {
    "duration": 3,
    "start_time": "2023-02-10T16:04:04.988Z"
   },
   {
    "duration": 14,
    "start_time": "2023-02-10T16:04:05.568Z"
   },
   {
    "duration": 4,
    "start_time": "2023-02-10T16:04:06.652Z"
   },
   {
    "duration": 2,
    "start_time": "2023-02-10T16:04:07.300Z"
   },
   {
    "duration": 3,
    "start_time": "2023-02-10T16:04:07.809Z"
   },
   {
    "duration": 3,
    "start_time": "2023-02-10T16:04:08.442Z"
   },
   {
    "duration": 3,
    "start_time": "2023-02-10T16:04:09.101Z"
   },
   {
    "duration": 1504,
    "start_time": "2023-02-10T16:04:11.625Z"
   },
   {
    "duration": 112,
    "start_time": "2023-02-10T16:04:14.838Z"
   },
   {
    "duration": 3895,
    "start_time": "2023-02-10T16:04:48.178Z"
   },
   {
    "duration": 1039,
    "start_time": "2023-02-10T16:05:17.104Z"
   },
   {
    "duration": 3781,
    "start_time": "2023-02-10T16:05:21.388Z"
   },
   {
    "duration": 4456,
    "start_time": "2023-02-10T16:05:25.171Z"
   },
   {
    "duration": 41549,
    "start_time": "2023-02-10T16:06:02.822Z"
   },
   {
    "duration": 3,
    "start_time": "2023-02-10T16:06:44.373Z"
   },
   {
    "duration": 3,
    "start_time": "2023-02-10T16:06:50.518Z"
   },
   {
    "duration": 70842,
    "start_time": "2023-02-10T16:09:23.547Z"
   },
   {
    "duration": 73895,
    "start_time": "2023-02-10T16:10:34.391Z"
   },
   {
    "duration": 2,
    "start_time": "2023-02-10T16:11:48.288Z"
   },
   {
    "duration": 7,
    "start_time": "2023-02-10T16:11:48.292Z"
   },
   {
    "duration": 21,
    "start_time": "2023-02-10T16:11:48.301Z"
   },
   {
    "duration": 0,
    "start_time": "2023-02-10T16:11:48.324Z"
   },
   {
    "duration": 0,
    "start_time": "2023-02-10T16:11:48.325Z"
   },
   {
    "duration": 75773,
    "start_time": "2023-02-10T16:17:53.807Z"
   },
   {
    "duration": 3,
    "start_time": "2023-02-10T16:19:09.582Z"
   },
   {
    "duration": 8,
    "start_time": "2023-02-10T16:19:09.586Z"
   },
   {
    "duration": 11,
    "start_time": "2023-02-10T16:21:37.241Z"
   },
   {
    "duration": 3,
    "start_time": "2023-02-10T16:27:31.170Z"
   },
   {
    "duration": 2,
    "start_time": "2023-02-10T16:27:32.403Z"
   },
   {
    "duration": 10,
    "start_time": "2023-02-10T16:27:35.547Z"
   },
   {
    "duration": 4,
    "start_time": "2023-02-10T16:27:58.644Z"
   },
   {
    "duration": 9,
    "start_time": "2023-02-10T16:28:03.216Z"
   },
   {
    "duration": 4,
    "start_time": "2023-02-10T16:28:17.081Z"
   },
   {
    "duration": 4,
    "start_time": "2023-02-10T16:28:26.803Z"
   },
   {
    "duration": 4,
    "start_time": "2023-02-10T16:29:26.927Z"
   },
   {
    "duration": 35632,
    "start_time": "2023-02-10T16:29:44.698Z"
   },
   {
    "duration": 11,
    "start_time": "2023-02-10T16:32:21.164Z"
   },
   {
    "duration": 8,
    "start_time": "2023-02-10T16:32:32.847Z"
   },
   {
    "duration": 2,
    "start_time": "2023-02-10T16:37:15.884Z"
   },
   {
    "duration": 3,
    "start_time": "2023-02-10T16:38:24.957Z"
   },
   {
    "duration": 1435,
    "start_time": "2023-02-10T16:39:17.803Z"
   },
   {
    "duration": 3826,
    "start_time": "2023-02-10T16:39:50.576Z"
   },
   {
    "duration": 4382,
    "start_time": "2023-02-10T16:40:04.139Z"
   },
   {
    "duration": 3,
    "start_time": "2023-02-10T16:41:44.096Z"
   },
   {
    "duration": 34921,
    "start_time": "2023-02-10T16:42:27.753Z"
   },
   {
    "duration": 7,
    "start_time": "2023-02-10T16:43:02.677Z"
   },
   {
    "duration": 1234,
    "start_time": "2023-02-10T19:32:54.394Z"
   },
   {
    "duration": 2995,
    "start_time": "2023-02-10T19:32:55.631Z"
   },
   {
    "duration": 30,
    "start_time": "2023-02-10T19:32:58.628Z"
   },
   {
    "duration": 22,
    "start_time": "2023-02-10T19:32:58.661Z"
   },
   {
    "duration": 21,
    "start_time": "2023-02-10T19:32:58.685Z"
   },
   {
    "duration": 5,
    "start_time": "2023-02-10T19:32:58.708Z"
   },
   {
    "duration": 5,
    "start_time": "2023-02-10T19:32:58.715Z"
   },
   {
    "duration": 4,
    "start_time": "2023-02-10T19:32:58.722Z"
   },
   {
    "duration": 20,
    "start_time": "2023-02-10T19:32:58.750Z"
   },
   {
    "duration": 296,
    "start_time": "2023-02-10T19:32:58.774Z"
   },
   {
    "duration": 3,
    "start_time": "2023-02-10T19:32:59.071Z"
   },
   {
    "duration": 14,
    "start_time": "2023-02-10T19:32:59.076Z"
   },
   {
    "duration": 5,
    "start_time": "2023-02-10T19:32:59.094Z"
   },
   {
    "duration": 27,
    "start_time": "2023-02-10T19:32:59.101Z"
   },
   {
    "duration": 2,
    "start_time": "2023-02-10T19:32:59.130Z"
   },
   {
    "duration": 15,
    "start_time": "2023-02-10T19:32:59.134Z"
   },
   {
    "duration": 10,
    "start_time": "2023-02-10T19:32:59.151Z"
   },
   {
    "duration": 17,
    "start_time": "2023-02-10T19:32:59.163Z"
   },
   {
    "duration": 12,
    "start_time": "2023-02-10T19:32:59.182Z"
   },
   {
    "duration": 18,
    "start_time": "2023-02-10T19:32:59.197Z"
   },
   {
    "duration": 15,
    "start_time": "2023-02-10T19:32:59.217Z"
   },
   {
    "duration": 3,
    "start_time": "2023-02-10T19:32:59.234Z"
   },
   {
    "duration": 329,
    "start_time": "2023-02-10T19:32:59.239Z"
   },
   {
    "duration": 7,
    "start_time": "2023-02-10T19:32:59.570Z"
   },
   {
    "duration": 10,
    "start_time": "2023-02-10T19:32:59.578Z"
   },
   {
    "duration": 356,
    "start_time": "2023-02-10T19:32:59.590Z"
   },
   {
    "duration": 9,
    "start_time": "2023-02-10T19:32:59.948Z"
   },
   {
    "duration": 10,
    "start_time": "2023-02-10T19:32:59.961Z"
   },
   {
    "duration": 426,
    "start_time": "2023-02-10T19:32:59.973Z"
   },
   {
    "duration": 7,
    "start_time": "2023-02-10T19:33:00.401Z"
   },
   {
    "duration": 19,
    "start_time": "2023-02-10T19:33:00.410Z"
   },
   {
    "duration": 425,
    "start_time": "2023-02-10T19:33:00.430Z"
   },
   {
    "duration": 14,
    "start_time": "2023-02-10T19:33:00.857Z"
   },
   {
    "duration": 493,
    "start_time": "2023-02-10T19:33:00.874Z"
   },
   {
    "duration": 14,
    "start_time": "2023-02-10T19:33:01.369Z"
   },
   {
    "duration": 6,
    "start_time": "2023-02-10T19:33:01.385Z"
   },
   {
    "duration": 363,
    "start_time": "2023-02-10T19:33:01.393Z"
   },
   {
    "duration": 4,
    "start_time": "2023-02-10T19:33:01.759Z"
   },
   {
    "duration": 17,
    "start_time": "2023-02-10T19:33:01.765Z"
   },
   {
    "duration": 365,
    "start_time": "2023-02-10T19:33:01.784Z"
   },
   {
    "duration": 5,
    "start_time": "2023-02-10T19:33:02.150Z"
   },
   {
    "duration": 345,
    "start_time": "2023-02-10T19:33:02.156Z"
   },
   {
    "duration": 8,
    "start_time": "2023-02-10T19:33:02.502Z"
   },
   {
    "duration": 15,
    "start_time": "2023-02-10T19:33:02.511Z"
   },
   {
    "duration": 32,
    "start_time": "2023-02-10T19:33:02.528Z"
   },
   {
    "duration": 2,
    "start_time": "2023-02-10T19:33:02.562Z"
   },
   {
    "duration": 11,
    "start_time": "2023-02-10T19:33:02.568Z"
   },
   {
    "duration": 5,
    "start_time": "2023-02-10T19:33:02.581Z"
   },
   {
    "duration": 16,
    "start_time": "2023-02-10T19:33:02.588Z"
   },
   {
    "duration": 12,
    "start_time": "2023-02-10T19:33:02.606Z"
   },
   {
    "duration": 4,
    "start_time": "2023-02-10T19:33:02.619Z"
   },
   {
    "duration": 14,
    "start_time": "2023-02-10T19:33:02.624Z"
   },
   {
    "duration": 4,
    "start_time": "2023-02-10T19:33:02.648Z"
   },
   {
    "duration": 6,
    "start_time": "2023-02-10T19:33:02.655Z"
   },
   {
    "duration": 18,
    "start_time": "2023-02-10T19:33:02.663Z"
   },
   {
    "duration": 9,
    "start_time": "2023-02-10T19:33:02.683Z"
   },
   {
    "duration": 24,
    "start_time": "2023-02-10T19:33:02.694Z"
   },
   {
    "duration": 3,
    "start_time": "2023-02-10T19:40:43.988Z"
   },
   {
    "duration": 4,
    "start_time": "2023-02-10T19:40:44.591Z"
   },
   {
    "duration": 4,
    "start_time": "2023-02-10T19:40:45.355Z"
   },
   {
    "duration": 4,
    "start_time": "2023-02-10T19:41:00.123Z"
   },
   {
    "duration": 36349,
    "start_time": "2023-02-10T19:41:03.325Z"
   },
   {
    "duration": 5,
    "start_time": "2023-02-10T19:42:31.222Z"
   },
   {
    "duration": 1845,
    "start_time": "2023-02-11T09:33:45.146Z"
   },
   {
    "duration": 4180,
    "start_time": "2023-02-11T09:33:46.994Z"
   },
   {
    "duration": 34,
    "start_time": "2023-02-11T09:33:51.176Z"
   },
   {
    "duration": 29,
    "start_time": "2023-02-11T09:33:51.212Z"
   },
   {
    "duration": 17,
    "start_time": "2023-02-11T09:33:51.244Z"
   },
   {
    "duration": 7,
    "start_time": "2023-02-11T09:33:51.262Z"
   },
   {
    "duration": 4,
    "start_time": "2023-02-11T09:33:51.271Z"
   },
   {
    "duration": 5,
    "start_time": "2023-02-11T09:33:51.277Z"
   },
   {
    "duration": 16,
    "start_time": "2023-02-11T09:33:51.411Z"
   },
   {
    "duration": 265,
    "start_time": "2023-02-11T09:33:52.742Z"
   },
   {
    "duration": 2,
    "start_time": "2023-02-11T09:33:53.014Z"
   },
   {
    "duration": 3,
    "start_time": "2023-02-11T09:33:53.244Z"
   },
   {
    "duration": 3,
    "start_time": "2023-02-11T09:33:54.177Z"
   },
   {
    "duration": 33,
    "start_time": "2023-02-11T09:33:54.669Z"
   },
   {
    "duration": 2,
    "start_time": "2023-02-11T09:33:56.719Z"
   },
   {
    "duration": 3,
    "start_time": "2023-02-11T09:33:57.938Z"
   },
   {
    "duration": 4,
    "start_time": "2023-02-11T09:33:58.519Z"
   },
   {
    "duration": 4,
    "start_time": "2023-02-11T09:33:59.085Z"
   },
   {
    "duration": 9,
    "start_time": "2023-02-11T09:33:59.713Z"
   },
   {
    "duration": 8,
    "start_time": "2023-02-11T09:34:02.548Z"
   },
   {
    "duration": 13,
    "start_time": "2023-02-11T09:34:05.416Z"
   },
   {
    "duration": 2,
    "start_time": "2023-02-11T09:34:06.306Z"
   },
   {
    "duration": 376,
    "start_time": "2023-02-11T09:34:07.479Z"
   },
   {
    "duration": 14,
    "start_time": "2023-02-11T09:34:08.813Z"
   },
   {
    "duration": 7,
    "start_time": "2023-02-11T09:34:09.532Z"
   },
   {
    "duration": 426,
    "start_time": "2023-02-11T09:34:10.105Z"
   },
   {
    "duration": 8,
    "start_time": "2023-02-11T09:34:11.216Z"
   },
   {
    "duration": 9,
    "start_time": "2023-02-11T09:34:11.809Z"
   },
   {
    "duration": 354,
    "start_time": "2023-02-11T09:34:12.265Z"
   },
   {
    "duration": 7,
    "start_time": "2023-02-11T09:34:14.825Z"
   },
   {
    "duration": 9,
    "start_time": "2023-02-11T09:34:15.916Z"
   },
   {
    "duration": 464,
    "start_time": "2023-02-11T09:34:19.321Z"
   },
   {
    "duration": 11,
    "start_time": "2023-02-11T09:34:21.774Z"
   },
   {
    "duration": 450,
    "start_time": "2023-02-11T09:34:22.664Z"
   },
   {
    "duration": 12,
    "start_time": "2023-02-11T09:34:23.467Z"
   },
   {
    "duration": 5,
    "start_time": "2023-02-11T09:34:27.017Z"
   },
   {
    "duration": 364,
    "start_time": "2023-02-11T09:34:27.821Z"
   },
   {
    "duration": 5,
    "start_time": "2023-02-11T09:34:29.273Z"
   },
   {
    "duration": 4,
    "start_time": "2023-02-11T09:34:29.890Z"
   },
   {
    "duration": 401,
    "start_time": "2023-02-11T09:34:30.517Z"
   },
   {
    "duration": 5,
    "start_time": "2023-02-11T09:34:31.143Z"
   },
   {
    "duration": 484,
    "start_time": "2023-02-11T09:34:31.750Z"
   },
   {
    "duration": 5,
    "start_time": "2023-02-11T09:34:32.874Z"
   },
   {
    "duration": 3,
    "start_time": "2023-02-11T09:34:33.472Z"
   },
   {
    "duration": 18,
    "start_time": "2023-02-11T09:34:34.024Z"
   },
   {
    "duration": 4,
    "start_time": "2023-02-11T09:34:39.312Z"
   },
   {
    "duration": 3,
    "start_time": "2023-02-11T09:34:40.116Z"
   },
   {
    "duration": 3,
    "start_time": "2023-02-11T09:34:40.758Z"
   },
   {
    "duration": 11,
    "start_time": "2023-02-11T09:34:42.890Z"
   },
   {
    "duration": 7,
    "start_time": "2023-02-11T09:34:43.541Z"
   },
   {
    "duration": 5,
    "start_time": "2023-02-11T09:34:44.089Z"
   },
   {
    "duration": 7,
    "start_time": "2023-02-11T09:34:44.577Z"
   },
   {
    "duration": 9,
    "start_time": "2023-02-11T09:34:45.313Z"
   },
   {
    "duration": 2,
    "start_time": "2023-02-11T09:34:45.916Z"
   },
   {
    "duration": 16,
    "start_time": "2023-02-11T09:34:46.350Z"
   },
   {
    "duration": 4,
    "start_time": "2023-02-11T09:34:46.840Z"
   },
   {
    "duration": 14,
    "start_time": "2023-02-11T09:34:47.316Z"
   },
   {
    "duration": 3,
    "start_time": "2023-02-11T09:34:48.938Z"
   },
   {
    "duration": 5,
    "start_time": "2023-02-11T09:34:49.621Z"
   },
   {
    "duration": 8,
    "start_time": "2023-02-11T09:34:50.409Z"
   },
   {
    "duration": 4909,
    "start_time": "2023-02-11T09:35:03.385Z"
   },
   {
    "duration": 3822,
    "start_time": "2023-02-11T09:35:08.299Z"
   },
   {
    "duration": 4284,
    "start_time": "2023-02-11T09:35:12.133Z"
   },
   {
    "duration": 4770,
    "start_time": "2023-02-11T09:35:16.424Z"
   },
   {
    "duration": 44931,
    "start_time": "2023-02-11T09:35:21.195Z"
   },
   {
    "duration": 4,
    "start_time": "2023-02-11T09:36:06.127Z"
   },
   {
    "duration": 7,
    "start_time": "2023-02-11T09:36:06.132Z"
   },
   {
    "duration": 79876,
    "start_time": "2023-02-11T09:36:06.140Z"
   },
   {
    "duration": 83701,
    "start_time": "2023-02-11T09:37:26.018Z"
   },
   {
    "duration": 3,
    "start_time": "2023-02-11T09:38:49.722Z"
   },
   {
    "duration": 10,
    "start_time": "2023-02-11T09:38:49.727Z"
   },
   {
    "duration": 7,
    "start_time": "2023-02-11T09:38:49.739Z"
   },
   {
    "duration": 10,
    "start_time": "2023-02-11T09:38:49.748Z"
   },
   {
    "duration": 8,
    "start_time": "2023-02-11T09:38:49.760Z"
   },
   {
    "duration": 21,
    "start_time": "2023-02-11T09:38:49.770Z"
   },
   {
    "duration": 51,
    "start_time": "2023-02-11T09:38:49.794Z"
   },
   {
    "duration": 39404,
    "start_time": "2023-02-11T09:38:49.847Z"
   },
   {
    "duration": 5,
    "start_time": "2023-02-11T09:39:29.252Z"
   },
   {
    "duration": 5,
    "start_time": "2023-02-11T09:39:45.222Z"
   },
   {
    "duration": 5,
    "start_time": "2023-02-11T09:40:00.861Z"
   },
   {
    "duration": 4,
    "start_time": "2023-02-11T09:59:13.636Z"
   },
   {
    "duration": 5,
    "start_time": "2023-02-11T09:59:23.158Z"
   },
   {
    "duration": 8,
    "start_time": "2023-02-11T09:59:26.579Z"
   },
   {
    "duration": 1649,
    "start_time": "2023-02-12T14:20:01.867Z"
   },
   {
    "duration": 3111,
    "start_time": "2023-02-12T14:20:07.298Z"
   },
   {
    "duration": 28,
    "start_time": "2023-02-12T14:20:10.411Z"
   },
   {
    "duration": 27,
    "start_time": "2023-02-12T14:20:11.378Z"
   },
   {
    "duration": 22,
    "start_time": "2023-02-12T14:20:13.057Z"
   },
   {
    "duration": 4,
    "start_time": "2023-02-12T14:20:14.698Z"
   },
   {
    "duration": 2,
    "start_time": "2023-02-12T14:20:15.887Z"
   },
   {
    "duration": 3,
    "start_time": "2023-02-12T14:20:17.328Z"
   },
   {
    "duration": 12,
    "start_time": "2023-02-12T14:20:17.948Z"
   },
   {
    "duration": 287,
    "start_time": "2023-02-12T14:20:19.106Z"
   },
   {
    "duration": 3,
    "start_time": "2023-02-12T14:20:20.057Z"
   },
   {
    "duration": 3,
    "start_time": "2023-02-12T14:20:21.077Z"
   },
   {
    "duration": 3,
    "start_time": "2023-02-12T14:20:21.938Z"
   },
   {
    "duration": 22,
    "start_time": "2023-02-12T14:20:41.366Z"
   },
   {
    "duration": 2,
    "start_time": "2023-02-12T14:20:46.626Z"
   },
   {
    "duration": 4,
    "start_time": "2023-02-12T14:20:53.337Z"
   },
   {
    "duration": 3,
    "start_time": "2023-02-12T14:20:55.157Z"
   },
   {
    "duration": 5,
    "start_time": "2023-02-12T14:20:56.640Z"
   },
   {
    "duration": 27,
    "start_time": "2023-02-12T14:20:58.390Z"
   },
   {
    "duration": 10,
    "start_time": "2023-02-12T14:21:03.891Z"
   },
   {
    "duration": 13,
    "start_time": "2023-02-12T14:21:17.306Z"
   },
   {
    "duration": 2,
    "start_time": "2023-02-12T14:21:26.076Z"
   },
   {
    "duration": 343,
    "start_time": "2023-02-12T14:21:28.408Z"
   },
   {
    "duration": 8,
    "start_time": "2023-02-12T14:21:31.057Z"
   },
   {
    "duration": 7,
    "start_time": "2023-02-12T14:21:31.599Z"
   },
   {
    "duration": 374,
    "start_time": "2023-02-12T14:21:32.376Z"
   },
   {
    "duration": 8,
    "start_time": "2023-02-12T14:21:34.027Z"
   },
   {
    "duration": 9,
    "start_time": "2023-02-12T14:21:34.796Z"
   },
   {
    "duration": 334,
    "start_time": "2023-02-12T14:21:35.607Z"
   },
   {
    "duration": 8,
    "start_time": "2023-02-12T14:21:44.233Z"
   },
   {
    "duration": 8,
    "start_time": "2023-02-12T14:21:45.929Z"
   },
   {
    "duration": 516,
    "start_time": "2023-02-12T14:21:48.797Z"
   },
   {
    "duration": 14,
    "start_time": "2023-02-12T14:21:49.548Z"
   },
   {
    "duration": 529,
    "start_time": "2023-02-12T14:21:50.376Z"
   },
   {
    "duration": 10,
    "start_time": "2023-02-12T14:21:51.096Z"
   },
   {
    "duration": 4,
    "start_time": "2023-02-12T14:21:59.939Z"
   },
   {
    "duration": 319,
    "start_time": "2023-02-12T14:22:00.956Z"
   },
   {
    "duration": 214,
    "start_time": "2023-02-12T14:22:35.640Z"
   },
   {
    "duration": 5,
    "start_time": "2023-02-12T14:22:51.833Z"
   },
   {
    "duration": 3,
    "start_time": "2023-02-12T14:22:52.831Z"
   },
   {
    "duration": 289,
    "start_time": "2023-02-12T14:22:58.667Z"
   },
   {
    "duration": 5,
    "start_time": "2023-02-12T14:23:05.476Z"
   },
   {
    "duration": 416,
    "start_time": "2023-02-12T14:23:09.735Z"
   },
   {
    "duration": 7,
    "start_time": "2023-02-12T14:23:21.835Z"
   },
   {
    "duration": 5,
    "start_time": "2023-02-12T14:23:23.497Z"
   },
   {
    "duration": 18,
    "start_time": "2023-02-12T14:23:25.096Z"
   },
   {
    "duration": 3,
    "start_time": "2023-02-12T14:23:31.247Z"
   },
   {
    "duration": 3,
    "start_time": "2023-02-12T14:23:31.876Z"
   },
   {
    "duration": 3,
    "start_time": "2023-02-12T14:23:32.357Z"
   },
   {
    "duration": 8,
    "start_time": "2023-02-12T14:23:41.433Z"
   },
   {
    "duration": 7,
    "start_time": "2023-02-12T14:23:42.148Z"
   },
   {
    "duration": 3,
    "start_time": "2023-02-12T14:23:42.907Z"
   },
   {
    "duration": 7,
    "start_time": "2023-02-12T14:23:43.832Z"
   },
   {
    "duration": 4,
    "start_time": "2023-02-12T14:23:46.141Z"
   },
   {
    "duration": 2,
    "start_time": "2023-02-12T14:23:47.688Z"
   },
   {
    "duration": 17,
    "start_time": "2023-02-12T14:23:49.487Z"
   },
   {
    "duration": 4,
    "start_time": "2023-02-12T14:23:51.357Z"
   },
   {
    "duration": 19,
    "start_time": "2023-02-12T14:23:55.233Z"
   },
   {
    "duration": 3,
    "start_time": "2023-02-12T14:24:02.239Z"
   },
   {
    "duration": 12,
    "start_time": "2023-02-12T14:24:22.187Z"
   },
   {
    "duration": 15,
    "start_time": "2023-02-12T14:26:26.397Z"
   },
   {
    "duration": 4,
    "start_time": "2023-02-12T14:26:28.038Z"
   },
   {
    "duration": 13,
    "start_time": "2023-02-12T14:26:29.527Z"
   },
   {
    "duration": 16,
    "start_time": "2023-02-12T14:26:46.477Z"
   },
   {
    "duration": 13,
    "start_time": "2023-02-12T14:27:39.556Z"
   },
   {
    "duration": 10,
    "start_time": "2023-02-12T14:28:23.657Z"
   },
   {
    "duration": 4,
    "start_time": "2023-02-12T14:28:25.476Z"
   },
   {
    "duration": 12,
    "start_time": "2023-02-12T14:28:26.926Z"
   },
   {
    "duration": 2,
    "start_time": "2023-02-12T14:28:34.234Z"
   },
   {
    "duration": 3,
    "start_time": "2023-02-12T14:28:43.136Z"
   },
   {
    "duration": 4,
    "start_time": "2023-02-12T14:28:43.967Z"
   },
   {
    "duration": 3,
    "start_time": "2023-02-12T14:28:44.947Z"
   },
   {
    "duration": 1872,
    "start_time": "2023-02-12T14:28:51.827Z"
   },
   {
    "duration": 1256,
    "start_time": "2023-02-12T14:28:56.038Z"
   },
   {
    "duration": 3790,
    "start_time": "2023-02-12T14:29:05.397Z"
   },
   {
    "duration": 4505,
    "start_time": "2023-02-12T14:29:11.977Z"
   },
   {
    "duration": 40815,
    "start_time": "2023-02-12T14:29:19.687Z"
   },
   {
    "duration": 5,
    "start_time": "2023-02-12T14:30:04.387Z"
   },
   {
    "duration": 2,
    "start_time": "2023-02-12T14:30:15.437Z"
   },
   {
    "duration": 70245,
    "start_time": "2023-02-12T14:30:19.578Z"
   },
   {
    "duration": 75394,
    "start_time": "2023-02-12T14:31:34.137Z"
   },
   {
    "duration": 125,
    "start_time": "2023-02-12T14:33:45.546Z"
   },
   {
    "duration": 113207,
    "start_time": "2023-02-12T14:34:21.937Z"
   },
   {
    "duration": 4,
    "start_time": "2023-02-12T14:36:50.257Z"
   },
   {
    "duration": 4,
    "start_time": "2023-02-12T14:37:01.277Z"
   },
   {
    "duration": 4,
    "start_time": "2023-02-12T14:37:02.931Z"
   },
   {
    "duration": 4,
    "start_time": "2023-02-12T14:37:04.534Z"
   },
   {
    "duration": 3,
    "start_time": "2023-02-12T14:37:15.707Z"
   },
   {
    "duration": 3,
    "start_time": "2023-02-12T14:37:17.431Z"
   },
   {
    "duration": 36674,
    "start_time": "2023-02-12T14:37:23.553Z"
   },
   {
    "duration": 4,
    "start_time": "2023-02-12T14:38:00.229Z"
   },
   {
    "duration": 4,
    "start_time": "2023-02-12T14:38:06.106Z"
   },
   {
    "duration": 5,
    "start_time": "2023-02-12T14:38:08.030Z"
   },
   {
    "duration": 7,
    "start_time": "2023-02-12T14:38:11.968Z"
   },
   {
    "duration": 11,
    "start_time": "2023-02-12T14:43:44.586Z"
   },
   {
    "duration": 11,
    "start_time": "2023-02-12T14:44:40.066Z"
   },
   {
    "duration": 12,
    "start_time": "2023-02-12T14:44:56.185Z"
   },
   {
    "duration": 12,
    "start_time": "2023-02-12T14:45:09.676Z"
   },
   {
    "duration": 7,
    "start_time": "2023-02-12T14:45:19.532Z"
   },
   {
    "duration": 7,
    "start_time": "2023-02-12T14:45:24.450Z"
   },
   {
    "duration": 5,
    "start_time": "2023-02-12T14:45:45.032Z"
   },
   {
    "duration": 4,
    "start_time": "2023-02-12T14:49:24.956Z"
   },
   {
    "duration": 6,
    "start_time": "2023-02-12T14:51:15.127Z"
   },
   {
    "duration": 8,
    "start_time": "2023-02-12T14:51:16.187Z"
   },
   {
    "duration": 6,
    "start_time": "2023-02-12T14:51:17.327Z"
   },
   {
    "duration": 10,
    "start_time": "2023-02-12T14:51:37.523Z"
   },
   {
    "duration": 4,
    "start_time": "2023-02-12T14:51:39.039Z"
   },
   {
    "duration": 7,
    "start_time": "2023-02-12T14:52:01.077Z"
   },
   {
    "duration": 3,
    "start_time": "2023-02-12T14:52:02.167Z"
   },
   {
    "duration": 8,
    "start_time": "2023-02-12T14:54:22.703Z"
   },
   {
    "duration": 4,
    "start_time": "2023-02-12T14:54:47.557Z"
   },
   {
    "duration": 4,
    "start_time": "2023-02-12T14:56:13.340Z"
   },
   {
    "duration": 5,
    "start_time": "2023-02-12T14:56:28.453Z"
   },
   {
    "duration": 4,
    "start_time": "2023-02-12T14:56:34.435Z"
   },
   {
    "duration": 3,
    "start_time": "2023-02-12T14:57:09.278Z"
   },
   {
    "duration": 5,
    "start_time": "2023-02-12T15:17:41.559Z"
   },
   {
    "duration": 5,
    "start_time": "2023-02-12T15:17:57.168Z"
   },
   {
    "duration": 653,
    "start_time": "2023-02-12T15:18:03.309Z"
   },
   {
    "duration": 19,
    "start_time": "2023-02-12T15:18:04.617Z"
   },
   {
    "duration": 22,
    "start_time": "2023-02-12T15:18:05.799Z"
   },
   {
    "duration": 19,
    "start_time": "2023-02-12T15:18:07.169Z"
   },
   {
    "duration": 25,
    "start_time": "2023-02-12T15:18:13.169Z"
   },
   {
    "duration": 19,
    "start_time": "2023-02-12T15:18:28.359Z"
   },
   {
    "duration": 22,
    "start_time": "2023-02-12T15:18:37.852Z"
   },
   {
    "duration": 14,
    "start_time": "2023-02-12T15:18:56.160Z"
   },
   {
    "duration": 272,
    "start_time": "2023-02-12T15:18:58.860Z"
   },
   {
    "duration": 3,
    "start_time": "2023-02-12T15:19:01.158Z"
   },
   {
    "duration": 67,
    "start_time": "2023-02-12T15:19:11.168Z"
   },
   {
    "duration": 15,
    "start_time": "2023-02-12T15:19:43.809Z"
   },
   {
    "duration": 20,
    "start_time": "2023-02-12T15:20:02.858Z"
   },
   {
    "duration": 25,
    "start_time": "2023-02-12T15:20:05.278Z"
   },
   {
    "duration": 21,
    "start_time": "2023-02-12T15:20:19.459Z"
   },
   {
    "duration": 4,
    "start_time": "2023-02-12T15:20:23.869Z"
   },
   {
    "duration": 3,
    "start_time": "2023-02-12T15:20:27.109Z"
   },
   {
    "duration": 5,
    "start_time": "2023-02-12T15:20:28.657Z"
   },
   {
    "duration": 3,
    "start_time": "2023-02-12T15:20:30.327Z"
   },
   {
    "duration": 8,
    "start_time": "2023-02-12T15:20:38.358Z"
   },
   {
    "duration": 10,
    "start_time": "2023-02-12T15:22:33.128Z"
   },
   {
    "duration": 3,
    "start_time": "2023-02-12T15:22:35.827Z"
   },
   {
    "duration": 351,
    "start_time": "2023-02-12T15:22:39.917Z"
   },
   {
    "duration": 9,
    "start_time": "2023-02-12T15:22:43.218Z"
   },
   {
    "duration": 7,
    "start_time": "2023-02-12T15:22:44.253Z"
   },
   {
    "duration": 368,
    "start_time": "2023-02-12T15:22:45.668Z"
   },
   {
    "duration": 7,
    "start_time": "2023-02-12T15:22:50.118Z"
   },
   {
    "duration": 7,
    "start_time": "2023-02-12T15:22:51.969Z"
   },
   {
    "duration": 456,
    "start_time": "2023-02-12T15:22:52.957Z"
   },
   {
    "duration": 7,
    "start_time": "2023-02-12T15:23:00.209Z"
   },
   {
    "duration": 8,
    "start_time": "2023-02-12T15:23:02.255Z"
   },
   {
    "duration": 408,
    "start_time": "2023-02-12T15:23:07.728Z"
   },
   {
    "duration": 11,
    "start_time": "2023-02-12T15:23:09.517Z"
   },
   {
    "duration": 550,
    "start_time": "2023-02-12T15:23:11.178Z"
   },
   {
    "duration": 11,
    "start_time": "2023-02-12T15:23:13.018Z"
   },
   {
    "duration": 5,
    "start_time": "2023-02-12T15:23:21.258Z"
   },
   {
    "duration": 235,
    "start_time": "2023-02-12T15:23:22.768Z"
   },
   {
    "duration": 5,
    "start_time": "2023-02-12T15:23:38.449Z"
   },
   {
    "duration": 3,
    "start_time": "2023-02-12T15:23:39.479Z"
   },
   {
    "duration": 226,
    "start_time": "2023-02-12T15:23:56.505Z"
   },
   {
    "duration": 5,
    "start_time": "2023-02-12T15:24:09.453Z"
   },
   {
    "duration": 211,
    "start_time": "2023-02-12T15:24:33.820Z"
   },
   {
    "duration": 7,
    "start_time": "2023-02-12T15:28:36.308Z"
   },
   {
    "duration": 2,
    "start_time": "2023-02-12T15:28:37.255Z"
   },
   {
    "duration": 26,
    "start_time": "2023-02-12T15:28:38.477Z"
   },
   {
    "duration": 2,
    "start_time": "2023-02-12T15:28:45.005Z"
   },
   {
    "duration": 2,
    "start_time": "2023-02-12T15:28:45.729Z"
   },
   {
    "duration": 3,
    "start_time": "2023-02-12T15:28:46.417Z"
   },
   {
    "duration": 6,
    "start_time": "2023-02-12T15:28:48.807Z"
   },
   {
    "duration": 5,
    "start_time": "2023-02-12T15:28:50.051Z"
   },
   {
    "duration": 3,
    "start_time": "2023-02-12T15:28:51.508Z"
   },
   {
    "duration": 5,
    "start_time": "2023-02-12T15:28:54.827Z"
   },
   {
    "duration": 4,
    "start_time": "2023-02-12T15:28:55.928Z"
   },
   {
    "duration": 3,
    "start_time": "2023-02-12T15:28:57.418Z"
   },
   {
    "duration": 10,
    "start_time": "2023-02-12T15:28:58.255Z"
   },
   {
    "duration": 4,
    "start_time": "2023-02-12T15:28:59.207Z"
   },
   {
    "duration": 3,
    "start_time": "2023-02-12T15:29:00.712Z"
   },
   {
    "duration": 3,
    "start_time": "2023-02-12T15:29:03.917Z"
   },
   {
    "duration": 4,
    "start_time": "2023-02-12T15:29:04.752Z"
   },
   {
    "duration": 3,
    "start_time": "2023-02-12T15:29:05.951Z"
   },
   {
    "duration": 71,
    "start_time": "2023-02-12T15:30:10.877Z"
   },
   {
    "duration": 2073,
    "start_time": "2023-02-12T15:30:26.917Z"
   },
   {
    "duration": 1467,
    "start_time": "2023-02-12T15:30:30.131Z"
   },
   {
    "duration": 3985,
    "start_time": "2023-02-12T15:30:33.219Z"
   },
   {
    "duration": 4705,
    "start_time": "2023-02-12T15:30:37.206Z"
   },
   {
    "duration": 43445,
    "start_time": "2023-02-12T15:31:40.463Z"
   },
   {
    "duration": 4,
    "start_time": "2023-02-12T15:32:30.477Z"
   },
   {
    "duration": 2,
    "start_time": "2023-02-12T15:32:45.217Z"
   },
   {
    "duration": 73376,
    "start_time": "2023-02-12T15:32:47.858Z"
   },
   {
    "duration": 75471,
    "start_time": "2023-02-12T15:34:20.101Z"
   },
   {
    "duration": 118309,
    "start_time": "2023-02-12T15:37:41.239Z"
   },
   {
    "duration": 4,
    "start_time": "2023-02-12T15:40:01.555Z"
   },
   {
    "duration": 4,
    "start_time": "2023-02-12T15:40:09.351Z"
   },
   {
    "duration": 4,
    "start_time": "2023-02-12T15:40:11.017Z"
   },
   {
    "duration": 3,
    "start_time": "2023-02-12T15:40:12.559Z"
   },
   {
    "duration": 3,
    "start_time": "2023-02-12T15:40:15.957Z"
   },
   {
    "duration": 3,
    "start_time": "2023-02-12T15:40:17.467Z"
   },
   {
    "duration": 39122,
    "start_time": "2023-02-12T15:40:23.027Z"
   },
   {
    "duration": 4,
    "start_time": "2023-02-12T15:41:02.151Z"
   },
   {
    "duration": 4,
    "start_time": "2023-02-12T15:41:26.928Z"
   },
   {
    "duration": 4,
    "start_time": "2023-02-12T15:41:27.952Z"
   },
   {
    "duration": 8,
    "start_time": "2023-02-12T15:41:36.418Z"
   },
   {
    "duration": 2,
    "start_time": "2023-02-12T15:41:41.557Z"
   },
   {
    "duration": 7,
    "start_time": "2023-02-12T15:41:42.508Z"
   },
   {
    "duration": 3,
    "start_time": "2023-02-12T15:41:45.787Z"
   },
   {
    "duration": 2276,
    "start_time": "2023-02-13T13:44:10.715Z"
   },
   {
    "duration": 2985,
    "start_time": "2023-02-13T13:44:12.993Z"
   },
   {
    "duration": 23,
    "start_time": "2023-02-13T13:44:15.980Z"
   },
   {
    "duration": 18,
    "start_time": "2023-02-13T13:44:16.004Z"
   },
   {
    "duration": 18,
    "start_time": "2023-02-13T13:44:16.024Z"
   },
   {
    "duration": 19,
    "start_time": "2023-02-13T13:44:16.044Z"
   },
   {
    "duration": 37,
    "start_time": "2023-02-13T13:44:16.065Z"
   },
   {
    "duration": 17,
    "start_time": "2023-02-13T13:44:16.103Z"
   },
   {
    "duration": 12,
    "start_time": "2023-02-13T13:44:16.122Z"
   },
   {
    "duration": 291,
    "start_time": "2023-02-13T13:44:16.136Z"
   },
   {
    "duration": 77,
    "start_time": "2023-02-13T13:44:16.429Z"
   },
   {
    "duration": 16,
    "start_time": "2023-02-13T13:44:16.508Z"
   },
   {
    "duration": 21,
    "start_time": "2023-02-13T13:44:16.525Z"
   },
   {
    "duration": 43,
    "start_time": "2023-02-13T13:44:16.549Z"
   },
   {
    "duration": 19,
    "start_time": "2023-02-13T13:44:16.593Z"
   },
   {
    "duration": 3,
    "start_time": "2023-02-13T13:44:16.614Z"
   },
   {
    "duration": 5,
    "start_time": "2023-02-13T13:44:16.618Z"
   },
   {
    "duration": 7,
    "start_time": "2023-02-13T13:44:16.625Z"
   },
   {
    "duration": 7,
    "start_time": "2023-02-13T13:44:16.633Z"
   },
   {
    "duration": 9,
    "start_time": "2023-02-13T13:44:16.641Z"
   },
   {
    "duration": 11,
    "start_time": "2023-02-13T13:44:16.651Z"
   },
   {
    "duration": 2,
    "start_time": "2023-02-13T13:44:16.664Z"
   },
   {
    "duration": 360,
    "start_time": "2023-02-13T13:44:16.667Z"
   },
   {
    "duration": 7,
    "start_time": "2023-02-13T13:44:17.029Z"
   },
   {
    "duration": 26,
    "start_time": "2023-02-13T13:44:17.037Z"
   },
   {
    "duration": 374,
    "start_time": "2023-02-13T13:44:17.065Z"
   },
   {
    "duration": 7,
    "start_time": "2023-02-13T13:44:17.440Z"
   },
   {
    "duration": 9,
    "start_time": "2023-02-13T13:44:17.449Z"
   },
   {
    "duration": 338,
    "start_time": "2023-02-13T13:44:17.459Z"
   },
   {
    "duration": 7,
    "start_time": "2023-02-13T13:44:17.798Z"
   },
   {
    "duration": 15,
    "start_time": "2023-02-13T13:44:17.806Z"
   },
   {
    "duration": 468,
    "start_time": "2023-02-13T13:44:17.823Z"
   },
   {
    "duration": 12,
    "start_time": "2023-02-13T13:44:18.292Z"
   },
   {
    "duration": 392,
    "start_time": "2023-02-13T13:44:18.306Z"
   },
   {
    "duration": 10,
    "start_time": "2023-02-13T13:44:18.700Z"
   },
   {
    "duration": 4,
    "start_time": "2023-02-13T13:44:18.712Z"
   },
   {
    "duration": 201,
    "start_time": "2023-02-13T13:44:18.717Z"
   },
   {
    "duration": 4,
    "start_time": "2023-02-13T13:44:18.919Z"
   },
   {
    "duration": 7,
    "start_time": "2023-02-13T13:44:18.925Z"
   },
   {
    "duration": 192,
    "start_time": "2023-02-13T13:44:18.933Z"
   },
   {
    "duration": 5,
    "start_time": "2023-02-13T13:44:19.128Z"
   },
   {
    "duration": 200,
    "start_time": "2023-02-13T13:44:19.134Z"
   },
   {
    "duration": 5,
    "start_time": "2023-02-13T13:44:19.336Z"
   },
   {
    "duration": 7,
    "start_time": "2023-02-13T13:44:19.342Z"
   },
   {
    "duration": 19,
    "start_time": "2023-02-13T13:44:19.350Z"
   },
   {
    "duration": 2,
    "start_time": "2023-02-13T13:44:19.371Z"
   },
   {
    "duration": 3,
    "start_time": "2023-02-13T13:44:19.391Z"
   },
   {
    "duration": 9,
    "start_time": "2023-02-13T13:44:19.395Z"
   },
   {
    "duration": 19,
    "start_time": "2023-02-13T13:44:19.405Z"
   },
   {
    "duration": 30,
    "start_time": "2023-02-13T13:44:19.426Z"
   },
   {
    "duration": 19,
    "start_time": "2023-02-13T13:44:19.457Z"
   },
   {
    "duration": 37,
    "start_time": "2023-02-13T13:44:19.477Z"
   },
   {
    "duration": 14,
    "start_time": "2023-02-13T13:44:19.515Z"
   },
   {
    "duration": 18,
    "start_time": "2023-02-13T13:44:19.530Z"
   },
   {
    "duration": 24,
    "start_time": "2023-02-13T13:44:19.550Z"
   },
   {
    "duration": 13,
    "start_time": "2023-02-13T13:44:19.576Z"
   },
   {
    "duration": 43,
    "start_time": "2023-02-13T13:44:19.591Z"
   }
  ],
  "kernelspec": {
   "display_name": "Python 3 (ipykernel)",
   "language": "python",
   "name": "python3"
  },
  "language_info": {
   "codemirror_mode": {
    "name": "ipython",
    "version": 3
   },
   "file_extension": ".py",
   "mimetype": "text/x-python",
   "name": "python",
   "nbconvert_exporter": "python",
   "pygments_lexer": "ipython3",
   "version": "3.9.5"
  },
  "toc": {
   "base_numbering": 1,
   "nav_menu": {},
   "number_sections": true,
   "sideBar": true,
   "skip_h1_title": true,
   "title_cell": "Содержание",
   "title_sidebar": "Contents",
   "toc_cell": true,
   "toc_position": {
    "height": "calc(100% - 180px)",
    "left": "10px",
    "top": "150px",
    "width": "165px"
   },
   "toc_section_display": true,
   "toc_window_display": true
  }
 },
 "nbformat": 4,
 "nbformat_minor": 2
}
